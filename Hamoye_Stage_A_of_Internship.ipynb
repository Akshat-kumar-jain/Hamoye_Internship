{
  "nbformat": 4,
  "nbformat_minor": 0,
  "metadata": {
    "kernelspec": {
      "display_name": "Python 3",
      "language": "python",
      "name": "python3"
    },
    "language_info": {
      "codemirror_mode": {
        "name": "ipython",
        "version": 3
      },
      "file_extension": ".py",
      "mimetype": "text/x-python",
      "name": "python",
      "nbconvert_exporter": "python",
      "pygments_lexer": "ipython3",
      "version": "3.8.3"
    },
    "colab": {
      "name": "Hamoye_Stage_A_of_Internship.ipynb",
      "provenance": [],
      "collapsed_sections": [],
      "include_colab_link": true
    }
  },
  "cells": [
    {
      "cell_type": "markdown",
      "metadata": {
        "id": "view-in-github",
        "colab_type": "text"
      },
      "source": [
        "<a href=\"https://colab.research.google.com/github/Akshat-kumar-jain/Hamoye_Internship/blob/main/Hamoye_Stage_A_of_Internship.ipynb\" target=\"_parent\"><img src=\"https://colab.research.google.com/assets/colab-badge.svg\" alt=\"Open In Colab\"/></a>"
      ]
    },
    {
      "cell_type": "markdown",
      "metadata": {
        "id": "zTysXJEehsBW"
      },
      "source": [
        "\n",
        "\n",
        "\n",
        "#**Hamoye - Stage A**\n",
        "### Introduction to Python for Machine Learning\n",
        "### Submitted by Akshat Kumar Jain ( iakshatkumarjain@gmail.com )"
      ]
    },
    {
      "cell_type": "code",
      "metadata": {
        "id": "qFMYtUYihsBY"
      },
      "source": [
        "## Importing necessary libraries\n",
        "import pandas as pd\n",
        "import numpy as np\n",
        "import matplotlib.pyplot as plt\n",
        "import seaborn as sns\n",
        "%matplotlib inline"
      ],
      "execution_count": null,
      "outputs": []
    },
    {
      "cell_type": "code",
      "metadata": {
        "id": "51TrOGcChsBZ"
      },
      "source": [
        "## importing Dataset\n",
        "df = pd.read_csv('D:\\\\People\\\\Akshat\\\\Hamoye\\\\fuel_ferc1.csv')"
      ],
      "execution_count": null,
      "outputs": []
    },
    {
      "cell_type": "code",
      "metadata": {
        "id": "MSZirw2ThsBa"
      },
      "source": [
        "df.head()"
      ],
      "execution_count": null,
      "outputs": []
    },
    {
      "cell_type": "code",
      "metadata": {
        "id": "52gJyyedhsBa",
        "outputId": "8ad53851-da60-4cef-e35a-4b2c0f3bcffd"
      },
      "source": [
        "df.tail()"
      ],
      "execution_count": null,
      "outputs": [
        {
          "data": {
            "text/html": [
              "<div>\n",
              "<style scoped>\n",
              "    .dataframe tbody tr th:only-of-type {\n",
              "        vertical-align: middle;\n",
              "    }\n",
              "\n",
              "    .dataframe tbody tr th {\n",
              "        vertical-align: top;\n",
              "    }\n",
              "\n",
              "    .dataframe thead th {\n",
              "        text-align: right;\n",
              "    }\n",
              "</style>\n",
              "<table border=\"1\" class=\"dataframe\">\n",
              "  <thead>\n",
              "    <tr style=\"text-align: right;\">\n",
              "      <th></th>\n",
              "      <th>record_id</th>\n",
              "      <th>utility_id_ferc1</th>\n",
              "      <th>report_year</th>\n",
              "      <th>plant_name_ferc1</th>\n",
              "      <th>fuel_type_code_pudl</th>\n",
              "      <th>fuel_unit</th>\n",
              "      <th>fuel_qty_burned</th>\n",
              "      <th>fuel_mmbtu_per_unit</th>\n",
              "      <th>fuel_cost_per_unit_burned</th>\n",
              "      <th>fuel_cost_per_unit_delivered</th>\n",
              "      <th>fuel_cost_per_mmbtu</th>\n",
              "    </tr>\n",
              "  </thead>\n",
              "  <tbody>\n",
              "    <tr>\n",
              "      <th>29518</th>\n",
              "      <td>f1_fuel_2018_12_12_0_13</td>\n",
              "      <td>12</td>\n",
              "      <td>2018</td>\n",
              "      <td>neil simpson ct #1</td>\n",
              "      <td>gas</td>\n",
              "      <td>mcf</td>\n",
              "      <td>18799.0</td>\n",
              "      <td>1.059</td>\n",
              "      <td>4.78</td>\n",
              "      <td>4.78</td>\n",
              "      <td>9.03</td>\n",
              "    </tr>\n",
              "    <tr>\n",
              "      <th>29519</th>\n",
              "      <td>f1_fuel_2018_12_12_1_1</td>\n",
              "      <td>12</td>\n",
              "      <td>2018</td>\n",
              "      <td>cheyenne prairie 58%</td>\n",
              "      <td>gas</td>\n",
              "      <td>mcf</td>\n",
              "      <td>806730.0</td>\n",
              "      <td>1.050</td>\n",
              "      <td>3.65</td>\n",
              "      <td>3.65</td>\n",
              "      <td>6.95</td>\n",
              "    </tr>\n",
              "    <tr>\n",
              "      <th>29520</th>\n",
              "      <td>f1_fuel_2018_12_12_1_10</td>\n",
              "      <td>12</td>\n",
              "      <td>2018</td>\n",
              "      <td>lange ct facility</td>\n",
              "      <td>gas</td>\n",
              "      <td>mcf</td>\n",
              "      <td>104554.0</td>\n",
              "      <td>1.060</td>\n",
              "      <td>4.77</td>\n",
              "      <td>4.77</td>\n",
              "      <td>8.99</td>\n",
              "    </tr>\n",
              "    <tr>\n",
              "      <th>29521</th>\n",
              "      <td>f1_fuel_2018_12_12_1_13</td>\n",
              "      <td>12</td>\n",
              "      <td>2018</td>\n",
              "      <td>wygen 3 bhp 52%</td>\n",
              "      <td>coal</td>\n",
              "      <td>ton</td>\n",
              "      <td>315945.0</td>\n",
              "      <td>16.108</td>\n",
              "      <td>3.06</td>\n",
              "      <td>14.76</td>\n",
              "      <td>1.11</td>\n",
              "    </tr>\n",
              "    <tr>\n",
              "      <th>29522</th>\n",
              "      <td>f1_fuel_2018_12_12_1_14</td>\n",
              "      <td>12</td>\n",
              "      <td>2018</td>\n",
              "      <td>wygen 3 bhp 52%</td>\n",
              "      <td>gas</td>\n",
              "      <td>mcf</td>\n",
              "      <td>17853.0</td>\n",
              "      <td>1.059</td>\n",
              "      <td>0.00</td>\n",
              "      <td>0.00</td>\n",
              "      <td>11.68</td>\n",
              "    </tr>\n",
              "  </tbody>\n",
              "</table>\n",
              "</div>"
            ],
            "text/plain": [
              "                     record_id  utility_id_ferc1  report_year  \\\n",
              "29518  f1_fuel_2018_12_12_0_13                12         2018   \n",
              "29519   f1_fuel_2018_12_12_1_1                12         2018   \n",
              "29520  f1_fuel_2018_12_12_1_10                12         2018   \n",
              "29521  f1_fuel_2018_12_12_1_13                12         2018   \n",
              "29522  f1_fuel_2018_12_12_1_14                12         2018   \n",
              "\n",
              "           plant_name_ferc1 fuel_type_code_pudl fuel_unit  fuel_qty_burned  \\\n",
              "29518    neil simpson ct #1                 gas       mcf          18799.0   \n",
              "29519  cheyenne prairie 58%                 gas       mcf         806730.0   \n",
              "29520     lange ct facility                 gas       mcf         104554.0   \n",
              "29521       wygen 3 bhp 52%                coal       ton         315945.0   \n",
              "29522       wygen 3 bhp 52%                 gas       mcf          17853.0   \n",
              "\n",
              "       fuel_mmbtu_per_unit  fuel_cost_per_unit_burned  \\\n",
              "29518                1.059                       4.78   \n",
              "29519                1.050                       3.65   \n",
              "29520                1.060                       4.77   \n",
              "29521               16.108                       3.06   \n",
              "29522                1.059                       0.00   \n",
              "\n",
              "       fuel_cost_per_unit_delivered  fuel_cost_per_mmbtu  \n",
              "29518                          4.78                 9.03  \n",
              "29519                          3.65                 6.95  \n",
              "29520                          4.77                 8.99  \n",
              "29521                         14.76                 1.11  \n",
              "29522                          0.00                11.68  "
            ]
          },
          "execution_count": 61,
          "metadata": {},
          "output_type": "execute_result"
        }
      ]
    },
    {
      "cell_type": "code",
      "metadata": {
        "id": "El7a1Ti_hsBb",
        "outputId": "5923c1e2-6356-4549-9abd-edcd29c520a2"
      },
      "source": [
        "df.shape"
      ],
      "execution_count": null,
      "outputs": [
        {
          "data": {
            "text/plain": [
              "(29523, 11)"
            ]
          },
          "execution_count": 6,
          "metadata": {},
          "output_type": "execute_result"
        }
      ]
    },
    {
      "cell_type": "code",
      "metadata": {
        "id": "1jyG-uo7hsBc",
        "outputId": "03cf8830-560e-4d5a-c41a-a9a5e919e4d9"
      },
      "source": [
        "df.info()"
      ],
      "execution_count": null,
      "outputs": [
        {
          "name": "stdout",
          "output_type": "stream",
          "text": [
            "<class 'pandas.core.frame.DataFrame'>\n",
            "RangeIndex: 29523 entries, 0 to 29522\n",
            "Data columns (total 11 columns):\n",
            " #   Column                        Non-Null Count  Dtype  \n",
            "---  ------                        --------------  -----  \n",
            " 0   record_id                     29523 non-null  object \n",
            " 1   utility_id_ferc1              29523 non-null  int64  \n",
            " 2   report_year                   29523 non-null  int64  \n",
            " 3   plant_name_ferc1              29523 non-null  object \n",
            " 4   fuel_type_code_pudl           29523 non-null  object \n",
            " 5   fuel_unit                     29343 non-null  object \n",
            " 6   fuel_qty_burned               29523 non-null  float64\n",
            " 7   fuel_mmbtu_per_unit           29523 non-null  float64\n",
            " 8   fuel_cost_per_unit_burned     29523 non-null  float64\n",
            " 9   fuel_cost_per_unit_delivered  29523 non-null  float64\n",
            " 10  fuel_cost_per_mmbtu           29523 non-null  float64\n",
            "dtypes: float64(5), int64(2), object(4)\n",
            "memory usage: 2.5+ MB\n"
          ]
        }
      ]
    },
    {
      "cell_type": "markdown",
      "metadata": {
        "id": "mHIYOzo3hsBc"
      },
      "source": [
        "#**Question 1:** \n",
        "\n",
        "If you’re given two lists:\n",
        "\n",
        "A = [1,2,3,4,5,6], B = [13, 21, 34]\n",
        "\n",
        "The task is to create a list with the elements of A and B in a single dimension with output:\n",
        "\n",
        "A_B = [1,2,3,4,5,6,13, 21, 34]\n",
        "\n",
        "Which of the following option is the best way to create this list?"
      ]
    },
    {
      "cell_type": "code",
      "metadata": {
        "id": "2gQwYvF4hsBd"
      },
      "source": [
        "A = [1,2,3,4,5,6]\n",
        "B = [13, 21, 34]"
      ],
      "execution_count": null,
      "outputs": []
    },
    {
      "cell_type": "code",
      "metadata": {
        "id": "HA3ZBjF1hsBd"
      },
      "source": [
        "A.extend(B)"
      ],
      "execution_count": null,
      "outputs": []
    },
    {
      "cell_type": "code",
      "metadata": {
        "colab": {
          "base_uri": "https://localhost:8080/"
        },
        "id": "ad0hvUuWhsBd",
        "outputId": "bede82d8-32dd-42ce-c347-43001d4fa1c4"
      },
      "source": [
        "A"
      ],
      "execution_count": null,
      "outputs": [
        {
          "output_type": "execute_result",
          "data": {
            "text/plain": [
              "[1, 2, 3, 4, 5, 6, 13, 21, 34]"
            ]
          },
          "metadata": {},
          "execution_count": 3
        }
      ]
    },
    {
      "cell_type": "markdown",
      "metadata": {
        "id": "JjEJhDgLhsBe"
      },
      "source": [
        "#**Question 2:** \n",
        "\n",
        "How do you create an identity matrix in python?"
      ]
    },
    {
      "cell_type": "code",
      "metadata": {
        "id": "um10F-WKhsBe",
        "outputId": "775fb370-06c2-49dc-a08d-0e872074d01e"
      },
      "source": [
        "np.identity(3)"
      ],
      "execution_count": null,
      "outputs": [
        {
          "data": {
            "text/plain": [
              "array([[1., 0., 0.],\n",
              "       [0., 1., 0.],\n",
              "       [0., 0., 1.]])"
            ]
          },
          "execution_count": 22,
          "metadata": {},
          "output_type": "execute_result"
        }
      ]
    },
    {
      "cell_type": "code",
      "metadata": {
        "id": "rBKHppUwhsBf"
      },
      "source": [
        "I = np.eye(3)"
      ],
      "execution_count": null,
      "outputs": []
    },
    {
      "cell_type": "code",
      "metadata": {
        "id": "7XuXi88PhsBf"
      },
      "source": [
        "I"
      ],
      "execution_count": null,
      "outputs": []
    },
    {
      "cell_type": "markdown",
      "metadata": {
        "id": "7qV2nRbrhsBg"
      },
      "source": [
        "#**Question 3:** \n",
        "\n",
        "Which of the following fuel type code has the lowest average fuel cost per unit burned?"
      ]
    },
    {
      "cell_type": "code",
      "metadata": {
        "id": "e-pEvR8nhsBg",
        "outputId": "59c5a9e3-716b-4a86-9e1e-47aa5ee8e723"
      },
      "source": [
        "df.head()"
      ],
      "execution_count": null,
      "outputs": [
        {
          "data": {
            "text/html": [
              "<div>\n",
              "<style scoped>\n",
              "    .dataframe tbody tr th:only-of-type {\n",
              "        vertical-align: middle;\n",
              "    }\n",
              "\n",
              "    .dataframe tbody tr th {\n",
              "        vertical-align: top;\n",
              "    }\n",
              "\n",
              "    .dataframe thead th {\n",
              "        text-align: right;\n",
              "    }\n",
              "</style>\n",
              "<table border=\"1\" class=\"dataframe\">\n",
              "  <thead>\n",
              "    <tr style=\"text-align: right;\">\n",
              "      <th></th>\n",
              "      <th>record_id</th>\n",
              "      <th>utility_id_ferc1</th>\n",
              "      <th>report_year</th>\n",
              "      <th>plant_name_ferc1</th>\n",
              "      <th>fuel_type_code_pudl</th>\n",
              "      <th>fuel_unit</th>\n",
              "      <th>fuel_qty_burned</th>\n",
              "      <th>fuel_mmbtu_per_unit</th>\n",
              "      <th>fuel_cost_per_unit_burned</th>\n",
              "      <th>fuel_cost_per_unit_delivered</th>\n",
              "      <th>fuel_cost_per_mmbtu</th>\n",
              "    </tr>\n",
              "  </thead>\n",
              "  <tbody>\n",
              "    <tr>\n",
              "      <th>0</th>\n",
              "      <td>f1_fuel_1994_12_1_0_7</td>\n",
              "      <td>1</td>\n",
              "      <td>1994</td>\n",
              "      <td>rockport</td>\n",
              "      <td>coal</td>\n",
              "      <td>ton</td>\n",
              "      <td>5377489.0</td>\n",
              "      <td>16.590</td>\n",
              "      <td>18.59</td>\n",
              "      <td>18.53</td>\n",
              "      <td>1.121</td>\n",
              "    </tr>\n",
              "    <tr>\n",
              "      <th>1</th>\n",
              "      <td>f1_fuel_1994_12_1_0_10</td>\n",
              "      <td>1</td>\n",
              "      <td>1994</td>\n",
              "      <td>rockport total plant</td>\n",
              "      <td>coal</td>\n",
              "      <td>ton</td>\n",
              "      <td>10486945.0</td>\n",
              "      <td>16.592</td>\n",
              "      <td>18.58</td>\n",
              "      <td>18.53</td>\n",
              "      <td>1.120</td>\n",
              "    </tr>\n",
              "    <tr>\n",
              "      <th>2</th>\n",
              "      <td>f1_fuel_1994_12_2_0_1</td>\n",
              "      <td>2</td>\n",
              "      <td>1994</td>\n",
              "      <td>gorgas</td>\n",
              "      <td>coal</td>\n",
              "      <td>ton</td>\n",
              "      <td>2978683.0</td>\n",
              "      <td>24.130</td>\n",
              "      <td>39.72</td>\n",
              "      <td>38.12</td>\n",
              "      <td>1.650</td>\n",
              "    </tr>\n",
              "    <tr>\n",
              "      <th>3</th>\n",
              "      <td>f1_fuel_1994_12_2_0_7</td>\n",
              "      <td>2</td>\n",
              "      <td>1994</td>\n",
              "      <td>barry</td>\n",
              "      <td>coal</td>\n",
              "      <td>ton</td>\n",
              "      <td>3739484.0</td>\n",
              "      <td>23.950</td>\n",
              "      <td>47.21</td>\n",
              "      <td>45.99</td>\n",
              "      <td>1.970</td>\n",
              "    </tr>\n",
              "    <tr>\n",
              "      <th>4</th>\n",
              "      <td>f1_fuel_1994_12_2_0_10</td>\n",
              "      <td>2</td>\n",
              "      <td>1994</td>\n",
              "      <td>chickasaw</td>\n",
              "      <td>gas</td>\n",
              "      <td>mcf</td>\n",
              "      <td>40533.0</td>\n",
              "      <td>1.000</td>\n",
              "      <td>2.77</td>\n",
              "      <td>2.77</td>\n",
              "      <td>2.570</td>\n",
              "    </tr>\n",
              "  </tbody>\n",
              "</table>\n",
              "</div>"
            ],
            "text/plain": [
              "                record_id  utility_id_ferc1  report_year  \\\n",
              "0   f1_fuel_1994_12_1_0_7                 1         1994   \n",
              "1  f1_fuel_1994_12_1_0_10                 1         1994   \n",
              "2   f1_fuel_1994_12_2_0_1                 2         1994   \n",
              "3   f1_fuel_1994_12_2_0_7                 2         1994   \n",
              "4  f1_fuel_1994_12_2_0_10                 2         1994   \n",
              "\n",
              "       plant_name_ferc1 fuel_type_code_pudl fuel_unit  fuel_qty_burned  \\\n",
              "0              rockport                coal       ton        5377489.0   \n",
              "1  rockport total plant                coal       ton       10486945.0   \n",
              "2                gorgas                coal       ton        2978683.0   \n",
              "3                 barry                coal       ton        3739484.0   \n",
              "4             chickasaw                 gas       mcf          40533.0   \n",
              "\n",
              "   fuel_mmbtu_per_unit  fuel_cost_per_unit_burned  \\\n",
              "0               16.590                      18.59   \n",
              "1               16.592                      18.58   \n",
              "2               24.130                      39.72   \n",
              "3               23.950                      47.21   \n",
              "4                1.000                       2.77   \n",
              "\n",
              "   fuel_cost_per_unit_delivered  fuel_cost_per_mmbtu  \n",
              "0                         18.53                1.121  \n",
              "1                         18.53                1.120  \n",
              "2                         38.12                1.650  \n",
              "3                         45.99                1.970  \n",
              "4                          2.77                2.570  "
            ]
          },
          "execution_count": 31,
          "metadata": {},
          "output_type": "execute_result"
        }
      ]
    },
    {
      "cell_type": "code",
      "metadata": {
        "id": "4yK9ZAFPhsBh",
        "outputId": "f453dafc-0aca-4574-f475-4ec67fc14210"
      },
      "source": [
        "df.groupby('fuel_type_code_pudl')['fuel_cost_per_unit_burned'].mean()"
      ],
      "execution_count": null,
      "outputs": [
        {
          "data": {
            "text/plain": [
              "fuel_type_code_pudl\n",
              "coal         67.421830\n",
              "gas          13.659397\n",
              "nuclear    4955.157002\n",
              "oil         168.877086\n",
              "other        18.253856\n",
              "waste        19.518122\n",
              "Name: fuel_cost_per_unit_burned, dtype: float64"
            ]
          },
          "execution_count": 36,
          "metadata": {},
          "output_type": "execute_result"
        }
      ]
    },
    {
      "cell_type": "markdown",
      "metadata": {
        "id": "cdiigGl6hsBj"
      },
      "source": [
        "#### The average for gas is lowest."
      ]
    },
    {
      "cell_type": "markdown",
      "metadata": {
        "id": "uXM1BvtvhsBj"
      },
      "source": [
        "#**Question 4:**\n",
        "\n",
        "What is the standard deviation and 75th percentile of the measure of energy per unit (Fuel_mmbtu_per_unit) in two decimal places?\n"
      ]
    },
    {
      "cell_type": "code",
      "metadata": {
        "id": "aWIs2xMQhsBj",
        "outputId": "d7311e23-c738-4434-994b-58007839f26e"
      },
      "source": [
        "round(df.describe(),2)"
      ],
      "execution_count": null,
      "outputs": [
        {
          "data": {
            "text/html": [
              "<div>\n",
              "<style scoped>\n",
              "    .dataframe tbody tr th:only-of-type {\n",
              "        vertical-align: middle;\n",
              "    }\n",
              "\n",
              "    .dataframe tbody tr th {\n",
              "        vertical-align: top;\n",
              "    }\n",
              "\n",
              "    .dataframe thead th {\n",
              "        text-align: right;\n",
              "    }\n",
              "</style>\n",
              "<table border=\"1\" class=\"dataframe\">\n",
              "  <thead>\n",
              "    <tr style=\"text-align: right;\">\n",
              "      <th></th>\n",
              "      <th>utility_id_ferc1</th>\n",
              "      <th>report_year</th>\n",
              "      <th>fuel_qty_burned</th>\n",
              "      <th>fuel_mmbtu_per_unit</th>\n",
              "      <th>fuel_cost_per_unit_burned</th>\n",
              "      <th>fuel_cost_per_unit_delivered</th>\n",
              "      <th>fuel_cost_per_mmbtu</th>\n",
              "    </tr>\n",
              "  </thead>\n",
              "  <tbody>\n",
              "    <tr>\n",
              "      <th>count</th>\n",
              "      <td>29523.00</td>\n",
              "      <td>29523.00</td>\n",
              "      <td>2.952300e+04</td>\n",
              "      <td>29523.00</td>\n",
              "      <td>29523.00</td>\n",
              "      <td>29523.00</td>\n",
              "      <td>29523.00</td>\n",
              "    </tr>\n",
              "    <tr>\n",
              "      <th>mean</th>\n",
              "      <td>118.60</td>\n",
              "      <td>2005.81</td>\n",
              "      <td>2.622119e+06</td>\n",
              "      <td>8.49</td>\n",
              "      <td>208.65</td>\n",
              "      <td>917.57</td>\n",
              "      <td>19.30</td>\n",
              "    </tr>\n",
              "    <tr>\n",
              "      <th>std</th>\n",
              "      <td>74.18</td>\n",
              "      <td>7.03</td>\n",
              "      <td>9.118004e+06</td>\n",
              "      <td>10.60</td>\n",
              "      <td>2854.49</td>\n",
              "      <td>68775.93</td>\n",
              "      <td>2091.54</td>\n",
              "    </tr>\n",
              "    <tr>\n",
              "      <th>min</th>\n",
              "      <td>1.00</td>\n",
              "      <td>1994.00</td>\n",
              "      <td>1.000000e+00</td>\n",
              "      <td>0.00</td>\n",
              "      <td>-276.08</td>\n",
              "      <td>-874.94</td>\n",
              "      <td>-41.50</td>\n",
              "    </tr>\n",
              "    <tr>\n",
              "      <th>25%</th>\n",
              "      <td>55.00</td>\n",
              "      <td>2000.00</td>\n",
              "      <td>1.381700e+04</td>\n",
              "      <td>1.02</td>\n",
              "      <td>5.21</td>\n",
              "      <td>3.78</td>\n",
              "      <td>1.94</td>\n",
              "    </tr>\n",
              "    <tr>\n",
              "      <th>50%</th>\n",
              "      <td>122.00</td>\n",
              "      <td>2006.00</td>\n",
              "      <td>2.533220e+05</td>\n",
              "      <td>5.76</td>\n",
              "      <td>26.00</td>\n",
              "      <td>17.37</td>\n",
              "      <td>4.13</td>\n",
              "    </tr>\n",
              "    <tr>\n",
              "      <th>75%</th>\n",
              "      <td>176.00</td>\n",
              "      <td>2012.00</td>\n",
              "      <td>1.424034e+06</td>\n",
              "      <td>17.01</td>\n",
              "      <td>47.11</td>\n",
              "      <td>42.14</td>\n",
              "      <td>7.74</td>\n",
              "    </tr>\n",
              "    <tr>\n",
              "      <th>max</th>\n",
              "      <td>514.00</td>\n",
              "      <td>2018.00</td>\n",
              "      <td>5.558942e+08</td>\n",
              "      <td>341.26</td>\n",
              "      <td>139358.00</td>\n",
              "      <td>7964521.00</td>\n",
              "      <td>359278.00</td>\n",
              "    </tr>\n",
              "  </tbody>\n",
              "</table>\n",
              "</div>"
            ],
            "text/plain": [
              "       utility_id_ferc1  report_year  fuel_qty_burned  fuel_mmbtu_per_unit  \\\n",
              "count          29523.00     29523.00     2.952300e+04             29523.00   \n",
              "mean             118.60      2005.81     2.622119e+06                 8.49   \n",
              "std               74.18         7.03     9.118004e+06                10.60   \n",
              "min                1.00      1994.00     1.000000e+00                 0.00   \n",
              "25%               55.00      2000.00     1.381700e+04                 1.02   \n",
              "50%              122.00      2006.00     2.533220e+05                 5.76   \n",
              "75%              176.00      2012.00     1.424034e+06                17.01   \n",
              "max              514.00      2018.00     5.558942e+08               341.26   \n",
              "\n",
              "       fuel_cost_per_unit_burned  fuel_cost_per_unit_delivered  \\\n",
              "count                   29523.00                      29523.00   \n",
              "mean                      208.65                        917.57   \n",
              "std                      2854.49                      68775.93   \n",
              "min                      -276.08                       -874.94   \n",
              "25%                         5.21                          3.78   \n",
              "50%                        26.00                         17.37   \n",
              "75%                        47.11                         42.14   \n",
              "max                    139358.00                    7964521.00   \n",
              "\n",
              "       fuel_cost_per_mmbtu  \n",
              "count             29523.00  \n",
              "mean                 19.30  \n",
              "std                2091.54  \n",
              "min                 -41.50  \n",
              "25%                   1.94  \n",
              "50%                   4.13  \n",
              "75%                   7.74  \n",
              "max              359278.00  "
            ]
          },
          "execution_count": 40,
          "metadata": {},
          "output_type": "execute_result"
        }
      ]
    },
    {
      "cell_type": "markdown",
      "metadata": {
        "id": "FZ3NdV_qhsBk"
      },
      "source": [
        "#### For fuel_mmbtu_per_unit the Std dev is 10.60 and 75th Percentile is 17.01."
      ]
    },
    {
      "cell_type": "markdown",
      "metadata": {
        "id": "basLELKrhsBk"
      },
      "source": [
        "#**Question 5:**\n",
        "\n",
        "What is the skewness and kurtosis for the fuel quantity burned in two decimal places?"
      ]
    },
    {
      "cell_type": "code",
      "metadata": {
        "id": "7MWOtOrYhsBl",
        "outputId": "1daac079-37dd-4b2e-eabc-6cf862d2415c"
      },
      "source": [
        "round(df.skew(),2)"
      ],
      "execution_count": null,
      "outputs": [
        {
          "data": {
            "text/plain": [
              "utility_id_ferc1                  0.61\n",
              "report_year                       0.01\n",
              "fuel_qty_burned                  15.85\n",
              "fuel_mmbtu_per_unit               4.14\n",
              "fuel_cost_per_unit_burned        19.79\n",
              "fuel_cost_per_unit_delivered    105.01\n",
              "fuel_cost_per_mmbtu             171.68\n",
              "dtype: float64"
            ]
          },
          "execution_count": 45,
          "metadata": {},
          "output_type": "execute_result"
        }
      ]
    },
    {
      "cell_type": "code",
      "metadata": {
        "id": "8BdiCWMGhsBl",
        "outputId": "d62cfd71-542d-4c71-f1cb-e8aafafd9fe1"
      },
      "source": [
        "round(df.kurtosis(),2)"
      ],
      "execution_count": null,
      "outputs": [
        {
          "data": {
            "text/plain": [
              "utility_id_ferc1                    1.09\n",
              "report_year                        -1.15\n",
              "fuel_qty_burned                   651.37\n",
              "fuel_mmbtu_per_unit                55.60\n",
              "fuel_cost_per_unit_burned         485.26\n",
              "fuel_cost_per_unit_delivered    11765.05\n",
              "fuel_cost_per_mmbtu             29489.13\n",
              "dtype: float64"
            ]
          },
          "execution_count": 44,
          "metadata": {},
          "output_type": "execute_result"
        }
      ]
    },
    {
      "cell_type": "markdown",
      "metadata": {
        "id": "8G5Lx0_9hsBl"
      },
      "source": [
        "#### For Fuel_qty_burned Skewness is 15.85 and Kurtosis is 651.37."
      ]
    },
    {
      "cell_type": "markdown",
      "metadata": {
        "id": "krnRyfrOhsBl"
      },
      "source": [
        "#**Question 6:**\n",
        "\n",
        "Which feature has missing values and what is the total number of missing value and percentage of the missing rows as a factor of the total number of rows in three decimal places?\n",
        "\n",
        "(Enter answer in the format: Feature: xxx, Total: xxx, Percent: xxx)"
      ]
    },
    {
      "cell_type": "code",
      "metadata": {
        "id": "t7SXYqUVhsBm"
      },
      "source": [
        "feature = [col for col in df.columns if df[col].isnull().any()]\n",
        "total = df['fuel_unit'].isnull().sum()\n",
        "percent_missing = round(df['fuel_unit'].isnull().sum() * 100 / len(df),4)"
      ],
      "execution_count": null,
      "outputs": []
    },
    {
      "cell_type": "code",
      "metadata": {
        "id": "5Op-yMrOhsBm",
        "outputId": "d5a0b9ca-94ff-4356-fcd3-14d791af5b02"
      },
      "source": [
        "print('Feature:',feature,', ''Total',total,', ''Percent',percent_missing)"
      ],
      "execution_count": null,
      "outputs": [
        {
          "name": "stdout",
          "output_type": "stream",
          "text": [
            "Feature: ['fuel_unit'] , Total 180 , Percent 0.6097\n"
          ]
        }
      ]
    },
    {
      "cell_type": "markdown",
      "metadata": {
        "id": "Cd627KO3hsBm"
      },
      "source": [
        "#**Question 7:**\n",
        "\n",
        "The feature with missing values falls under what category? What missing value imputation technique would you use?\n"
      ]
    },
    {
      "cell_type": "markdown",
      "metadata": {
        "id": "jNE1aB-KhsBm"
      },
      "source": [
        "#### The feature with missing values falls under Categorical category.\n",
        "#### Missing value imputation technique used would be Mode imputation."
      ]
    },
    {
      "cell_type": "markdown",
      "metadata": {
        "id": "g9AhG_aVhsBn"
      },
      "source": [
        "#**Question 8:**\n",
        "\n",
        "Which of the features has the second and third lowest correlation with the Fuel Cost Per Unit Burned?"
      ]
    },
    {
      "cell_type": "code",
      "metadata": {
        "id": "vhVwqBMUhsBn",
        "outputId": "dd405c49-3ac8-416b-9722-b2a74d276107"
      },
      "source": [
        "df.corr()['fuel_cost_per_unit_burned'].sort_values(ascending=True)"
      ],
      "execution_count": null,
      "outputs": [
        {
          "data": {
            "text/plain": [
              "utility_id_ferc1               -0.037863\n",
              "fuel_qty_burned                -0.018535\n",
              "fuel_mmbtu_per_unit            -0.010034\n",
              "fuel_cost_per_mmbtu            -0.000437\n",
              "fuel_cost_per_unit_delivered    0.011007\n",
              "report_year                     0.013599\n",
              "fuel_cost_per_unit_burned       1.000000\n",
              "Name: fuel_cost_per_unit_burned, dtype: float64"
            ]
          },
          "execution_count": 67,
          "metadata": {},
          "output_type": "execute_result"
        }
      ]
    },
    {
      "cell_type": "markdown",
      "metadata": {
        "id": "y9fUk7WLhsBn"
      },
      "source": [
        "#### fuel_qty_burned and fuel_mmbtu_per_unit have second and third lowest correlation respectively with the Fuel Cost Per Unit Burned."
      ]
    },
    {
      "cell_type": "markdown",
      "metadata": {
        "id": "DvMpff-AhsBo"
      },
      "source": [
        "#**Question 9:**\n",
        "\n",
        "For the fuel type coal, what is the percentage change in the fuel cost per unit burned in 1998 compared to 1994?"
      ]
    },
    {
      "cell_type": "code",
      "metadata": {
        "id": "9KY1ejGXhsBo",
        "outputId": "19c910fb-984e-4762-9581-ae69b5d8cdb9"
      },
      "source": [
        "df.head()"
      ],
      "execution_count": null,
      "outputs": [
        {
          "data": {
            "text/html": [
              "<div>\n",
              "<style scoped>\n",
              "    .dataframe tbody tr th:only-of-type {\n",
              "        vertical-align: middle;\n",
              "    }\n",
              "\n",
              "    .dataframe tbody tr th {\n",
              "        vertical-align: top;\n",
              "    }\n",
              "\n",
              "    .dataframe thead th {\n",
              "        text-align: right;\n",
              "    }\n",
              "</style>\n",
              "<table border=\"1\" class=\"dataframe\">\n",
              "  <thead>\n",
              "    <tr style=\"text-align: right;\">\n",
              "      <th></th>\n",
              "      <th>record_id</th>\n",
              "      <th>utility_id_ferc1</th>\n",
              "      <th>report_year</th>\n",
              "      <th>plant_name_ferc1</th>\n",
              "      <th>fuel_type_code_pudl</th>\n",
              "      <th>fuel_unit</th>\n",
              "      <th>fuel_qty_burned</th>\n",
              "      <th>fuel_mmbtu_per_unit</th>\n",
              "      <th>fuel_cost_per_unit_burned</th>\n",
              "      <th>fuel_cost_per_unit_delivered</th>\n",
              "      <th>fuel_cost_per_mmbtu</th>\n",
              "    </tr>\n",
              "  </thead>\n",
              "  <tbody>\n",
              "    <tr>\n",
              "      <th>0</th>\n",
              "      <td>f1_fuel_1994_12_1_0_7</td>\n",
              "      <td>1</td>\n",
              "      <td>1994</td>\n",
              "      <td>rockport</td>\n",
              "      <td>coal</td>\n",
              "      <td>ton</td>\n",
              "      <td>5377489.0</td>\n",
              "      <td>16.590</td>\n",
              "      <td>18.59</td>\n",
              "      <td>18.53</td>\n",
              "      <td>1.121</td>\n",
              "    </tr>\n",
              "    <tr>\n",
              "      <th>1</th>\n",
              "      <td>f1_fuel_1994_12_1_0_10</td>\n",
              "      <td>1</td>\n",
              "      <td>1994</td>\n",
              "      <td>rockport total plant</td>\n",
              "      <td>coal</td>\n",
              "      <td>ton</td>\n",
              "      <td>10486945.0</td>\n",
              "      <td>16.592</td>\n",
              "      <td>18.58</td>\n",
              "      <td>18.53</td>\n",
              "      <td>1.120</td>\n",
              "    </tr>\n",
              "    <tr>\n",
              "      <th>2</th>\n",
              "      <td>f1_fuel_1994_12_2_0_1</td>\n",
              "      <td>2</td>\n",
              "      <td>1994</td>\n",
              "      <td>gorgas</td>\n",
              "      <td>coal</td>\n",
              "      <td>ton</td>\n",
              "      <td>2978683.0</td>\n",
              "      <td>24.130</td>\n",
              "      <td>39.72</td>\n",
              "      <td>38.12</td>\n",
              "      <td>1.650</td>\n",
              "    </tr>\n",
              "    <tr>\n",
              "      <th>3</th>\n",
              "      <td>f1_fuel_1994_12_2_0_7</td>\n",
              "      <td>2</td>\n",
              "      <td>1994</td>\n",
              "      <td>barry</td>\n",
              "      <td>coal</td>\n",
              "      <td>ton</td>\n",
              "      <td>3739484.0</td>\n",
              "      <td>23.950</td>\n",
              "      <td>47.21</td>\n",
              "      <td>45.99</td>\n",
              "      <td>1.970</td>\n",
              "    </tr>\n",
              "    <tr>\n",
              "      <th>4</th>\n",
              "      <td>f1_fuel_1994_12_2_0_10</td>\n",
              "      <td>2</td>\n",
              "      <td>1994</td>\n",
              "      <td>chickasaw</td>\n",
              "      <td>gas</td>\n",
              "      <td>mcf</td>\n",
              "      <td>40533.0</td>\n",
              "      <td>1.000</td>\n",
              "      <td>2.77</td>\n",
              "      <td>2.77</td>\n",
              "      <td>2.570</td>\n",
              "    </tr>\n",
              "  </tbody>\n",
              "</table>\n",
              "</div>"
            ],
            "text/plain": [
              "                record_id  utility_id_ferc1  report_year  \\\n",
              "0   f1_fuel_1994_12_1_0_7                 1         1994   \n",
              "1  f1_fuel_1994_12_1_0_10                 1         1994   \n",
              "2   f1_fuel_1994_12_2_0_1                 2         1994   \n",
              "3   f1_fuel_1994_12_2_0_7                 2         1994   \n",
              "4  f1_fuel_1994_12_2_0_10                 2         1994   \n",
              "\n",
              "       plant_name_ferc1 fuel_type_code_pudl fuel_unit  fuel_qty_burned  \\\n",
              "0              rockport                coal       ton        5377489.0   \n",
              "1  rockport total plant                coal       ton       10486945.0   \n",
              "2                gorgas                coal       ton        2978683.0   \n",
              "3                 barry                coal       ton        3739484.0   \n",
              "4             chickasaw                 gas       mcf          40533.0   \n",
              "\n",
              "   fuel_mmbtu_per_unit  fuel_cost_per_unit_burned  \\\n",
              "0               16.590                      18.59   \n",
              "1               16.592                      18.58   \n",
              "2               24.130                      39.72   \n",
              "3               23.950                      47.21   \n",
              "4                1.000                       2.77   \n",
              "\n",
              "   fuel_cost_per_unit_delivered  fuel_cost_per_mmbtu  \n",
              "0                         18.53                1.121  \n",
              "1                         18.53                1.120  \n",
              "2                         38.12                1.650  \n",
              "3                         45.99                1.970  \n",
              "4                          2.77                2.570  "
            ]
          },
          "execution_count": 106,
          "metadata": {},
          "output_type": "execute_result"
        }
      ]
    },
    {
      "cell_type": "code",
      "metadata": {
        "id": "8nggYci5hsBo",
        "outputId": "d7a5a66c-48a9-4509-fda4-3988c78d0f69"
      },
      "source": [
        "a = df.loc[(df['report_year']==1998) & (df['fuel_type_code_pudl']=='coal')]['fuel_cost_per_unit_burned'].sum()\n",
        "a"
      ],
      "execution_count": null,
      "outputs": [
        {
          "data": {
            "text/plain": [
              "11902.597"
            ]
          },
          "execution_count": 126,
          "metadata": {},
          "output_type": "execute_result"
        }
      ]
    },
    {
      "cell_type": "code",
      "metadata": {
        "id": "JlTWNCHDhsBo",
        "outputId": "4b88ab79-027e-4c06-e3a7-e98bd83db8c7"
      },
      "source": [
        "b = df.loc[(df['report_year']==1994) & (df['fuel_type_code_pudl']=='coal')]['fuel_cost_per_unit_burned'].sum()\n",
        "b"
      ],
      "execution_count": null,
      "outputs": [
        {
          "data": {
            "text/plain": [
              "14984.572000000002"
            ]
          },
          "execution_count": 127,
          "metadata": {},
          "output_type": "execute_result"
        }
      ]
    },
    {
      "cell_type": "code",
      "metadata": {
        "id": "VMUm6DmhhsBp",
        "outputId": "349cbd52-6561-411e-dd7c-d45c86c71e1f"
      },
      "source": [
        "print('The percentage change is:', round((a-b)*100/a))"
      ],
      "execution_count": null,
      "outputs": [
        {
          "name": "stdout",
          "output_type": "stream",
          "text": [
            "The percentage change is: -26.0\n"
          ]
        }
      ]
    },
    {
      "cell_type": "markdown",
      "metadata": {
        "id": "Em_jBE5_hsBp"
      },
      "source": [
        "#** Question 10:**\n",
        "\n",
        "Which year has the highest average fuel cost per unit delivered?"
      ]
    },
    {
      "cell_type": "code",
      "metadata": {
        "id": "dS7tQ3KyhsBp",
        "outputId": "30ed3258-4e1f-4a36-a1ad-f879fecf649e"
      },
      "source": [
        "df.groupby('report_year')['fuel_cost_per_unit_delivered'].mean().sort_values(ascending=False)"
      ],
      "execution_count": null,
      "outputs": [
        {
          "data": {
            "text/plain": [
              "report_year\n",
              "1997    11140.197239\n",
              "1996     9196.705948\n",
              "2000      985.362877\n",
              "2009      652.694163\n",
              "2018      499.269966\n",
              "2015      326.535511\n",
              "1998      287.154420\n",
              "2014      192.737183\n",
              "2013      172.307591\n",
              "2004      139.524275\n",
              "2016      103.901761\n",
              "2010       91.862105\n",
              "1994       63.636060\n",
              "2012       60.994502\n",
              "2001       60.050396\n",
              "2011       59.774667\n",
              "2008       58.588197\n",
              "2003       55.663493\n",
              "2002       47.594361\n",
              "2017       46.196861\n",
              "2007       43.325023\n",
              "2005       41.438184\n",
              "2006       38.657484\n",
              "1995       32.735269\n",
              "1999       25.551627\n",
              "Name: fuel_cost_per_unit_delivered, dtype: float64"
            ]
          },
          "execution_count": 58,
          "metadata": {},
          "output_type": "execute_result"
        }
      ]
    },
    {
      "cell_type": "markdown",
      "metadata": {
        "id": "vBk2ecUUhsBp"
      },
      "source": [
        "#### Year 1997 has the highest average fuel cost per unit delivered."
      ]
    },
    {
      "cell_type": "markdown",
      "metadata": {
        "id": "m5GqWyvchsBq"
      },
      "source": [
        "## End of Notebook"
      ]
    },
    {
      "cell_type": "code",
      "metadata": {
        "id": "XC55Y5K7hsBq"
      },
      "source": [
        ""
      ],
      "execution_count": null,
      "outputs": []
    }
  ]
}