{
  "nbformat": 4,
  "nbformat_minor": 0,
  "metadata": {
    "kernelspec": {
      "display_name": "Python 3",
      "language": "python",
      "name": "python3"
    },
    "language_info": {
      "codemirror_mode": {
        "name": "ipython",
        "version": 3
      },
      "file_extension": ".py",
      "mimetype": "text/x-python",
      "name": "python",
      "nbconvert_exporter": "python",
      "pygments_lexer": "ipython3",
      "version": "3.8.5"
    },
    "colab": {
      "name": "Hamoye_Stage_B_of_Internship.ipynb",
      "provenance": [],
      "include_colab_link": true
    }
  },
  "cells": [
    {
      "cell_type": "markdown",
      "metadata": {
        "id": "view-in-github",
        "colab_type": "text"
      },
      "source": [
        "<a href=\"https://colab.research.google.com/github/Akshat-kumar-jain/Hamoye_Internship/blob/main/Hamoye_Stage_B_of_Internship.ipynb\" target=\"_parent\"><img src=\"https://colab.research.google.com/assets/colab-badge.svg\" alt=\"Open In Colab\"/></a>"
      ]
    },
    {
      "cell_type": "markdown",
      "metadata": {
        "id": "MrXZiZmV9fnd"
      },
      "source": [
        "# Hamoye - Stage B\n",
        "# Machine Learning: Regression - Predicting Energy Efficiency of Buildings\n",
        "# Submitted by Akshat Kumar Jain ( iakshatkumarjain@gmail.com )"
      ]
    },
    {
      "cell_type": "markdown",
      "metadata": {
        "id": "jYDTDHQW-W_Y"
      },
      "source": [
        "#Dataset Description\n",
        "\n",
        "`The dataset for the remainder of this quiz is the Appliances Energy Prediction data. The data set is at 10 min for about 4.5 months. The house temperature and humidity conditions were monitored with a ZigBee wireless sensor network. Each wireless node transmitted the temperature and humidity conditions around 3.3 min. Then, the wireless data was averaged for 10 minutes periods. The energy data was logged every 10 minutes with m-bus energy meters. Weather from the nearest airport weather station (Chievres Airport, Belgium) was downloaded from a public data set from Reliable Prognosis (rp5.ru), and merged together with the experimental data sets using the date and time column. Two random variables have been included in the data set for testing the regression models and to filter out non predictive attributes (parameters). The attribute information can be seen below.`\n",
        "\n",
        "\n",
        "## Attribute Information:\n",
        "\n",
        "Date, time year-month-day hour:minute:second\n",
        "\n",
        "Appliances, energy use in Wh\n",
        "\n",
        "lights, energy use of light fixtures in the house in Wh\n",
        "\n",
        "T1, Temperature in kitchen area, in Celsius\n",
        "\n",
        "RH_1, Humidity in kitchen area, in %\n",
        "\n",
        "T2, Temperature in living room area, in Celsius\n",
        "\n",
        "RH_2, Humidity in living room area, in %\n",
        "\n",
        "T3, Temperature in laundry room area\n",
        "\n",
        "RH_3, Humidity in laundry room area, in %\n",
        "\n",
        "T4, Temperature in office room, in Celsius\n",
        "\n",
        "RH_4, Humidity in office room, in %\n",
        "\n",
        "T5, Temperature in bathroom, in Celsius\n",
        "\n",
        "RH_5, Humidity in bathroom, in %\n",
        "\n",
        "T6, Temperature outside the building (north side), in Celsius\n",
        "\n",
        "RH_6, Humidity outside the building (north side), in %\n",
        "\n",
        "T7, Temperature in ironing room , in Celsius\n",
        "\n",
        "RH_7, Humidity in ironing room, in %\n",
        "\n",
        "T8, Temperature in teenager room 2, in Celsius\n",
        "\n",
        "RH_8, Humidity in teenager room 2, in %\n",
        "\n",
        "T9, Temperature in parents room, in Celsius\n",
        "\n",
        "RH_9, Humidity in parents room, in %\n",
        "\n",
        "To, Temperature outside (from Chievres weather station), in Celsius\n",
        "\n",
        "Pressure (from Chievres weather station), in mm Hg\n",
        "\n",
        "RH_out, Humidity outside (from Chievres weather station), in %\n",
        "\n",
        "Wind speed (from Chievres weather station), in m/s\n",
        "\n",
        "Visibility (from Chievres weather station), in km\n",
        "\n",
        "Tdewpoint (from Chievres weather station), Â °C\n",
        "\n",
        "rv1, Random variable 1, nondimensional\n",
        "\n",
        "rv2, Random variable 2, nondimensional\n",
        "\n",
        "\n",
        "\n",
        "\n",
        "\n",
        "#---------\n",
        "To answer some questions, you will need to normalize the dataset using the MinMaxScaler after removing the following columns: [“date”, “lights”]. The target variable is “Appliances”. Use a 70-30 train-test set split with a random state of 42 (for reproducibility). Run a multiple linear regression using the training set and evaluate your model on the test set."
      ]
    },
    {
      "cell_type": "markdown",
      "metadata": {
        "id": "GGsTyXnwzsun"
      },
      "source": [
        "# Importing The Needed Libraries"
      ]
    },
    {
      "cell_type": "code",
      "metadata": {
        "id": "XvaAbupxzsus"
      },
      "source": [
        "import numpy as np\n",
        "import pandas as pd\n",
        "from sklearn.preprocessing import MinMaxScaler\n",
        "from sklearn.model_selection import train_test_split\n",
        "from sklearn.linear_model import LinearRegression, Ridge, Lasso\n",
        "from sklearn.metrics import mean_absolute_error, mean_squared_error, r2_score\n",
        "from sklearn.pipeline import Pipeline\n",
        "import seaborn as sns\n",
        "sns.set()\n",
        "import matplotlib.pyplot as plt\n",
        "%matplotlib inline"
      ],
      "execution_count": null,
      "outputs": []
    },
    {
      "cell_type": "markdown",
      "metadata": {
        "id": "2WAujKTwzsuv"
      },
      "source": [
        "# Reading in The dataset"
      ]
    },
    {
      "cell_type": "code",
      "metadata": {
        "scrolled": true,
        "id": "S7AmpTU5zsuv",
        "outputId": "948c242a-c898-472c-814a-ad849a038a32"
      },
      "source": [
        "data = pd.read_csv(\"energydata_complete.csv\")\n",
        "data.head()"
      ],
      "execution_count": null,
      "outputs": [
        {
          "data": {
            "text/html": [
              "<div>\n",
              "<style scoped>\n",
              "    .dataframe tbody tr th:only-of-type {\n",
              "        vertical-align: middle;\n",
              "    }\n",
              "\n",
              "    .dataframe tbody tr th {\n",
              "        vertical-align: top;\n",
              "    }\n",
              "\n",
              "    .dataframe thead th {\n",
              "        text-align: right;\n",
              "    }\n",
              "</style>\n",
              "<table border=\"1\" class=\"dataframe\">\n",
              "  <thead>\n",
              "    <tr style=\"text-align: right;\">\n",
              "      <th></th>\n",
              "      <th>date</th>\n",
              "      <th>Appliances</th>\n",
              "      <th>lights</th>\n",
              "      <th>T1</th>\n",
              "      <th>RH_1</th>\n",
              "      <th>T2</th>\n",
              "      <th>RH_2</th>\n",
              "      <th>T3</th>\n",
              "      <th>RH_3</th>\n",
              "      <th>T4</th>\n",
              "      <th>...</th>\n",
              "      <th>T9</th>\n",
              "      <th>RH_9</th>\n",
              "      <th>T_out</th>\n",
              "      <th>Press_mm_hg</th>\n",
              "      <th>RH_out</th>\n",
              "      <th>Windspeed</th>\n",
              "      <th>Visibility</th>\n",
              "      <th>Tdewpoint</th>\n",
              "      <th>rv1</th>\n",
              "      <th>rv2</th>\n",
              "    </tr>\n",
              "  </thead>\n",
              "  <tbody>\n",
              "    <tr>\n",
              "      <th>0</th>\n",
              "      <td>2016-01-11 17:00:00</td>\n",
              "      <td>60</td>\n",
              "      <td>30</td>\n",
              "      <td>19.89</td>\n",
              "      <td>47.596667</td>\n",
              "      <td>19.2</td>\n",
              "      <td>44.790000</td>\n",
              "      <td>19.79</td>\n",
              "      <td>44.730000</td>\n",
              "      <td>19.000000</td>\n",
              "      <td>...</td>\n",
              "      <td>17.033333</td>\n",
              "      <td>45.53</td>\n",
              "      <td>6.600000</td>\n",
              "      <td>733.5</td>\n",
              "      <td>92.0</td>\n",
              "      <td>7.000000</td>\n",
              "      <td>63.000000</td>\n",
              "      <td>5.3</td>\n",
              "      <td>13.275433</td>\n",
              "      <td>13.275433</td>\n",
              "    </tr>\n",
              "    <tr>\n",
              "      <th>1</th>\n",
              "      <td>2016-01-11 17:10:00</td>\n",
              "      <td>60</td>\n",
              "      <td>30</td>\n",
              "      <td>19.89</td>\n",
              "      <td>46.693333</td>\n",
              "      <td>19.2</td>\n",
              "      <td>44.722500</td>\n",
              "      <td>19.79</td>\n",
              "      <td>44.790000</td>\n",
              "      <td>19.000000</td>\n",
              "      <td>...</td>\n",
              "      <td>17.066667</td>\n",
              "      <td>45.56</td>\n",
              "      <td>6.483333</td>\n",
              "      <td>733.6</td>\n",
              "      <td>92.0</td>\n",
              "      <td>6.666667</td>\n",
              "      <td>59.166667</td>\n",
              "      <td>5.2</td>\n",
              "      <td>18.606195</td>\n",
              "      <td>18.606195</td>\n",
              "    </tr>\n",
              "    <tr>\n",
              "      <th>2</th>\n",
              "      <td>2016-01-11 17:20:00</td>\n",
              "      <td>50</td>\n",
              "      <td>30</td>\n",
              "      <td>19.89</td>\n",
              "      <td>46.300000</td>\n",
              "      <td>19.2</td>\n",
              "      <td>44.626667</td>\n",
              "      <td>19.79</td>\n",
              "      <td>44.933333</td>\n",
              "      <td>18.926667</td>\n",
              "      <td>...</td>\n",
              "      <td>17.000000</td>\n",
              "      <td>45.50</td>\n",
              "      <td>6.366667</td>\n",
              "      <td>733.7</td>\n",
              "      <td>92.0</td>\n",
              "      <td>6.333333</td>\n",
              "      <td>55.333333</td>\n",
              "      <td>5.1</td>\n",
              "      <td>28.642668</td>\n",
              "      <td>28.642668</td>\n",
              "    </tr>\n",
              "    <tr>\n",
              "      <th>3</th>\n",
              "      <td>2016-01-11 17:30:00</td>\n",
              "      <td>50</td>\n",
              "      <td>40</td>\n",
              "      <td>19.89</td>\n",
              "      <td>46.066667</td>\n",
              "      <td>19.2</td>\n",
              "      <td>44.590000</td>\n",
              "      <td>19.79</td>\n",
              "      <td>45.000000</td>\n",
              "      <td>18.890000</td>\n",
              "      <td>...</td>\n",
              "      <td>17.000000</td>\n",
              "      <td>45.40</td>\n",
              "      <td>6.250000</td>\n",
              "      <td>733.8</td>\n",
              "      <td>92.0</td>\n",
              "      <td>6.000000</td>\n",
              "      <td>51.500000</td>\n",
              "      <td>5.0</td>\n",
              "      <td>45.410389</td>\n",
              "      <td>45.410389</td>\n",
              "    </tr>\n",
              "    <tr>\n",
              "      <th>4</th>\n",
              "      <td>2016-01-11 17:40:00</td>\n",
              "      <td>60</td>\n",
              "      <td>40</td>\n",
              "      <td>19.89</td>\n",
              "      <td>46.333333</td>\n",
              "      <td>19.2</td>\n",
              "      <td>44.530000</td>\n",
              "      <td>19.79</td>\n",
              "      <td>45.000000</td>\n",
              "      <td>18.890000</td>\n",
              "      <td>...</td>\n",
              "      <td>17.000000</td>\n",
              "      <td>45.40</td>\n",
              "      <td>6.133333</td>\n",
              "      <td>733.9</td>\n",
              "      <td>92.0</td>\n",
              "      <td>5.666667</td>\n",
              "      <td>47.666667</td>\n",
              "      <td>4.9</td>\n",
              "      <td>10.084097</td>\n",
              "      <td>10.084097</td>\n",
              "    </tr>\n",
              "  </tbody>\n",
              "</table>\n",
              "<p>5 rows × 29 columns</p>\n",
              "</div>"
            ],
            "text/plain": [
              "                  date  Appliances  lights     T1       RH_1    T2       RH_2  \\\n",
              "0  2016-01-11 17:00:00          60      30  19.89  47.596667  19.2  44.790000   \n",
              "1  2016-01-11 17:10:00          60      30  19.89  46.693333  19.2  44.722500   \n",
              "2  2016-01-11 17:20:00          50      30  19.89  46.300000  19.2  44.626667   \n",
              "3  2016-01-11 17:30:00          50      40  19.89  46.066667  19.2  44.590000   \n",
              "4  2016-01-11 17:40:00          60      40  19.89  46.333333  19.2  44.530000   \n",
              "\n",
              "      T3       RH_3         T4  ...         T9   RH_9     T_out  Press_mm_hg  \\\n",
              "0  19.79  44.730000  19.000000  ...  17.033333  45.53  6.600000        733.5   \n",
              "1  19.79  44.790000  19.000000  ...  17.066667  45.56  6.483333        733.6   \n",
              "2  19.79  44.933333  18.926667  ...  17.000000  45.50  6.366667        733.7   \n",
              "3  19.79  45.000000  18.890000  ...  17.000000  45.40  6.250000        733.8   \n",
              "4  19.79  45.000000  18.890000  ...  17.000000  45.40  6.133333        733.9   \n",
              "\n",
              "   RH_out  Windspeed  Visibility  Tdewpoint        rv1        rv2  \n",
              "0    92.0   7.000000   63.000000        5.3  13.275433  13.275433  \n",
              "1    92.0   6.666667   59.166667        5.2  18.606195  18.606195  \n",
              "2    92.0   6.333333   55.333333        5.1  28.642668  28.642668  \n",
              "3    92.0   6.000000   51.500000        5.0  45.410389  45.410389  \n",
              "4    92.0   5.666667   47.666667        4.9  10.084097  10.084097  \n",
              "\n",
              "[5 rows x 29 columns]"
            ]
          },
          "execution_count": 2,
          "metadata": {},
          "output_type": "execute_result"
        }
      ]
    },
    {
      "cell_type": "markdown",
      "metadata": {
        "id": "bJ9AkrVWzsux"
      },
      "source": [
        "# Inspecting The Dataset"
      ]
    },
    {
      "cell_type": "code",
      "metadata": {
        "id": "Q61RYGXUzsux",
        "outputId": "71344a19-2529-4eb5-f762-b1963b721098"
      },
      "source": [
        "data.shape"
      ],
      "execution_count": null,
      "outputs": [
        {
          "data": {
            "text/plain": [
              "(19735, 29)"
            ]
          },
          "execution_count": 3,
          "metadata": {},
          "output_type": "execute_result"
        }
      ]
    },
    {
      "cell_type": "code",
      "metadata": {
        "id": "VG_wr8VMzsuy",
        "outputId": "66553faf-6b67-4d4f-e5d2-c05dd72ff4a9"
      },
      "source": [
        "data.size"
      ],
      "execution_count": null,
      "outputs": [
        {
          "data": {
            "text/plain": [
              "572315"
            ]
          },
          "execution_count": 4,
          "metadata": {},
          "output_type": "execute_result"
        }
      ]
    },
    {
      "cell_type": "code",
      "metadata": {
        "id": "lFbt3pKXzsu0",
        "outputId": "74b03d3f-edbd-4b3f-bfd4-0c426f3bf780"
      },
      "source": [
        "data.dtypes"
      ],
      "execution_count": null,
      "outputs": [
        {
          "data": {
            "text/plain": [
              "date            object\n",
              "Appliances       int64\n",
              "lights           int64\n",
              "T1             float64\n",
              "RH_1           float64\n",
              "T2             float64\n",
              "RH_2           float64\n",
              "T3             float64\n",
              "RH_3           float64\n",
              "T4             float64\n",
              "RH_4           float64\n",
              "T5             float64\n",
              "RH_5           float64\n",
              "T6             float64\n",
              "RH_6           float64\n",
              "T7             float64\n",
              "RH_7           float64\n",
              "T8             float64\n",
              "RH_8           float64\n",
              "T9             float64\n",
              "RH_9           float64\n",
              "T_out          float64\n",
              "Press_mm_hg    float64\n",
              "RH_out         float64\n",
              "Windspeed      float64\n",
              "Visibility     float64\n",
              "Tdewpoint      float64\n",
              "rv1            float64\n",
              "rv2            float64\n",
              "dtype: object"
            ]
          },
          "execution_count": 5,
          "metadata": {},
          "output_type": "execute_result"
        }
      ]
    },
    {
      "cell_type": "code",
      "metadata": {
        "id": "lHmz4Euxzsu1",
        "outputId": "ee407aa6-4a26-4897-96f7-3d3eef634ad9"
      },
      "source": [
        "data.dtypes.value_counts()"
      ],
      "execution_count": null,
      "outputs": [
        {
          "data": {
            "text/plain": [
              "float64    26\n",
              "int64       2\n",
              "object      1\n",
              "dtype: int64"
            ]
          },
          "execution_count": 6,
          "metadata": {},
          "output_type": "execute_result"
        }
      ]
    },
    {
      "cell_type": "code",
      "metadata": {
        "id": "IvTagnT7zsu3",
        "outputId": "e37b7721-259e-42b6-81d1-727cc8b65432"
      },
      "source": [
        "data.describe()"
      ],
      "execution_count": null,
      "outputs": [
        {
          "data": {
            "text/html": [
              "<div>\n",
              "<style scoped>\n",
              "    .dataframe tbody tr th:only-of-type {\n",
              "        vertical-align: middle;\n",
              "    }\n",
              "\n",
              "    .dataframe tbody tr th {\n",
              "        vertical-align: top;\n",
              "    }\n",
              "\n",
              "    .dataframe thead th {\n",
              "        text-align: right;\n",
              "    }\n",
              "</style>\n",
              "<table border=\"1\" class=\"dataframe\">\n",
              "  <thead>\n",
              "    <tr style=\"text-align: right;\">\n",
              "      <th></th>\n",
              "      <th>Appliances</th>\n",
              "      <th>lights</th>\n",
              "      <th>T1</th>\n",
              "      <th>RH_1</th>\n",
              "      <th>T2</th>\n",
              "      <th>RH_2</th>\n",
              "      <th>T3</th>\n",
              "      <th>RH_3</th>\n",
              "      <th>T4</th>\n",
              "      <th>RH_4</th>\n",
              "      <th>...</th>\n",
              "      <th>T9</th>\n",
              "      <th>RH_9</th>\n",
              "      <th>T_out</th>\n",
              "      <th>Press_mm_hg</th>\n",
              "      <th>RH_out</th>\n",
              "      <th>Windspeed</th>\n",
              "      <th>Visibility</th>\n",
              "      <th>Tdewpoint</th>\n",
              "      <th>rv1</th>\n",
              "      <th>rv2</th>\n",
              "    </tr>\n",
              "  </thead>\n",
              "  <tbody>\n",
              "    <tr>\n",
              "      <th>count</th>\n",
              "      <td>19735.000000</td>\n",
              "      <td>19735.000000</td>\n",
              "      <td>19735.000000</td>\n",
              "      <td>19735.000000</td>\n",
              "      <td>19735.000000</td>\n",
              "      <td>19735.000000</td>\n",
              "      <td>19735.000000</td>\n",
              "      <td>19735.000000</td>\n",
              "      <td>19735.000000</td>\n",
              "      <td>19735.000000</td>\n",
              "      <td>...</td>\n",
              "      <td>19735.000000</td>\n",
              "      <td>19735.000000</td>\n",
              "      <td>19735.000000</td>\n",
              "      <td>19735.000000</td>\n",
              "      <td>19735.000000</td>\n",
              "      <td>19735.000000</td>\n",
              "      <td>19735.000000</td>\n",
              "      <td>19735.000000</td>\n",
              "      <td>19735.000000</td>\n",
              "      <td>19735.000000</td>\n",
              "    </tr>\n",
              "    <tr>\n",
              "      <th>mean</th>\n",
              "      <td>97.694958</td>\n",
              "      <td>3.801875</td>\n",
              "      <td>21.686571</td>\n",
              "      <td>40.259739</td>\n",
              "      <td>20.341219</td>\n",
              "      <td>40.420420</td>\n",
              "      <td>22.267611</td>\n",
              "      <td>39.242500</td>\n",
              "      <td>20.855335</td>\n",
              "      <td>39.026904</td>\n",
              "      <td>...</td>\n",
              "      <td>19.485828</td>\n",
              "      <td>41.552401</td>\n",
              "      <td>7.411665</td>\n",
              "      <td>755.522602</td>\n",
              "      <td>79.750418</td>\n",
              "      <td>4.039752</td>\n",
              "      <td>38.330834</td>\n",
              "      <td>3.760707</td>\n",
              "      <td>24.988033</td>\n",
              "      <td>24.988033</td>\n",
              "    </tr>\n",
              "    <tr>\n",
              "      <th>std</th>\n",
              "      <td>102.524891</td>\n",
              "      <td>7.935988</td>\n",
              "      <td>1.606066</td>\n",
              "      <td>3.979299</td>\n",
              "      <td>2.192974</td>\n",
              "      <td>4.069813</td>\n",
              "      <td>2.006111</td>\n",
              "      <td>3.254576</td>\n",
              "      <td>2.042884</td>\n",
              "      <td>4.341321</td>\n",
              "      <td>...</td>\n",
              "      <td>2.014712</td>\n",
              "      <td>4.151497</td>\n",
              "      <td>5.317409</td>\n",
              "      <td>7.399441</td>\n",
              "      <td>14.901088</td>\n",
              "      <td>2.451221</td>\n",
              "      <td>11.794719</td>\n",
              "      <td>4.194648</td>\n",
              "      <td>14.496634</td>\n",
              "      <td>14.496634</td>\n",
              "    </tr>\n",
              "    <tr>\n",
              "      <th>min</th>\n",
              "      <td>10.000000</td>\n",
              "      <td>0.000000</td>\n",
              "      <td>16.790000</td>\n",
              "      <td>27.023333</td>\n",
              "      <td>16.100000</td>\n",
              "      <td>20.463333</td>\n",
              "      <td>17.200000</td>\n",
              "      <td>28.766667</td>\n",
              "      <td>15.100000</td>\n",
              "      <td>27.660000</td>\n",
              "      <td>...</td>\n",
              "      <td>14.890000</td>\n",
              "      <td>29.166667</td>\n",
              "      <td>-5.000000</td>\n",
              "      <td>729.300000</td>\n",
              "      <td>24.000000</td>\n",
              "      <td>0.000000</td>\n",
              "      <td>1.000000</td>\n",
              "      <td>-6.600000</td>\n",
              "      <td>0.005322</td>\n",
              "      <td>0.005322</td>\n",
              "    </tr>\n",
              "    <tr>\n",
              "      <th>25%</th>\n",
              "      <td>50.000000</td>\n",
              "      <td>0.000000</td>\n",
              "      <td>20.760000</td>\n",
              "      <td>37.333333</td>\n",
              "      <td>18.790000</td>\n",
              "      <td>37.900000</td>\n",
              "      <td>20.790000</td>\n",
              "      <td>36.900000</td>\n",
              "      <td>19.530000</td>\n",
              "      <td>35.530000</td>\n",
              "      <td>...</td>\n",
              "      <td>18.000000</td>\n",
              "      <td>38.500000</td>\n",
              "      <td>3.666667</td>\n",
              "      <td>750.933333</td>\n",
              "      <td>70.333333</td>\n",
              "      <td>2.000000</td>\n",
              "      <td>29.000000</td>\n",
              "      <td>0.900000</td>\n",
              "      <td>12.497889</td>\n",
              "      <td>12.497889</td>\n",
              "    </tr>\n",
              "    <tr>\n",
              "      <th>50%</th>\n",
              "      <td>60.000000</td>\n",
              "      <td>0.000000</td>\n",
              "      <td>21.600000</td>\n",
              "      <td>39.656667</td>\n",
              "      <td>20.000000</td>\n",
              "      <td>40.500000</td>\n",
              "      <td>22.100000</td>\n",
              "      <td>38.530000</td>\n",
              "      <td>20.666667</td>\n",
              "      <td>38.400000</td>\n",
              "      <td>...</td>\n",
              "      <td>19.390000</td>\n",
              "      <td>40.900000</td>\n",
              "      <td>6.916667</td>\n",
              "      <td>756.100000</td>\n",
              "      <td>83.666667</td>\n",
              "      <td>3.666667</td>\n",
              "      <td>40.000000</td>\n",
              "      <td>3.433333</td>\n",
              "      <td>24.897653</td>\n",
              "      <td>24.897653</td>\n",
              "    </tr>\n",
              "    <tr>\n",
              "      <th>75%</th>\n",
              "      <td>100.000000</td>\n",
              "      <td>0.000000</td>\n",
              "      <td>22.600000</td>\n",
              "      <td>43.066667</td>\n",
              "      <td>21.500000</td>\n",
              "      <td>43.260000</td>\n",
              "      <td>23.290000</td>\n",
              "      <td>41.760000</td>\n",
              "      <td>22.100000</td>\n",
              "      <td>42.156667</td>\n",
              "      <td>...</td>\n",
              "      <td>20.600000</td>\n",
              "      <td>44.338095</td>\n",
              "      <td>10.408333</td>\n",
              "      <td>760.933333</td>\n",
              "      <td>91.666667</td>\n",
              "      <td>5.500000</td>\n",
              "      <td>40.000000</td>\n",
              "      <td>6.566667</td>\n",
              "      <td>37.583769</td>\n",
              "      <td>37.583769</td>\n",
              "    </tr>\n",
              "    <tr>\n",
              "      <th>max</th>\n",
              "      <td>1080.000000</td>\n",
              "      <td>70.000000</td>\n",
              "      <td>26.260000</td>\n",
              "      <td>63.360000</td>\n",
              "      <td>29.856667</td>\n",
              "      <td>56.026667</td>\n",
              "      <td>29.236000</td>\n",
              "      <td>50.163333</td>\n",
              "      <td>26.200000</td>\n",
              "      <td>51.090000</td>\n",
              "      <td>...</td>\n",
              "      <td>24.500000</td>\n",
              "      <td>53.326667</td>\n",
              "      <td>26.100000</td>\n",
              "      <td>772.300000</td>\n",
              "      <td>100.000000</td>\n",
              "      <td>14.000000</td>\n",
              "      <td>66.000000</td>\n",
              "      <td>15.500000</td>\n",
              "      <td>49.996530</td>\n",
              "      <td>49.996530</td>\n",
              "    </tr>\n",
              "  </tbody>\n",
              "</table>\n",
              "<p>8 rows × 28 columns</p>\n",
              "</div>"
            ],
            "text/plain": [
              "         Appliances        lights            T1          RH_1            T2  \\\n",
              "count  19735.000000  19735.000000  19735.000000  19735.000000  19735.000000   \n",
              "mean      97.694958      3.801875     21.686571     40.259739     20.341219   \n",
              "std      102.524891      7.935988      1.606066      3.979299      2.192974   \n",
              "min       10.000000      0.000000     16.790000     27.023333     16.100000   \n",
              "25%       50.000000      0.000000     20.760000     37.333333     18.790000   \n",
              "50%       60.000000      0.000000     21.600000     39.656667     20.000000   \n",
              "75%      100.000000      0.000000     22.600000     43.066667     21.500000   \n",
              "max     1080.000000     70.000000     26.260000     63.360000     29.856667   \n",
              "\n",
              "               RH_2            T3          RH_3            T4          RH_4  \\\n",
              "count  19735.000000  19735.000000  19735.000000  19735.000000  19735.000000   \n",
              "mean      40.420420     22.267611     39.242500     20.855335     39.026904   \n",
              "std        4.069813      2.006111      3.254576      2.042884      4.341321   \n",
              "min       20.463333     17.200000     28.766667     15.100000     27.660000   \n",
              "25%       37.900000     20.790000     36.900000     19.530000     35.530000   \n",
              "50%       40.500000     22.100000     38.530000     20.666667     38.400000   \n",
              "75%       43.260000     23.290000     41.760000     22.100000     42.156667   \n",
              "max       56.026667     29.236000     50.163333     26.200000     51.090000   \n",
              "\n",
              "       ...            T9          RH_9         T_out   Press_mm_hg  \\\n",
              "count  ...  19735.000000  19735.000000  19735.000000  19735.000000   \n",
              "mean   ...     19.485828     41.552401      7.411665    755.522602   \n",
              "std    ...      2.014712      4.151497      5.317409      7.399441   \n",
              "min    ...     14.890000     29.166667     -5.000000    729.300000   \n",
              "25%    ...     18.000000     38.500000      3.666667    750.933333   \n",
              "50%    ...     19.390000     40.900000      6.916667    756.100000   \n",
              "75%    ...     20.600000     44.338095     10.408333    760.933333   \n",
              "max    ...     24.500000     53.326667     26.100000    772.300000   \n",
              "\n",
              "             RH_out     Windspeed    Visibility     Tdewpoint           rv1  \\\n",
              "count  19735.000000  19735.000000  19735.000000  19735.000000  19735.000000   \n",
              "mean      79.750418      4.039752     38.330834      3.760707     24.988033   \n",
              "std       14.901088      2.451221     11.794719      4.194648     14.496634   \n",
              "min       24.000000      0.000000      1.000000     -6.600000      0.005322   \n",
              "25%       70.333333      2.000000     29.000000      0.900000     12.497889   \n",
              "50%       83.666667      3.666667     40.000000      3.433333     24.897653   \n",
              "75%       91.666667      5.500000     40.000000      6.566667     37.583769   \n",
              "max      100.000000     14.000000     66.000000     15.500000     49.996530   \n",
              "\n",
              "                rv2  \n",
              "count  19735.000000  \n",
              "mean      24.988033  \n",
              "std       14.496634  \n",
              "min        0.005322  \n",
              "25%       12.497889  \n",
              "50%       24.897653  \n",
              "75%       37.583769  \n",
              "max       49.996530  \n",
              "\n",
              "[8 rows x 28 columns]"
            ]
          },
          "execution_count": 7,
          "metadata": {},
          "output_type": "execute_result"
        }
      ]
    },
    {
      "cell_type": "code",
      "metadata": {
        "id": "HEaJDka_zsu3",
        "outputId": "56fa8dce-888b-4e74-feda-b7d8a70f6078"
      },
      "source": [
        "data.isnull().sum()"
      ],
      "execution_count": null,
      "outputs": [
        {
          "data": {
            "text/plain": [
              "date           0\n",
              "Appliances     0\n",
              "lights         0\n",
              "T1             0\n",
              "RH_1           0\n",
              "T2             0\n",
              "RH_2           0\n",
              "T3             0\n",
              "RH_3           0\n",
              "T4             0\n",
              "RH_4           0\n",
              "T5             0\n",
              "RH_5           0\n",
              "T6             0\n",
              "RH_6           0\n",
              "T7             0\n",
              "RH_7           0\n",
              "T8             0\n",
              "RH_8           0\n",
              "T9             0\n",
              "RH_9           0\n",
              "T_out          0\n",
              "Press_mm_hg    0\n",
              "RH_out         0\n",
              "Windspeed      0\n",
              "Visibility     0\n",
              "Tdewpoint      0\n",
              "rv1            0\n",
              "rv2            0\n",
              "dtype: int64"
            ]
          },
          "execution_count": 8,
          "metadata": {},
          "output_type": "execute_result"
        }
      ]
    },
    {
      "cell_type": "code",
      "metadata": {
        "id": "fdd0e5QJzsu4",
        "outputId": "345963f8-51f2-44f1-82b9-3f3991e5e77a"
      },
      "source": [
        "data.duplicated().sum()"
      ],
      "execution_count": null,
      "outputs": [
        {
          "data": {
            "text/plain": [
              "0"
            ]
          },
          "execution_count": 9,
          "metadata": {},
          "output_type": "execute_result"
        }
      ]
    },
    {
      "cell_type": "markdown",
      "metadata": {
        "id": "Zo4XD5LHzsu4"
      },
      "source": [
        "# Checking The Correlation of The dataset"
      ]
    },
    {
      "cell_type": "code",
      "metadata": {
        "scrolled": true,
        "id": "5PM5yuGWzsu5",
        "outputId": "b7167c65-5988-424a-925e-d79907bb386a"
      },
      "source": [
        "data.corr()"
      ],
      "execution_count": null,
      "outputs": [
        {
          "data": {
            "text/html": [
              "<div>\n",
              "<style scoped>\n",
              "    .dataframe tbody tr th:only-of-type {\n",
              "        vertical-align: middle;\n",
              "    }\n",
              "\n",
              "    .dataframe tbody tr th {\n",
              "        vertical-align: top;\n",
              "    }\n",
              "\n",
              "    .dataframe thead th {\n",
              "        text-align: right;\n",
              "    }\n",
              "</style>\n",
              "<table border=\"1\" class=\"dataframe\">\n",
              "  <thead>\n",
              "    <tr style=\"text-align: right;\">\n",
              "      <th></th>\n",
              "      <th>Appliances</th>\n",
              "      <th>lights</th>\n",
              "      <th>T1</th>\n",
              "      <th>RH_1</th>\n",
              "      <th>T2</th>\n",
              "      <th>RH_2</th>\n",
              "      <th>T3</th>\n",
              "      <th>RH_3</th>\n",
              "      <th>T4</th>\n",
              "      <th>RH_4</th>\n",
              "      <th>...</th>\n",
              "      <th>T9</th>\n",
              "      <th>RH_9</th>\n",
              "      <th>T_out</th>\n",
              "      <th>Press_mm_hg</th>\n",
              "      <th>RH_out</th>\n",
              "      <th>Windspeed</th>\n",
              "      <th>Visibility</th>\n",
              "      <th>Tdewpoint</th>\n",
              "      <th>rv1</th>\n",
              "      <th>rv2</th>\n",
              "    </tr>\n",
              "  </thead>\n",
              "  <tbody>\n",
              "    <tr>\n",
              "      <th>Appliances</th>\n",
              "      <td>1.000000</td>\n",
              "      <td>0.197278</td>\n",
              "      <td>0.055447</td>\n",
              "      <td>0.086031</td>\n",
              "      <td>0.120073</td>\n",
              "      <td>-0.060465</td>\n",
              "      <td>0.085060</td>\n",
              "      <td>0.036292</td>\n",
              "      <td>0.040281</td>\n",
              "      <td>0.016965</td>\n",
              "      <td>...</td>\n",
              "      <td>0.010010</td>\n",
              "      <td>-0.051462</td>\n",
              "      <td>0.099155</td>\n",
              "      <td>-0.034885</td>\n",
              "      <td>-0.152282</td>\n",
              "      <td>0.087122</td>\n",
              "      <td>0.000230</td>\n",
              "      <td>0.015353</td>\n",
              "      <td>-0.011145</td>\n",
              "      <td>-0.011145</td>\n",
              "    </tr>\n",
              "    <tr>\n",
              "      <th>lights</th>\n",
              "      <td>0.197278</td>\n",
              "      <td>1.000000</td>\n",
              "      <td>-0.023528</td>\n",
              "      <td>0.106968</td>\n",
              "      <td>-0.005622</td>\n",
              "      <td>0.050985</td>\n",
              "      <td>-0.097393</td>\n",
              "      <td>0.131161</td>\n",
              "      <td>-0.008859</td>\n",
              "      <td>0.114936</td>\n",
              "      <td>...</td>\n",
              "      <td>-0.157592</td>\n",
              "      <td>-0.008766</td>\n",
              "      <td>-0.074424</td>\n",
              "      <td>-0.010576</td>\n",
              "      <td>0.068543</td>\n",
              "      <td>0.060281</td>\n",
              "      <td>0.020038</td>\n",
              "      <td>-0.036322</td>\n",
              "      <td>0.000521</td>\n",
              "      <td>0.000521</td>\n",
              "    </tr>\n",
              "    <tr>\n",
              "      <th>T1</th>\n",
              "      <td>0.055447</td>\n",
              "      <td>-0.023528</td>\n",
              "      <td>1.000000</td>\n",
              "      <td>0.164006</td>\n",
              "      <td>0.836834</td>\n",
              "      <td>-0.002509</td>\n",
              "      <td>0.892402</td>\n",
              "      <td>-0.028550</td>\n",
              "      <td>0.877001</td>\n",
              "      <td>0.097861</td>\n",
              "      <td>...</td>\n",
              "      <td>0.844777</td>\n",
              "      <td>0.071756</td>\n",
              "      <td>0.682846</td>\n",
              "      <td>-0.150574</td>\n",
              "      <td>-0.345481</td>\n",
              "      <td>-0.087654</td>\n",
              "      <td>-0.076210</td>\n",
              "      <td>0.571309</td>\n",
              "      <td>-0.006203</td>\n",
              "      <td>-0.006203</td>\n",
              "    </tr>\n",
              "    <tr>\n",
              "      <th>RH_1</th>\n",
              "      <td>0.086031</td>\n",
              "      <td>0.106968</td>\n",
              "      <td>0.164006</td>\n",
              "      <td>1.000000</td>\n",
              "      <td>0.269839</td>\n",
              "      <td>0.797535</td>\n",
              "      <td>0.253230</td>\n",
              "      <td>0.844677</td>\n",
              "      <td>0.106180</td>\n",
              "      <td>0.880359</td>\n",
              "      <td>...</td>\n",
              "      <td>0.115263</td>\n",
              "      <td>0.764001</td>\n",
              "      <td>0.340767</td>\n",
              "      <td>-0.293957</td>\n",
              "      <td>0.274126</td>\n",
              "      <td>0.204932</td>\n",
              "      <td>-0.021057</td>\n",
              "      <td>0.639106</td>\n",
              "      <td>-0.000699</td>\n",
              "      <td>-0.000699</td>\n",
              "    </tr>\n",
              "    <tr>\n",
              "      <th>T2</th>\n",
              "      <td>0.120073</td>\n",
              "      <td>-0.005622</td>\n",
              "      <td>0.836834</td>\n",
              "      <td>0.269839</td>\n",
              "      <td>1.000000</td>\n",
              "      <td>-0.165610</td>\n",
              "      <td>0.735245</td>\n",
              "      <td>0.121497</td>\n",
              "      <td>0.762066</td>\n",
              "      <td>0.231563</td>\n",
              "      <td>...</td>\n",
              "      <td>0.675535</td>\n",
              "      <td>0.157346</td>\n",
              "      <td>0.792255</td>\n",
              "      <td>-0.133028</td>\n",
              "      <td>-0.505291</td>\n",
              "      <td>0.052495</td>\n",
              "      <td>-0.069721</td>\n",
              "      <td>0.582602</td>\n",
              "      <td>-0.011087</td>\n",
              "      <td>-0.011087</td>\n",
              "    </tr>\n",
              "    <tr>\n",
              "      <th>RH_2</th>\n",
              "      <td>-0.060465</td>\n",
              "      <td>0.050985</td>\n",
              "      <td>-0.002509</td>\n",
              "      <td>0.797535</td>\n",
              "      <td>-0.165610</td>\n",
              "      <td>1.000000</td>\n",
              "      <td>0.137319</td>\n",
              "      <td>0.678326</td>\n",
              "      <td>-0.047304</td>\n",
              "      <td>0.721435</td>\n",
              "      <td>...</td>\n",
              "      <td>0.054544</td>\n",
              "      <td>0.676467</td>\n",
              "      <td>0.033674</td>\n",
              "      <td>-0.255646</td>\n",
              "      <td>0.584911</td>\n",
              "      <td>0.069190</td>\n",
              "      <td>-0.005368</td>\n",
              "      <td>0.499152</td>\n",
              "      <td>0.006275</td>\n",
              "      <td>0.006275</td>\n",
              "    </tr>\n",
              "    <tr>\n",
              "      <th>T3</th>\n",
              "      <td>0.085060</td>\n",
              "      <td>-0.097393</td>\n",
              "      <td>0.892402</td>\n",
              "      <td>0.253230</td>\n",
              "      <td>0.735245</td>\n",
              "      <td>0.137319</td>\n",
              "      <td>1.000000</td>\n",
              "      <td>-0.011234</td>\n",
              "      <td>0.852778</td>\n",
              "      <td>0.122737</td>\n",
              "      <td>...</td>\n",
              "      <td>0.901324</td>\n",
              "      <td>0.134602</td>\n",
              "      <td>0.699417</td>\n",
              "      <td>-0.189974</td>\n",
              "      <td>-0.281718</td>\n",
              "      <td>-0.100776</td>\n",
              "      <td>-0.102310</td>\n",
              "      <td>0.645886</td>\n",
              "      <td>-0.005194</td>\n",
              "      <td>-0.005194</td>\n",
              "    </tr>\n",
              "    <tr>\n",
              "      <th>RH_3</th>\n",
              "      <td>0.036292</td>\n",
              "      <td>0.131161</td>\n",
              "      <td>-0.028550</td>\n",
              "      <td>0.844677</td>\n",
              "      <td>0.121497</td>\n",
              "      <td>0.678326</td>\n",
              "      <td>-0.011234</td>\n",
              "      <td>1.000000</td>\n",
              "      <td>-0.140457</td>\n",
              "      <td>0.898978</td>\n",
              "      <td>...</td>\n",
              "      <td>-0.195270</td>\n",
              "      <td>0.833538</td>\n",
              "      <td>0.118207</td>\n",
              "      <td>-0.233274</td>\n",
              "      <td>0.356192</td>\n",
              "      <td>0.263188</td>\n",
              "      <td>0.017041</td>\n",
              "      <td>0.414387</td>\n",
              "      <td>-0.000477</td>\n",
              "      <td>-0.000477</td>\n",
              "    </tr>\n",
              "    <tr>\n",
              "      <th>T4</th>\n",
              "      <td>0.040281</td>\n",
              "      <td>-0.008859</td>\n",
              "      <td>0.877001</td>\n",
              "      <td>0.106180</td>\n",
              "      <td>0.762066</td>\n",
              "      <td>-0.047304</td>\n",
              "      <td>0.852778</td>\n",
              "      <td>-0.140457</td>\n",
              "      <td>1.000000</td>\n",
              "      <td>-0.048650</td>\n",
              "      <td>...</td>\n",
              "      <td>0.889439</td>\n",
              "      <td>-0.025549</td>\n",
              "      <td>0.663478</td>\n",
              "      <td>-0.075292</td>\n",
              "      <td>-0.388602</td>\n",
              "      <td>-0.185747</td>\n",
              "      <td>-0.104768</td>\n",
              "      <td>0.519471</td>\n",
              "      <td>-0.001815</td>\n",
              "      <td>-0.001815</td>\n",
              "    </tr>\n",
              "    <tr>\n",
              "      <th>RH_4</th>\n",
              "      <td>0.016965</td>\n",
              "      <td>0.114936</td>\n",
              "      <td>0.097861</td>\n",
              "      <td>0.880359</td>\n",
              "      <td>0.231563</td>\n",
              "      <td>0.721435</td>\n",
              "      <td>0.122737</td>\n",
              "      <td>0.898978</td>\n",
              "      <td>-0.048650</td>\n",
              "      <td>1.000000</td>\n",
              "      <td>...</td>\n",
              "      <td>-0.044518</td>\n",
              "      <td>0.856591</td>\n",
              "      <td>0.293289</td>\n",
              "      <td>-0.250748</td>\n",
              "      <td>0.336813</td>\n",
              "      <td>0.300192</td>\n",
              "      <td>0.002636</td>\n",
              "      <td>0.616509</td>\n",
              "      <td>-0.001787</td>\n",
              "      <td>-0.001787</td>\n",
              "    </tr>\n",
              "    <tr>\n",
              "      <th>T5</th>\n",
              "      <td>0.019760</td>\n",
              "      <td>-0.078745</td>\n",
              "      <td>0.885247</td>\n",
              "      <td>0.205797</td>\n",
              "      <td>0.720550</td>\n",
              "      <td>0.110409</td>\n",
              "      <td>0.888169</td>\n",
              "      <td>-0.050062</td>\n",
              "      <td>0.871813</td>\n",
              "      <td>0.091812</td>\n",
              "      <td>...</td>\n",
              "      <td>0.911055</td>\n",
              "      <td>0.072308</td>\n",
              "      <td>0.651321</td>\n",
              "      <td>-0.170999</td>\n",
              "      <td>-0.273953</td>\n",
              "      <td>-0.145011</td>\n",
              "      <td>-0.084164</td>\n",
              "      <td>0.588362</td>\n",
              "      <td>-0.005490</td>\n",
              "      <td>-0.005490</td>\n",
              "    </tr>\n",
              "    <tr>\n",
              "      <th>RH_5</th>\n",
              "      <td>0.006955</td>\n",
              "      <td>0.141233</td>\n",
              "      <td>-0.014782</td>\n",
              "      <td>0.303258</td>\n",
              "      <td>0.029595</td>\n",
              "      <td>0.250271</td>\n",
              "      <td>-0.066355</td>\n",
              "      <td>0.375422</td>\n",
              "      <td>-0.076489</td>\n",
              "      <td>0.352591</td>\n",
              "      <td>...</td>\n",
              "      <td>-0.138509</td>\n",
              "      <td>0.272197</td>\n",
              "      <td>-0.053126</td>\n",
              "      <td>-0.119327</td>\n",
              "      <td>0.185941</td>\n",
              "      <td>0.082044</td>\n",
              "      <td>-0.013133</td>\n",
              "      <td>0.078175</td>\n",
              "      <td>-0.011056</td>\n",
              "      <td>-0.011056</td>\n",
              "    </tr>\n",
              "    <tr>\n",
              "      <th>T6</th>\n",
              "      <td>0.117638</td>\n",
              "      <td>-0.079029</td>\n",
              "      <td>0.654769</td>\n",
              "      <td>0.316141</td>\n",
              "      <td>0.801186</td>\n",
              "      <td>-0.009670</td>\n",
              "      <td>0.686882</td>\n",
              "      <td>0.076833</td>\n",
              "      <td>0.652350</td>\n",
              "      <td>0.259047</td>\n",
              "      <td>...</td>\n",
              "      <td>0.667177</td>\n",
              "      <td>0.184424</td>\n",
              "      <td>0.974787</td>\n",
              "      <td>-0.141643</td>\n",
              "      <td>-0.569119</td>\n",
              "      <td>0.169185</td>\n",
              "      <td>-0.081313</td>\n",
              "      <td>0.764242</td>\n",
              "      <td>-0.015086</td>\n",
              "      <td>-0.015086</td>\n",
              "    </tr>\n",
              "    <tr>\n",
              "      <th>RH_6</th>\n",
              "      <td>-0.083178</td>\n",
              "      <td>0.153756</td>\n",
              "      <td>-0.615045</td>\n",
              "      <td>0.245126</td>\n",
              "      <td>-0.580372</td>\n",
              "      <td>0.389933</td>\n",
              "      <td>-0.647672</td>\n",
              "      <td>0.514912</td>\n",
              "      <td>-0.703149</td>\n",
              "      <td>0.392178</td>\n",
              "      <td>...</td>\n",
              "      <td>-0.738940</td>\n",
              "      <td>0.391943</td>\n",
              "      <td>-0.641572</td>\n",
              "      <td>-0.065814</td>\n",
              "      <td>0.718587</td>\n",
              "      <td>0.098317</td>\n",
              "      <td>0.108705</td>\n",
              "      <td>-0.260417</td>\n",
              "      <td>0.011671</td>\n",
              "      <td>0.011671</td>\n",
              "    </tr>\n",
              "    <tr>\n",
              "      <th>T7</th>\n",
              "      <td>0.025801</td>\n",
              "      <td>-0.135347</td>\n",
              "      <td>0.838705</td>\n",
              "      <td>0.021397</td>\n",
              "      <td>0.663660</td>\n",
              "      <td>-0.051422</td>\n",
              "      <td>0.847374</td>\n",
              "      <td>-0.250090</td>\n",
              "      <td>0.877763</td>\n",
              "      <td>-0.131204</td>\n",
              "      <td>...</td>\n",
              "      <td>0.944776</td>\n",
              "      <td>-0.077690</td>\n",
              "      <td>0.631293</td>\n",
              "      <td>-0.097724</td>\n",
              "      <td>-0.411213</td>\n",
              "      <td>-0.185892</td>\n",
              "      <td>-0.110089</td>\n",
              "      <td>0.466625</td>\n",
              "      <td>-0.003900</td>\n",
              "      <td>-0.003900</td>\n",
              "    </tr>\n",
              "    <tr>\n",
              "      <th>RH_7</th>\n",
              "      <td>-0.055642</td>\n",
              "      <td>0.035069</td>\n",
              "      <td>0.135182</td>\n",
              "      <td>0.801122</td>\n",
              "      <td>0.229212</td>\n",
              "      <td>0.690584</td>\n",
              "      <td>0.172624</td>\n",
              "      <td>0.832685</td>\n",
              "      <td>0.043527</td>\n",
              "      <td>0.894301</td>\n",
              "      <td>...</td>\n",
              "      <td>0.028055</td>\n",
              "      <td>0.858686</td>\n",
              "      <td>0.294199</td>\n",
              "      <td>-0.265850</td>\n",
              "      <td>0.378519</td>\n",
              "      <td>0.212979</td>\n",
              "      <td>-0.007184</td>\n",
              "      <td>0.641857</td>\n",
              "      <td>0.001820</td>\n",
              "      <td>0.001820</td>\n",
              "    </tr>\n",
              "    <tr>\n",
              "      <th>T8</th>\n",
              "      <td>0.039572</td>\n",
              "      <td>-0.071458</td>\n",
              "      <td>0.825413</td>\n",
              "      <td>-0.030053</td>\n",
              "      <td>0.578191</td>\n",
              "      <td>-0.041023</td>\n",
              "      <td>0.795283</td>\n",
              "      <td>-0.283228</td>\n",
              "      <td>0.796256</td>\n",
              "      <td>-0.167066</td>\n",
              "      <td>...</td>\n",
              "      <td>0.869338</td>\n",
              "      <td>-0.156820</td>\n",
              "      <td>0.502842</td>\n",
              "      <td>-0.162855</td>\n",
              "      <td>-0.300438</td>\n",
              "      <td>-0.218876</td>\n",
              "      <td>-0.060098</td>\n",
              "      <td>0.391810</td>\n",
              "      <td>-0.003210</td>\n",
              "      <td>-0.003210</td>\n",
              "    </tr>\n",
              "    <tr>\n",
              "      <th>RH_8</th>\n",
              "      <td>-0.094039</td>\n",
              "      <td>0.012915</td>\n",
              "      <td>-0.006441</td>\n",
              "      <td>0.736196</td>\n",
              "      <td>0.068534</td>\n",
              "      <td>0.679777</td>\n",
              "      <td>0.044427</td>\n",
              "      <td>0.828822</td>\n",
              "      <td>-0.095192</td>\n",
              "      <td>0.847259</td>\n",
              "      <td>...</td>\n",
              "      <td>-0.113014</td>\n",
              "      <td>0.855812</td>\n",
              "      <td>0.117141</td>\n",
              "      <td>-0.225591</td>\n",
              "      <td>0.487355</td>\n",
              "      <td>0.202380</td>\n",
              "      <td>0.046178</td>\n",
              "      <td>0.501775</td>\n",
              "      <td>0.004480</td>\n",
              "      <td>0.004480</td>\n",
              "    </tr>\n",
              "    <tr>\n",
              "      <th>T9</th>\n",
              "      <td>0.010010</td>\n",
              "      <td>-0.157592</td>\n",
              "      <td>0.844777</td>\n",
              "      <td>0.115263</td>\n",
              "      <td>0.675535</td>\n",
              "      <td>0.054544</td>\n",
              "      <td>0.901324</td>\n",
              "      <td>-0.195270</td>\n",
              "      <td>0.889439</td>\n",
              "      <td>-0.044518</td>\n",
              "      <td>...</td>\n",
              "      <td>1.000000</td>\n",
              "      <td>-0.008683</td>\n",
              "      <td>0.668220</td>\n",
              "      <td>-0.156828</td>\n",
              "      <td>-0.318848</td>\n",
              "      <td>-0.177756</td>\n",
              "      <td>-0.103915</td>\n",
              "      <td>0.581483</td>\n",
              "      <td>-0.001227</td>\n",
              "      <td>-0.001227</td>\n",
              "    </tr>\n",
              "    <tr>\n",
              "      <th>RH_9</th>\n",
              "      <td>-0.051462</td>\n",
              "      <td>-0.008766</td>\n",
              "      <td>0.071756</td>\n",
              "      <td>0.764001</td>\n",
              "      <td>0.157346</td>\n",
              "      <td>0.676467</td>\n",
              "      <td>0.134602</td>\n",
              "      <td>0.833538</td>\n",
              "      <td>-0.025549</td>\n",
              "      <td>0.856591</td>\n",
              "      <td>...</td>\n",
              "      <td>-0.008683</td>\n",
              "      <td>1.000000</td>\n",
              "      <td>0.223270</td>\n",
              "      <td>-0.183739</td>\n",
              "      <td>0.359377</td>\n",
              "      <td>0.238655</td>\n",
              "      <td>0.008667</td>\n",
              "      <td>0.540328</td>\n",
              "      <td>-0.002955</td>\n",
              "      <td>-0.002955</td>\n",
              "    </tr>\n",
              "    <tr>\n",
              "      <th>T_out</th>\n",
              "      <td>0.099155</td>\n",
              "      <td>-0.074424</td>\n",
              "      <td>0.682846</td>\n",
              "      <td>0.340767</td>\n",
              "      <td>0.792255</td>\n",
              "      <td>0.033674</td>\n",
              "      <td>0.699417</td>\n",
              "      <td>0.118207</td>\n",
              "      <td>0.663478</td>\n",
              "      <td>0.293289</td>\n",
              "      <td>...</td>\n",
              "      <td>0.668220</td>\n",
              "      <td>0.223270</td>\n",
              "      <td>1.000000</td>\n",
              "      <td>-0.143249</td>\n",
              "      <td>-0.574197</td>\n",
              "      <td>0.192936</td>\n",
              "      <td>-0.077367</td>\n",
              "      <td>0.790661</td>\n",
              "      <td>-0.015216</td>\n",
              "      <td>-0.015216</td>\n",
              "    </tr>\n",
              "    <tr>\n",
              "      <th>Press_mm_hg</th>\n",
              "      <td>-0.034885</td>\n",
              "      <td>-0.010576</td>\n",
              "      <td>-0.150574</td>\n",
              "      <td>-0.293957</td>\n",
              "      <td>-0.133028</td>\n",
              "      <td>-0.255646</td>\n",
              "      <td>-0.189974</td>\n",
              "      <td>-0.233274</td>\n",
              "      <td>-0.075292</td>\n",
              "      <td>-0.250748</td>\n",
              "      <td>...</td>\n",
              "      <td>-0.156828</td>\n",
              "      <td>-0.183739</td>\n",
              "      <td>-0.143249</td>\n",
              "      <td>1.000000</td>\n",
              "      <td>-0.092017</td>\n",
              "      <td>-0.235032</td>\n",
              "      <td>0.040315</td>\n",
              "      <td>-0.244098</td>\n",
              "      <td>0.000699</td>\n",
              "      <td>0.000699</td>\n",
              "    </tr>\n",
              "    <tr>\n",
              "      <th>RH_out</th>\n",
              "      <td>-0.152282</td>\n",
              "      <td>0.068543</td>\n",
              "      <td>-0.345481</td>\n",
              "      <td>0.274126</td>\n",
              "      <td>-0.505291</td>\n",
              "      <td>0.584911</td>\n",
              "      <td>-0.281718</td>\n",
              "      <td>0.356192</td>\n",
              "      <td>-0.388602</td>\n",
              "      <td>0.336813</td>\n",
              "      <td>...</td>\n",
              "      <td>-0.318848</td>\n",
              "      <td>0.359377</td>\n",
              "      <td>-0.574197</td>\n",
              "      <td>-0.092017</td>\n",
              "      <td>1.000000</td>\n",
              "      <td>-0.176458</td>\n",
              "      <td>0.083125</td>\n",
              "      <td>0.036506</td>\n",
              "      <td>0.020441</td>\n",
              "      <td>0.020441</td>\n",
              "    </tr>\n",
              "    <tr>\n",
              "      <th>Windspeed</th>\n",
              "      <td>0.087122</td>\n",
              "      <td>0.060281</td>\n",
              "      <td>-0.087654</td>\n",
              "      <td>0.204932</td>\n",
              "      <td>0.052495</td>\n",
              "      <td>0.069190</td>\n",
              "      <td>-0.100776</td>\n",
              "      <td>0.263188</td>\n",
              "      <td>-0.185747</td>\n",
              "      <td>0.300192</td>\n",
              "      <td>...</td>\n",
              "      <td>-0.177756</td>\n",
              "      <td>0.238655</td>\n",
              "      <td>0.192936</td>\n",
              "      <td>-0.235032</td>\n",
              "      <td>-0.176458</td>\n",
              "      <td>1.000000</td>\n",
              "      <td>-0.007516</td>\n",
              "      <td>0.125972</td>\n",
              "      <td>-0.011342</td>\n",
              "      <td>-0.011342</td>\n",
              "    </tr>\n",
              "    <tr>\n",
              "      <th>Visibility</th>\n",
              "      <td>0.000230</td>\n",
              "      <td>0.020038</td>\n",
              "      <td>-0.076210</td>\n",
              "      <td>-0.021057</td>\n",
              "      <td>-0.069721</td>\n",
              "      <td>-0.005368</td>\n",
              "      <td>-0.102310</td>\n",
              "      <td>0.017041</td>\n",
              "      <td>-0.104768</td>\n",
              "      <td>0.002636</td>\n",
              "      <td>...</td>\n",
              "      <td>-0.103915</td>\n",
              "      <td>0.008667</td>\n",
              "      <td>-0.077367</td>\n",
              "      <td>0.040315</td>\n",
              "      <td>0.083125</td>\n",
              "      <td>-0.007516</td>\n",
              "      <td>1.000000</td>\n",
              "      <td>-0.042190</td>\n",
              "      <td>-0.005889</td>\n",
              "      <td>-0.005889</td>\n",
              "    </tr>\n",
              "    <tr>\n",
              "      <th>Tdewpoint</th>\n",
              "      <td>0.015353</td>\n",
              "      <td>-0.036322</td>\n",
              "      <td>0.571309</td>\n",
              "      <td>0.639106</td>\n",
              "      <td>0.582602</td>\n",
              "      <td>0.499152</td>\n",
              "      <td>0.645886</td>\n",
              "      <td>0.414387</td>\n",
              "      <td>0.519471</td>\n",
              "      <td>0.616509</td>\n",
              "      <td>...</td>\n",
              "      <td>0.581483</td>\n",
              "      <td>0.540328</td>\n",
              "      <td>0.790661</td>\n",
              "      <td>-0.244098</td>\n",
              "      <td>0.036506</td>\n",
              "      <td>0.125972</td>\n",
              "      <td>-0.042190</td>\n",
              "      <td>1.000000</td>\n",
              "      <td>-0.003943</td>\n",
              "      <td>-0.003943</td>\n",
              "    </tr>\n",
              "    <tr>\n",
              "      <th>rv1</th>\n",
              "      <td>-0.011145</td>\n",
              "      <td>0.000521</td>\n",
              "      <td>-0.006203</td>\n",
              "      <td>-0.000699</td>\n",
              "      <td>-0.011087</td>\n",
              "      <td>0.006275</td>\n",
              "      <td>-0.005194</td>\n",
              "      <td>-0.000477</td>\n",
              "      <td>-0.001815</td>\n",
              "      <td>-0.001787</td>\n",
              "      <td>...</td>\n",
              "      <td>-0.001227</td>\n",
              "      <td>-0.002955</td>\n",
              "      <td>-0.015216</td>\n",
              "      <td>0.000699</td>\n",
              "      <td>0.020441</td>\n",
              "      <td>-0.011342</td>\n",
              "      <td>-0.005889</td>\n",
              "      <td>-0.003943</td>\n",
              "      <td>1.000000</td>\n",
              "      <td>1.000000</td>\n",
              "    </tr>\n",
              "    <tr>\n",
              "      <th>rv2</th>\n",
              "      <td>-0.011145</td>\n",
              "      <td>0.000521</td>\n",
              "      <td>-0.006203</td>\n",
              "      <td>-0.000699</td>\n",
              "      <td>-0.011087</td>\n",
              "      <td>0.006275</td>\n",
              "      <td>-0.005194</td>\n",
              "      <td>-0.000477</td>\n",
              "      <td>-0.001815</td>\n",
              "      <td>-0.001787</td>\n",
              "      <td>...</td>\n",
              "      <td>-0.001227</td>\n",
              "      <td>-0.002955</td>\n",
              "      <td>-0.015216</td>\n",
              "      <td>0.000699</td>\n",
              "      <td>0.020441</td>\n",
              "      <td>-0.011342</td>\n",
              "      <td>-0.005889</td>\n",
              "      <td>-0.003943</td>\n",
              "      <td>1.000000</td>\n",
              "      <td>1.000000</td>\n",
              "    </tr>\n",
              "  </tbody>\n",
              "</table>\n",
              "<p>28 rows × 28 columns</p>\n",
              "</div>"
            ],
            "text/plain": [
              "             Appliances    lights        T1      RH_1        T2      RH_2  \\\n",
              "Appliances     1.000000  0.197278  0.055447  0.086031  0.120073 -0.060465   \n",
              "lights         0.197278  1.000000 -0.023528  0.106968 -0.005622  0.050985   \n",
              "T1             0.055447 -0.023528  1.000000  0.164006  0.836834 -0.002509   \n",
              "RH_1           0.086031  0.106968  0.164006  1.000000  0.269839  0.797535   \n",
              "T2             0.120073 -0.005622  0.836834  0.269839  1.000000 -0.165610   \n",
              "RH_2          -0.060465  0.050985 -0.002509  0.797535 -0.165610  1.000000   \n",
              "T3             0.085060 -0.097393  0.892402  0.253230  0.735245  0.137319   \n",
              "RH_3           0.036292  0.131161 -0.028550  0.844677  0.121497  0.678326   \n",
              "T4             0.040281 -0.008859  0.877001  0.106180  0.762066 -0.047304   \n",
              "RH_4           0.016965  0.114936  0.097861  0.880359  0.231563  0.721435   \n",
              "T5             0.019760 -0.078745  0.885247  0.205797  0.720550  0.110409   \n",
              "RH_5           0.006955  0.141233 -0.014782  0.303258  0.029595  0.250271   \n",
              "T6             0.117638 -0.079029  0.654769  0.316141  0.801186 -0.009670   \n",
              "RH_6          -0.083178  0.153756 -0.615045  0.245126 -0.580372  0.389933   \n",
              "T7             0.025801 -0.135347  0.838705  0.021397  0.663660 -0.051422   \n",
              "RH_7          -0.055642  0.035069  0.135182  0.801122  0.229212  0.690584   \n",
              "T8             0.039572 -0.071458  0.825413 -0.030053  0.578191 -0.041023   \n",
              "RH_8          -0.094039  0.012915 -0.006441  0.736196  0.068534  0.679777   \n",
              "T9             0.010010 -0.157592  0.844777  0.115263  0.675535  0.054544   \n",
              "RH_9          -0.051462 -0.008766  0.071756  0.764001  0.157346  0.676467   \n",
              "T_out          0.099155 -0.074424  0.682846  0.340767  0.792255  0.033674   \n",
              "Press_mm_hg   -0.034885 -0.010576 -0.150574 -0.293957 -0.133028 -0.255646   \n",
              "RH_out        -0.152282  0.068543 -0.345481  0.274126 -0.505291  0.584911   \n",
              "Windspeed      0.087122  0.060281 -0.087654  0.204932  0.052495  0.069190   \n",
              "Visibility     0.000230  0.020038 -0.076210 -0.021057 -0.069721 -0.005368   \n",
              "Tdewpoint      0.015353 -0.036322  0.571309  0.639106  0.582602  0.499152   \n",
              "rv1           -0.011145  0.000521 -0.006203 -0.000699 -0.011087  0.006275   \n",
              "rv2           -0.011145  0.000521 -0.006203 -0.000699 -0.011087  0.006275   \n",
              "\n",
              "                   T3      RH_3        T4      RH_4  ...        T9      RH_9  \\\n",
              "Appliances   0.085060  0.036292  0.040281  0.016965  ...  0.010010 -0.051462   \n",
              "lights      -0.097393  0.131161 -0.008859  0.114936  ... -0.157592 -0.008766   \n",
              "T1           0.892402 -0.028550  0.877001  0.097861  ...  0.844777  0.071756   \n",
              "RH_1         0.253230  0.844677  0.106180  0.880359  ...  0.115263  0.764001   \n",
              "T2           0.735245  0.121497  0.762066  0.231563  ...  0.675535  0.157346   \n",
              "RH_2         0.137319  0.678326 -0.047304  0.721435  ...  0.054544  0.676467   \n",
              "T3           1.000000 -0.011234  0.852778  0.122737  ...  0.901324  0.134602   \n",
              "RH_3        -0.011234  1.000000 -0.140457  0.898978  ... -0.195270  0.833538   \n",
              "T4           0.852778 -0.140457  1.000000 -0.048650  ...  0.889439 -0.025549   \n",
              "RH_4         0.122737  0.898978 -0.048650  1.000000  ... -0.044518  0.856591   \n",
              "T5           0.888169 -0.050062  0.871813  0.091812  ...  0.911055  0.072308   \n",
              "RH_5        -0.066355  0.375422 -0.076489  0.352591  ... -0.138509  0.272197   \n",
              "T6           0.686882  0.076833  0.652350  0.259047  ...  0.667177  0.184424   \n",
              "RH_6        -0.647672  0.514912 -0.703149  0.392178  ... -0.738940  0.391943   \n",
              "T7           0.847374 -0.250090  0.877763 -0.131204  ...  0.944776 -0.077690   \n",
              "RH_7         0.172624  0.832685  0.043527  0.894301  ...  0.028055  0.858686   \n",
              "T8           0.795283 -0.283228  0.796256 -0.167066  ...  0.869338 -0.156820   \n",
              "RH_8         0.044427  0.828822 -0.095192  0.847259  ... -0.113014  0.855812   \n",
              "T9           0.901324 -0.195270  0.889439 -0.044518  ...  1.000000 -0.008683   \n",
              "RH_9         0.134602  0.833538 -0.025549  0.856591  ... -0.008683  1.000000   \n",
              "T_out        0.699417  0.118207  0.663478  0.293289  ...  0.668220  0.223270   \n",
              "Press_mm_hg -0.189974 -0.233274 -0.075292 -0.250748  ... -0.156828 -0.183739   \n",
              "RH_out      -0.281718  0.356192 -0.388602  0.336813  ... -0.318848  0.359377   \n",
              "Windspeed   -0.100776  0.263188 -0.185747  0.300192  ... -0.177756  0.238655   \n",
              "Visibility  -0.102310  0.017041 -0.104768  0.002636  ... -0.103915  0.008667   \n",
              "Tdewpoint    0.645886  0.414387  0.519471  0.616509  ...  0.581483  0.540328   \n",
              "rv1         -0.005194 -0.000477 -0.001815 -0.001787  ... -0.001227 -0.002955   \n",
              "rv2         -0.005194 -0.000477 -0.001815 -0.001787  ... -0.001227 -0.002955   \n",
              "\n",
              "                T_out  Press_mm_hg    RH_out  Windspeed  Visibility  \\\n",
              "Appliances   0.099155    -0.034885 -0.152282   0.087122    0.000230   \n",
              "lights      -0.074424    -0.010576  0.068543   0.060281    0.020038   \n",
              "T1           0.682846    -0.150574 -0.345481  -0.087654   -0.076210   \n",
              "RH_1         0.340767    -0.293957  0.274126   0.204932   -0.021057   \n",
              "T2           0.792255    -0.133028 -0.505291   0.052495   -0.069721   \n",
              "RH_2         0.033674    -0.255646  0.584911   0.069190   -0.005368   \n",
              "T3           0.699417    -0.189974 -0.281718  -0.100776   -0.102310   \n",
              "RH_3         0.118207    -0.233274  0.356192   0.263188    0.017041   \n",
              "T4           0.663478    -0.075292 -0.388602  -0.185747   -0.104768   \n",
              "RH_4         0.293289    -0.250748  0.336813   0.300192    0.002636   \n",
              "T5           0.651321    -0.170999 -0.273953  -0.145011   -0.084164   \n",
              "RH_5        -0.053126    -0.119327  0.185941   0.082044   -0.013133   \n",
              "T6           0.974787    -0.141643 -0.569119   0.169185   -0.081313   \n",
              "RH_6        -0.641572    -0.065814  0.718587   0.098317    0.108705   \n",
              "T7           0.631293    -0.097724 -0.411213  -0.185892   -0.110089   \n",
              "RH_7         0.294199    -0.265850  0.378519   0.212979   -0.007184   \n",
              "T8           0.502842    -0.162855 -0.300438  -0.218876   -0.060098   \n",
              "RH_8         0.117141    -0.225591  0.487355   0.202380    0.046178   \n",
              "T9           0.668220    -0.156828 -0.318848  -0.177756   -0.103915   \n",
              "RH_9         0.223270    -0.183739  0.359377   0.238655    0.008667   \n",
              "T_out        1.000000    -0.143249 -0.574197   0.192936   -0.077367   \n",
              "Press_mm_hg -0.143249     1.000000 -0.092017  -0.235032    0.040315   \n",
              "RH_out      -0.574197    -0.092017  1.000000  -0.176458    0.083125   \n",
              "Windspeed    0.192936    -0.235032 -0.176458   1.000000   -0.007516   \n",
              "Visibility  -0.077367     0.040315  0.083125  -0.007516    1.000000   \n",
              "Tdewpoint    0.790661    -0.244098  0.036506   0.125972   -0.042190   \n",
              "rv1         -0.015216     0.000699  0.020441  -0.011342   -0.005889   \n",
              "rv2         -0.015216     0.000699  0.020441  -0.011342   -0.005889   \n",
              "\n",
              "             Tdewpoint       rv1       rv2  \n",
              "Appliances    0.015353 -0.011145 -0.011145  \n",
              "lights       -0.036322  0.000521  0.000521  \n",
              "T1            0.571309 -0.006203 -0.006203  \n",
              "RH_1          0.639106 -0.000699 -0.000699  \n",
              "T2            0.582602 -0.011087 -0.011087  \n",
              "RH_2          0.499152  0.006275  0.006275  \n",
              "T3            0.645886 -0.005194 -0.005194  \n",
              "RH_3          0.414387 -0.000477 -0.000477  \n",
              "T4            0.519471 -0.001815 -0.001815  \n",
              "RH_4          0.616509 -0.001787 -0.001787  \n",
              "T5            0.588362 -0.005490 -0.005490  \n",
              "RH_5          0.078175 -0.011056 -0.011056  \n",
              "T6            0.764242 -0.015086 -0.015086  \n",
              "RH_6         -0.260417  0.011671  0.011671  \n",
              "T7            0.466625 -0.003900 -0.003900  \n",
              "RH_7          0.641857  0.001820  0.001820  \n",
              "T8            0.391810 -0.003210 -0.003210  \n",
              "RH_8          0.501775  0.004480  0.004480  \n",
              "T9            0.581483 -0.001227 -0.001227  \n",
              "RH_9          0.540328 -0.002955 -0.002955  \n",
              "T_out         0.790661 -0.015216 -0.015216  \n",
              "Press_mm_hg  -0.244098  0.000699  0.000699  \n",
              "RH_out        0.036506  0.020441  0.020441  \n",
              "Windspeed     0.125972 -0.011342 -0.011342  \n",
              "Visibility   -0.042190 -0.005889 -0.005889  \n",
              "Tdewpoint     1.000000 -0.003943 -0.003943  \n",
              "rv1          -0.003943  1.000000  1.000000  \n",
              "rv2          -0.003943  1.000000  1.000000  \n",
              "\n",
              "[28 rows x 28 columns]"
            ]
          },
          "execution_count": 10,
          "metadata": {},
          "output_type": "execute_result"
        }
      ]
    },
    {
      "cell_type": "markdown",
      "metadata": {
        "id": "215hCTpXzsu6"
      },
      "source": [
        "## Checking that the values in the columns 'rv1' and 'rv2' are the same"
      ]
    },
    {
      "cell_type": "code",
      "metadata": {
        "id": "2g7P-xwnzsu6",
        "outputId": "fa41ac7e-7565-4983-eddb-0ff81b9e4ce7"
      },
      "source": [
        "data[[\"rv1\", \"rv2\"]]"
      ],
      "execution_count": null,
      "outputs": [
        {
          "data": {
            "text/html": [
              "<div>\n",
              "<style scoped>\n",
              "    .dataframe tbody tr th:only-of-type {\n",
              "        vertical-align: middle;\n",
              "    }\n",
              "\n",
              "    .dataframe tbody tr th {\n",
              "        vertical-align: top;\n",
              "    }\n",
              "\n",
              "    .dataframe thead th {\n",
              "        text-align: right;\n",
              "    }\n",
              "</style>\n",
              "<table border=\"1\" class=\"dataframe\">\n",
              "  <thead>\n",
              "    <tr style=\"text-align: right;\">\n",
              "      <th></th>\n",
              "      <th>rv1</th>\n",
              "      <th>rv2</th>\n",
              "    </tr>\n",
              "  </thead>\n",
              "  <tbody>\n",
              "    <tr>\n",
              "      <th>0</th>\n",
              "      <td>13.275433</td>\n",
              "      <td>13.275433</td>\n",
              "    </tr>\n",
              "    <tr>\n",
              "      <th>1</th>\n",
              "      <td>18.606195</td>\n",
              "      <td>18.606195</td>\n",
              "    </tr>\n",
              "    <tr>\n",
              "      <th>2</th>\n",
              "      <td>28.642668</td>\n",
              "      <td>28.642668</td>\n",
              "    </tr>\n",
              "    <tr>\n",
              "      <th>3</th>\n",
              "      <td>45.410389</td>\n",
              "      <td>45.410389</td>\n",
              "    </tr>\n",
              "    <tr>\n",
              "      <th>4</th>\n",
              "      <td>10.084097</td>\n",
              "      <td>10.084097</td>\n",
              "    </tr>\n",
              "    <tr>\n",
              "      <th>...</th>\n",
              "      <td>...</td>\n",
              "      <td>...</td>\n",
              "    </tr>\n",
              "    <tr>\n",
              "      <th>19730</th>\n",
              "      <td>43.096812</td>\n",
              "      <td>43.096812</td>\n",
              "    </tr>\n",
              "    <tr>\n",
              "      <th>19731</th>\n",
              "      <td>49.282940</td>\n",
              "      <td>49.282940</td>\n",
              "    </tr>\n",
              "    <tr>\n",
              "      <th>19732</th>\n",
              "      <td>29.199117</td>\n",
              "      <td>29.199117</td>\n",
              "    </tr>\n",
              "    <tr>\n",
              "      <th>19733</th>\n",
              "      <td>6.322784</td>\n",
              "      <td>6.322784</td>\n",
              "    </tr>\n",
              "    <tr>\n",
              "      <th>19734</th>\n",
              "      <td>34.118851</td>\n",
              "      <td>34.118851</td>\n",
              "    </tr>\n",
              "  </tbody>\n",
              "</table>\n",
              "<p>19735 rows × 2 columns</p>\n",
              "</div>"
            ],
            "text/plain": [
              "             rv1        rv2\n",
              "0      13.275433  13.275433\n",
              "1      18.606195  18.606195\n",
              "2      28.642668  28.642668\n",
              "3      45.410389  45.410389\n",
              "4      10.084097  10.084097\n",
              "...          ...        ...\n",
              "19730  43.096812  43.096812\n",
              "19731  49.282940  49.282940\n",
              "19732  29.199117  29.199117\n",
              "19733   6.322784   6.322784\n",
              "19734  34.118851  34.118851\n",
              "\n",
              "[19735 rows x 2 columns]"
            ]
          },
          "execution_count": 11,
          "metadata": {},
          "output_type": "execute_result"
        }
      ]
    },
    {
      "cell_type": "code",
      "metadata": {
        "id": "oDbe_sAxzsu6"
      },
      "source": [
        "assert all(data[\"rv1\"]) == all(data[\"rv2\"])"
      ],
      "execution_count": null,
      "outputs": []
    },
    {
      "cell_type": "markdown",
      "metadata": {
        "id": "AArcQ9VRzsu7"
      },
      "source": [
        "# Inspecting each column of the dataset for possible patterns"
      ]
    },
    {
      "cell_type": "code",
      "metadata": {
        "id": "heqbPLMszsu7",
        "outputId": "1fef79a1-eb59-4ba0-accc-e58ff052916b"
      },
      "source": [
        "data[\"Appliances\"].sort_values().unique()"
      ],
      "execution_count": null,
      "outputs": [
        {
          "data": {
            "text/plain": [
              "array([  10,   20,   30,   40,   50,   60,   70,   80,   90,  100,  110,\n",
              "        120,  130,  140,  150,  160,  170,  180,  190,  200,  210,  220,\n",
              "        230,  240,  250,  260,  270,  280,  290,  300,  310,  320,  330,\n",
              "        340,  350,  360,  370,  380,  390,  400,  410,  420,  430,  440,\n",
              "        450,  460,  470,  480,  490,  500,  510,  520,  530,  540,  550,\n",
              "        560,  570,  580,  590,  600,  610,  620,  630,  640,  650,  660,\n",
              "        670,  680,  690,  700,  710,  720,  730,  740,  750,  760,  770,\n",
              "        780,  790,  800,  820,  830,  840,  850,  860,  870,  880,  890,\n",
              "        900,  910, 1070, 1080], dtype=int64)"
            ]
          },
          "execution_count": 13,
          "metadata": {},
          "output_type": "execute_result"
        }
      ]
    },
    {
      "cell_type": "code",
      "metadata": {
        "id": "YSKpDSVEzsu7",
        "outputId": "0e24df2f-7c35-46b9-fc5e-dc83f4134585"
      },
      "source": [
        "data[\"Appliances\"].value_counts().sort_index()"
      ],
      "execution_count": null,
      "outputs": [
        {
          "data": {
            "text/plain": [
              "10         9\n",
              "20       343\n",
              "30       723\n",
              "40      2019\n",
              "50      4368\n",
              "        ... \n",
              "890        1\n",
              "900        1\n",
              "910        1\n",
              "1070       1\n",
              "1080       1\n",
              "Name: Appliances, Length: 92, dtype: int64"
            ]
          },
          "execution_count": 14,
          "metadata": {},
          "output_type": "execute_result"
        }
      ]
    },
    {
      "cell_type": "code",
      "metadata": {
        "id": "_Wqg_jE_zsu8",
        "outputId": "4ed6a615-a875-4f9f-ae60-69c882c99902"
      },
      "source": [
        "data[\"lights\"].unique()"
      ],
      "execution_count": null,
      "outputs": [
        {
          "data": {
            "text/plain": [
              "array([30, 40, 50, 70, 60, 10, 20,  0], dtype=int64)"
            ]
          },
          "execution_count": 15,
          "metadata": {},
          "output_type": "execute_result"
        }
      ]
    },
    {
      "cell_type": "code",
      "metadata": {
        "id": "nxi2Ym5ozsu8",
        "outputId": "8433e1e2-f74a-441e-a14c-d789a8c028a5"
      },
      "source": [
        "data[\"lights\"].sort_values().value_counts()"
      ],
      "execution_count": null,
      "outputs": [
        {
          "data": {
            "text/plain": [
              "0     15252\n",
              "10     2212\n",
              "20     1624\n",
              "30      559\n",
              "40       77\n",
              "50        9\n",
              "60        1\n",
              "70        1\n",
              "Name: lights, dtype: int64"
            ]
          },
          "execution_count": 16,
          "metadata": {},
          "output_type": "execute_result"
        }
      ]
    },
    {
      "cell_type": "code",
      "metadata": {
        "id": "mktRRoq7zsu8",
        "outputId": "e21ef722-0f14-4710-a292-0249f8b04c8b"
      },
      "source": [
        "len(data[\"T1\"].unique())"
      ],
      "execution_count": null,
      "outputs": [
        {
          "data": {
            "text/plain": [
              "722"
            ]
          },
          "execution_count": 17,
          "metadata": {},
          "output_type": "execute_result"
        }
      ]
    },
    {
      "cell_type": "code",
      "metadata": {
        "id": "oUqY5tEWzsu9",
        "outputId": "a9e09666-e791-4b6c-8f33-6774fd1ef72e"
      },
      "source": [
        "data[\"T1\"].value_counts().sort_index()"
      ],
      "execution_count": null,
      "outputs": [
        {
          "data": {
            "text/plain": [
              "16.790000    10\n",
              "16.823333     2\n",
              "16.856667     2\n",
              "16.890000    19\n",
              "16.963333     1\n",
              "             ..\n",
              "26.066667     3\n",
              "26.100000    15\n",
              "26.166667     3\n",
              "26.200000     7\n",
              "26.260000     3\n",
              "Name: T1, Length: 722, dtype: int64"
            ]
          },
          "execution_count": 18,
          "metadata": {},
          "output_type": "execute_result"
        }
      ]
    },
    {
      "cell_type": "code",
      "metadata": {
        "id": "Ylf9hEdvzsu9",
        "outputId": "de4cb4ac-b429-4f34-df8b-49a181c6eaff"
      },
      "source": [
        "len(data[\"RH_1\"].unique())"
      ],
      "execution_count": null,
      "outputs": [
        {
          "data": {
            "text/plain": [
              "2547"
            ]
          },
          "execution_count": 19,
          "metadata": {},
          "output_type": "execute_result"
        }
      ]
    },
    {
      "cell_type": "code",
      "metadata": {
        "id": "yX3r5EUyzsu9",
        "outputId": "c0d60991-9258-4d48-acf0-c9a703aba4dd"
      },
      "source": [
        "data[\"RH_1\"].value_counts().sort_index()"
      ],
      "execution_count": null,
      "outputs": [
        {
          "data": {
            "text/plain": [
              "27.023333    1\n",
              "27.233333    1\n",
              "27.360000    1\n",
              "27.430000    1\n",
              "27.545000    1\n",
              "            ..\n",
              "57.423333    1\n",
              "57.496667    1\n",
              "57.663333    1\n",
              "59.633333    1\n",
              "63.360000    1\n",
              "Name: RH_1, Length: 2547, dtype: int64"
            ]
          },
          "execution_count": 20,
          "metadata": {},
          "output_type": "execute_result"
        }
      ]
    },
    {
      "cell_type": "code",
      "metadata": {
        "id": "q6n8sNlyzsu-",
        "outputId": "43e3cc7c-bdc4-4561-b3da-a7e4c900eec5"
      },
      "source": [
        "data[\"T2\"].unique()"
      ],
      "execution_count": null,
      "outputs": [
        {
          "data": {
            "text/plain": [
              "array([19.2       , 19.23      , 19.35666667, ..., 25.978     ,\n",
              "       25.754     , 25.62857143])"
            ]
          },
          "execution_count": 21,
          "metadata": {},
          "output_type": "execute_result"
        }
      ]
    },
    {
      "cell_type": "code",
      "metadata": {
        "id": "8wNCGkADzsu-",
        "outputId": "df8a1322-1764-42a7-8890-cd722ab18a55"
      },
      "source": [
        "data[\"T2\"].value_counts()"
      ],
      "execution_count": null,
      "outputs": [
        {
          "data": {
            "text/plain": [
              "19.200000    331\n",
              "19.600000    325\n",
              "19.500000    318\n",
              "19.700000    313\n",
              "19.290000    301\n",
              "            ... \n",
              "20.514286      1\n",
              "21.772000      1\n",
              "19.125000      1\n",
              "24.518018      1\n",
              "28.238571      1\n",
              "Name: T2, Length: 1650, dtype: int64"
            ]
          },
          "execution_count": 22,
          "metadata": {},
          "output_type": "execute_result"
        }
      ]
    },
    {
      "cell_type": "code",
      "metadata": {
        "id": "vFCYK3Ijzsu-",
        "outputId": "73241c45-9b00-47eb-c9bd-895cd3f667af"
      },
      "source": [
        "data[\"RH_2\"].unique()"
      ],
      "execution_count": null,
      "outputs": [
        {
          "data": {
            "text/plain": [
              "array([44.79      , 44.7225    , 44.62666667, ..., 42.02571429,\n",
              "       42.08      , 42.76857143])"
            ]
          },
          "execution_count": 23,
          "metadata": {},
          "output_type": "execute_result"
        }
      ]
    },
    {
      "cell_type": "code",
      "metadata": {
        "id": "pdFy8njizsu-",
        "outputId": "9eb72e0e-5a9f-4f7a-e0b5-9e9063ca6b80"
      },
      "source": [
        "data[\"RH_2\"].value_counts()"
      ],
      "execution_count": null,
      "outputs": [
        {
          "data": {
            "text/plain": [
              "40.000000    135\n",
              "41.500000    124\n",
              "43.700000    110\n",
              "41.290000    109\n",
              "43.900000    108\n",
              "            ... \n",
              "33.456667      1\n",
              "39.311667      1\n",
              "35.640000      1\n",
              "36.975000      1\n",
              "37.444444      1\n",
              "Name: RH_2, Length: 3376, dtype: int64"
            ]
          },
          "execution_count": 24,
          "metadata": {},
          "output_type": "execute_result"
        }
      ]
    },
    {
      "cell_type": "code",
      "metadata": {
        "id": "ymhndDvmzsu_",
        "outputId": "a9e17a68-a1fa-4098-eb69-bf5166c8f814"
      },
      "source": [
        "data[\"T3\"].unique()"
      ],
      "execution_count": null,
      "outputs": [
        {
          "data": {
            "text/plain": [
              "array([19.79      , 19.73      , 19.89      , ..., 28.56666667,\n",
              "       28.35666667, 27.05      ])"
            ]
          },
          "execution_count": 25,
          "metadata": {},
          "output_type": "execute_result"
        }
      ]
    },
    {
      "cell_type": "code",
      "metadata": {
        "id": "M1P7ob8Ozsu_",
        "outputId": "006672fe-4911-4cbf-e895-5fe846639597"
      },
      "source": [
        "data[\"T3\"].value_counts()"
      ],
      "execution_count": null,
      "outputs": [
        {
          "data": {
            "text/plain": [
              "22.390000    433\n",
              "22.100000    372\n",
              "21.790000    369\n",
              "22.600000    338\n",
              "20.200000    329\n",
              "            ... \n",
              "27.197500      1\n",
              "28.335714      1\n",
              "24.896104      1\n",
              "19.960000      1\n",
              "22.238571      1\n",
              "Name: T3, Length: 1426, dtype: int64"
            ]
          },
          "execution_count": 26,
          "metadata": {},
          "output_type": "execute_result"
        }
      ]
    },
    {
      "cell_type": "code",
      "metadata": {
        "id": "ac4h1dvNzsu_",
        "outputId": "25332ba3-4eb6-485b-bdbe-4768f3565fbe"
      },
      "source": [
        "data[\"RH_3\"].unique()"
      ],
      "execution_count": null,
      "outputs": [
        {
          "data": {
            "text/plain": [
              "array([44.73      , 44.79      , 44.93333333, ..., 42.99333333,\n",
              "       41.79666667, 41.69      ])"
            ]
          },
          "execution_count": 27,
          "metadata": {},
          "output_type": "execute_result"
        }
      ]
    },
    {
      "cell_type": "code",
      "metadata": {
        "id": "QkenXO81zsu_",
        "outputId": "b4d06772-6100-4504-a91c-eb70a5e429b3"
      },
      "source": [
        "data[\"RH_3\"].value_counts()"
      ],
      "execution_count": null,
      "outputs": [
        {
          "data": {
            "text/plain": [
              "37.590000    243\n",
              "37.500000    205\n",
              "38.290000    199\n",
              "37.200000    197\n",
              "37.900000    188\n",
              "            ... \n",
              "41.123333      1\n",
              "36.595000      1\n",
              "42.487500      1\n",
              "43.356000      1\n",
              "42.993333      1\n",
              "Name: RH_3, Length: 2618, dtype: int64"
            ]
          },
          "execution_count": 28,
          "metadata": {},
          "output_type": "execute_result"
        }
      ]
    },
    {
      "cell_type": "code",
      "metadata": {
        "id": "-GEosJ3OzsvA",
        "outputId": "ebfced9c-ee4f-4798-fe96-02e9c239f8ab"
      },
      "source": [
        "data[\"T4\"].unique()"
      ],
      "execution_count": null,
      "outputs": [
        {
          "data": {
            "text/plain": [
              "array([19.        , 18.92666667, 18.89      , ..., 23.41337662,\n",
              "       23.40168831, 24.53333333])"
            ]
          },
          "execution_count": 29,
          "metadata": {},
          "output_type": "execute_result"
        }
      ]
    },
    {
      "cell_type": "code",
      "metadata": {
        "id": "OC21S8ajzsvA",
        "outputId": "4ed25b45-e8e0-41db-b427-7a71e1e01a2e"
      },
      "source": [
        "data[\"T4\"].value_counts()"
      ],
      "execution_count": null,
      "outputs": [
        {
          "data": {
            "text/plain": [
              "20.390000    348\n",
              "20.290000    345\n",
              "20.600000    337\n",
              "20.100000    335\n",
              "19.790000    333\n",
              "            ... \n",
              "24.750000      1\n",
              "23.360000      1\n",
              "21.075000      1\n",
              "23.140000      1\n",
              "24.056234      1\n",
              "Name: T4, Length: 1390, dtype: int64"
            ]
          },
          "execution_count": 30,
          "metadata": {},
          "output_type": "execute_result"
        }
      ]
    },
    {
      "cell_type": "code",
      "metadata": {
        "id": "Q4h_WAiTzsvA",
        "outputId": "f0033757-cf90-4fc6-e4e5-fd24eee0efd0"
      },
      "source": [
        "data[\"RH_4\"].unique()"
      ],
      "execution_count": null,
      "outputs": [
        {
          "data": {
            "text/plain": [
              "array([45.56666667, 45.9925    , 45.89      , ..., 43.45      ,\n",
              "       44.7225    , 45.33333333])"
            ]
          },
          "execution_count": 31,
          "metadata": {},
          "output_type": "execute_result"
        }
      ]
    },
    {
      "cell_type": "code",
      "metadata": {
        "id": "X7Y05GjqzsvA",
        "outputId": "21d4b8ff-5805-4827-b376-757f3f527cf7"
      },
      "source": [
        "data[\"RH_4\"].value_counts()"
      ],
      "execution_count": null,
      "outputs": [
        {
          "data": {
            "text/plain": [
              "38.590000    169\n",
              "38.200000    166\n",
              "34.790000    146\n",
              "38.090000    145\n",
              "38.290000    140\n",
              "            ... \n",
              "47.366126      1\n",
              "43.356000      1\n",
              "48.506937      1\n",
              "41.523636      1\n",
              "36.022500      1\n",
              "Name: RH_4, Length: 2987, dtype: int64"
            ]
          },
          "execution_count": 32,
          "metadata": {},
          "output_type": "execute_result"
        }
      ]
    },
    {
      "cell_type": "code",
      "metadata": {
        "id": "ds_gXLE1zsvB",
        "outputId": "680f9754-0ed8-46fb-d9e8-f89f76aabdac"
      },
      "source": [
        "data[\"T5\"].unique()"
      ],
      "execution_count": null,
      "outputs": [
        {
          "data": {
            "text/plain": [
              "array([17.16666667, 17.2       , 17.13333333, ..., 22.76      ,\n",
              "       22.63333333, 22.945     ])"
            ]
          },
          "execution_count": 33,
          "metadata": {},
          "output_type": "execute_result"
        }
      ]
    },
    {
      "cell_type": "code",
      "metadata": {
        "id": "WCSob9wezsvB",
        "outputId": "9a869602-18d0-48d6-d192-bb82a2d3bcb9"
      },
      "source": [
        "data[\"T5\"].value_counts()"
      ],
      "execution_count": null,
      "outputs": [
        {
          "data": {
            "text/plain": [
              "18.600000    385\n",
              "18.700000    373\n",
              "19.290000    370\n",
              "20.000000    361\n",
              "18.500000    357\n",
              "            ... \n",
              "20.514286      1\n",
              "20.903750      1\n",
              "21.275000      1\n",
              "22.684234      1\n",
              "16.105556      1\n",
              "Name: T5, Length: 2263, dtype: int64"
            ]
          },
          "execution_count": 34,
          "metadata": {},
          "output_type": "execute_result"
        }
      ]
    },
    {
      "cell_type": "code",
      "metadata": {
        "id": "VgTtqFtGzsvB",
        "outputId": "4e553906-4b61-4186-fd0d-074d21b7aa63"
      },
      "source": [
        "data[\"RH_5\"].unique()"
      ],
      "execution_count": null,
      "outputs": [
        {
          "data": {
            "text/plain": [
              "array([55.2  , 55.09 , 55.03 , ..., 54.43 , 53.25 , 52.645])"
            ]
          },
          "execution_count": 35,
          "metadata": {},
          "output_type": "execute_result"
        }
      ]
    },
    {
      "cell_type": "code",
      "metadata": {
        "id": "dpprR694zsvB",
        "outputId": "d0976d26-7e91-45dc-cfde-5d8430c3f4d2"
      },
      "source": [
        "data[\"RH_5\"].value_counts()"
      ],
      "execution_count": null,
      "outputs": [
        {
          "data": {
            "text/plain": [
              "49.000000    89\n",
              "45.000000    81\n",
              "46.700000    78\n",
              "47.500000    76\n",
              "45.900000    75\n",
              "             ..\n",
              "76.150000     1\n",
              "38.616000     1\n",
              "50.117500     1\n",
              "55.450000     1\n",
              "61.396667     1\n",
              "Name: RH_5, Length: 7571, dtype: int64"
            ]
          },
          "execution_count": 36,
          "metadata": {},
          "output_type": "execute_result"
        }
      ]
    },
    {
      "cell_type": "code",
      "metadata": {
        "id": "jHJ56YgnzsvB",
        "outputId": "5e04e09b-d790-4c4b-bf89-400b2d2afb66"
      },
      "source": [
        "data[\"T6\"].unique()"
      ],
      "execution_count": null,
      "outputs": [
        {
          "data": {
            "text/plain": [
              "array([ 7.02666667,  6.83333333,  6.56      , ..., 23.62666667,\n",
              "       22.43333333, 21.02666667])"
            ]
          },
          "execution_count": 37,
          "metadata": {},
          "output_type": "execute_result"
        }
      ]
    },
    {
      "cell_type": "code",
      "metadata": {
        "id": "WTqVjcTGzsvB",
        "outputId": "d618f089-17ee-447d-dd89-6de05df27ec9"
      },
      "source": [
        "data[\"T6\"].value_counts()"
      ],
      "execution_count": null,
      "outputs": [
        {
          "data": {
            "text/plain": [
              " 6.400000     86\n",
              " 5.590000     84\n",
              " 9.100000     78\n",
              " 9.600000     78\n",
              " 6.300000     76\n",
              "              ..\n",
              " 12.812857     1\n",
              " 15.304286     1\n",
              "-5.350000      1\n",
              " 13.838571     1\n",
              " 7.745000      1\n",
              "Name: T6, Length: 4446, dtype: int64"
            ]
          },
          "execution_count": 38,
          "metadata": {},
          "output_type": "execute_result"
        }
      ]
    },
    {
      "cell_type": "code",
      "metadata": {
        "id": "CUv9iqlnzsvC",
        "outputId": "a1eb7e6b-f02c-4ad5-ee5b-d9803289c5d2"
      },
      "source": [
        "data[\"RH_6\"].unique()"
      ],
      "execution_count": null,
      "outputs": [
        {
          "data": {
            "text/plain": [
              "array([84.25666667, 84.06333333, 83.15666667, ...,  6.56666667,\n",
              "        3.55666667,  1.69666667])"
            ]
          },
          "execution_count": 39,
          "metadata": {},
          "output_type": "execute_result"
        }
      ]
    },
    {
      "cell_type": "code",
      "metadata": {
        "id": "BVBCEO1zzsvC",
        "outputId": "efd12fb0-2df7-4b89-e3f9-05912477b6b0"
      },
      "source": [
        "data[\"RH_6\"].value_counts()"
      ],
      "execution_count": null,
      "outputs": [
        {
          "data": {
            "text/plain": [
              "1.000000     1452\n",
              "99.900000     751\n",
              "92.300000      53\n",
              "92.190000      38\n",
              "87.690000      29\n",
              "             ... \n",
              "56.550000       1\n",
              "33.666667       1\n",
              "90.143333       1\n",
              "22.900000       1\n",
              "7.000000        1\n",
              "Name: RH_6, Length: 9709, dtype: int64"
            ]
          },
          "execution_count": 40,
          "metadata": {},
          "output_type": "execute_result"
        }
      ]
    },
    {
      "cell_type": "code",
      "metadata": {
        "id": "D_dFVsJMzsvC",
        "outputId": "1c3f7ac6-2824-47f9-f2b9-58d112c936f5"
      },
      "source": [
        "data[\"T7\"].unique()"
      ],
      "execution_count": null,
      "outputs": [
        {
          "data": {
            "text/plain": [
              "array([17.2       , 17.13333333, 17.1       , ..., 23.90571429,\n",
              "       23.96857143, 24.31      ])"
            ]
          },
          "execution_count": 41,
          "metadata": {},
          "output_type": "execute_result"
        }
      ]
    },
    {
      "cell_type": "code",
      "metadata": {
        "id": "Kcxd_DG_zsvC",
        "outputId": "c18049fe-ba3b-4e28-ad50-8184f514f2d3"
      },
      "source": [
        "data[\"T7\"].value_counts()"
      ],
      "execution_count": null,
      "outputs": [
        {
          "data": {
            "text/plain": [
              "18.500000    453\n",
              "19.200000    450\n",
              "19.290000    345\n",
              "19.000000    302\n",
              "18.390000    297\n",
              "            ... \n",
              "20.122222      1\n",
              "17.275000      1\n",
              "20.127778      1\n",
              "15.594444      1\n",
              "17.867778      1\n",
              "Name: T7, Length: 1955, dtype: int64"
            ]
          },
          "execution_count": 42,
          "metadata": {},
          "output_type": "execute_result"
        }
      ]
    },
    {
      "cell_type": "code",
      "metadata": {
        "id": "_7t8PS8mzsvD",
        "outputId": "36b7e108-62d9-4dde-82e0-ece6ab6cfcb3"
      },
      "source": [
        "data[\"RH_7\"].unique()"
      ],
      "execution_count": null,
      "outputs": [
        {
          "data": {
            "text/plain": [
              "array([41.62666667, 41.56      , 41.43333333, ..., 44.76428571,\n",
              "       44.41428571, 44.29571429])"
            ]
          },
          "execution_count": 43,
          "metadata": {},
          "output_type": "execute_result"
        }
      ]
    },
    {
      "cell_type": "code",
      "metadata": {
        "id": "opv7zul3zsvD",
        "outputId": "a12a6338-323a-4ce3-c718-259c2ecea28e"
      },
      "source": [
        "data[\"RH_7\"].value_counts()"
      ],
      "execution_count": null,
      "outputs": [
        {
          "data": {
            "text/plain": [
              "33.900000    131\n",
              "33.590000    118\n",
              "33.700000    104\n",
              "30.200000     90\n",
              "36.290000     86\n",
              "            ... \n",
              "33.797143      1\n",
              "40.526667      1\n",
              "37.952941      1\n",
              "33.081111      1\n",
              "46.035714      1\n",
              "Name: RH_7, Length: 5891, dtype: int64"
            ]
          },
          "execution_count": 44,
          "metadata": {},
          "output_type": "execute_result"
        }
      ]
    },
    {
      "cell_type": "code",
      "metadata": {
        "id": "nAEDyk1QzsvD",
        "outputId": "89b9cc92-8965-4adb-ab1d-2b0b4f945b28"
      },
      "source": [
        "data[\"T8\"].unique()"
      ],
      "execution_count": null,
      "outputs": [
        {
          "data": {
            "text/plain": [
              "array([18.2       , 18.1       , 18.06666667, ..., 23.71103896,\n",
              "       24.625     , 24.6625    ])"
            ]
          },
          "execution_count": 45,
          "metadata": {},
          "output_type": "execute_result"
        }
      ]
    },
    {
      "cell_type": "code",
      "metadata": {
        "id": "Xb_0jUIlzsvD",
        "outputId": "89a6d4b3-dfa9-4e8d-813d-6b8be821b402"
      },
      "source": [
        "data[\"T8\"].value_counts()"
      ],
      "execution_count": null,
      "outputs": [
        {
          "data": {
            "text/plain": [
              "22.790000    386\n",
              "21.790000    301\n",
              "22.700000    289\n",
              "23.390000    276\n",
              "21.390000    275\n",
              "            ... \n",
              "24.478000      1\n",
              "24.461688      1\n",
              "24.120000      1\n",
              "16.957222      1\n",
              "24.272364      1\n",
              "Name: T8, Length: 2228, dtype: int64"
            ]
          },
          "execution_count": 46,
          "metadata": {},
          "output_type": "execute_result"
        }
      ]
    },
    {
      "cell_type": "code",
      "metadata": {
        "id": "9cjU7xCbzsvE",
        "outputId": "9aa7bc10-1bf2-4c73-8d06-cae187e85b74"
      },
      "source": [
        "data[\"RH_8\"].unique()"
      ],
      "execution_count": null,
      "outputs": [
        {
          "data": {
            "text/plain": [
              "array([48.9       , 48.86333333, 48.73      , ..., 50.445     ,\n",
              "       50.074     , 49.51875   ])"
            ]
          },
          "execution_count": 47,
          "metadata": {},
          "output_type": "execute_result"
        }
      ]
    },
    {
      "cell_type": "code",
      "metadata": {
        "id": "aeDciA7HzsvE",
        "outputId": "76f9681d-d6ad-4b2d-817e-b432a7a4cca3"
      },
      "source": [
        "data[\"RH_8\"].value_counts()"
      ],
      "execution_count": null,
      "outputs": [
        {
          "data": {
            "text/plain": [
              "39.500000    95\n",
              "39.290000    80\n",
              "39.590000    67\n",
              "39.200000    65\n",
              "43.700000    63\n",
              "             ..\n",
              "41.720000     1\n",
              "49.027222     1\n",
              "43.390000     1\n",
              "39.761429     1\n",
              "48.756111     1\n",
              "Name: RH_8, Length: 6649, dtype: int64"
            ]
          },
          "execution_count": 48,
          "metadata": {},
          "output_type": "execute_result"
        }
      ]
    },
    {
      "cell_type": "code",
      "metadata": {
        "id": "Q82Dlxu0zsvE",
        "outputId": "752301b5-1245-48b1-b264-7e89c0ef4728"
      },
      "source": [
        "data[\"T9\"].unique()"
      ],
      "execution_count": null,
      "outputs": [
        {
          "data": {
            "text/plain": [
              "array([17.03333333, 17.06666667, 17.        , 16.89      , 16.96333333,\n",
              "       16.82333333, 17.1       , 17.13333333, 17.2       , 17.15      ,\n",
              "       17.05      , 17.16666667, 16.92666667, 16.79      , 16.85666667,\n",
              "       16.865     , 16.73      , 16.7       , 16.66666667, 16.65      ,\n",
              "       16.6       , 16.63333333, 16.745     , 16.76      , 17.26      ,\n",
              "       16.98166667, 17.23      , 17.29      , 17.32333333, 17.39      ,\n",
              "       17.42666667, 17.46333333, 17.5       , 17.56666667, 17.6       ,\n",
              "       17.66666667, 17.65      , 17.7       , 17.63333333, 17.34      ,\n",
              "       17.35666667, 17.245     , 17.53333333, 17.73      , 17.79      ,\n",
              "       17.865     , 17.89      , 17.96333333, 17.92666667, 17.82333333,\n",
              "       17.85666667, 18.        , 18.03333333, 18.1       , 18.13333333,\n",
              "       18.2       , 18.16666667, 17.76      , 17.745     , 18.06666667,\n",
              "       18.2225    , 18.29      , 18.39      , 18.5       , 18.22333333,\n",
              "       16.84      , 16.5       , 16.53333333, 16.675     , 16.56666667,\n",
              "       16.46333333, 16.39      , 16.29      , 16.23      , 16.315     ,\n",
              "       16.32333333, 16.35666667, 16.245     , 16.2       , 16.16666667,\n",
              "       16.1       , 16.06666667, 16.        , 15.89      , 15.8       ,\n",
              "       15.72666667, 15.76333333, 15.69      , 15.63      , 15.6       ,\n",
              "       15.5       , 15.42666667, 15.39      , 15.4175    , 15.53333333,\n",
              "       15.66      , 15.86      , 15.92666667, 15.945     , 15.96333333,\n",
              "       15.7175    , 16.03333333, 16.05      , 16.075     , 15.83      ,\n",
              "       15.8675    , 15.56666667, 15.33      , 15.3225    , 15.3       ,\n",
              "       15.22666667, 15.19      , 15.26333333, 15.13      , 15.145     ,\n",
              "       15.1       , 15.16      , 15.03333333, 15.06666667, 15.        ,\n",
              "       15.025     , 14.96333333, 14.89      , 15.46333333, 15.55      ,\n",
              "       15.645     , 16.42666667, 17.175     , 17.025     , 17.075     ,\n",
              "       16.945     , 16.26      , 16.13333333, 16.4175    , 16.365     ,\n",
              "       17.4725    , 18.23      , 18.32333333, 18.315     , 18.26      ,\n",
              "       18.2675    , 18.46333333, 18.42666667, 18.075     , 18.53333333,\n",
              "       18.6       , 18.66666667, 18.35666667, 18.445     , 18.56666667,\n",
              "       18.7       , 18.76      , 18.79      , 18.82333333, 18.815     ,\n",
              "       18.89      , 18.96333333, 18.9175    , 19.        , 18.92666667,\n",
              "       18.73      , 18.7675    , 18.85666667, 19.025     , 19.03333333,\n",
              "       19.1       , 19.2       , 19.15      , 19.29      , 19.23      ,\n",
              "       19.26      , 19.16666667, 19.13333333, 19.06666667, 18.945     ,\n",
              "       19.05      , 18.84      , 18.63333333, 18.575     , 18.675     ,\n",
              "       18.65      , 18.55      , 17.84      , 18.05      , 17.625     ,\n",
              "       17.9175    , 18.15      , 18.025     , 18.34      , 17.53      ,\n",
              "       17.66      , 17.62857143, 17.64      , 17.61428571, 17.51428571,\n",
              "       17.456     , 17.42142857, 17.434     , 17.40571429, 17.35      ,\n",
              "       17.36142857, 17.33      , 17.30428571, 17.412     , 17.45285714,\n",
              "       17.43714286, 17.48428571, 17.55714286, 17.56      , 17.57142857,\n",
              "       17.54      , 17.5375    , 17.58      , 17.54285714, 17.67142857,\n",
              "       17.65714286, 17.718     , 17.85      , 17.934     , 17.93714286,\n",
              "       17.92142857, 17.90571429, 17.83285714, 17.83      , 18.30666667,\n",
              "       18.64      , 18.62857143, 18.64285714, 18.61428571, 18.66      ,\n",
              "       18.68      , 18.754     , 18.736     , 18.72571429, 18.75142857,\n",
              "       18.73857143, 18.67142857, 18.68571429, 18.56      , 18.55714286,\n",
              "       18.57142857, 18.525     , 18.54285714, 18.52      , 18.58571429,\n",
              "       18.52857143, 18.54      , 18.58      , 18.5625    , 18.51428571,\n",
              "       18.48428571, 18.434     , 18.42142857, 18.37571429, 18.33      ,\n",
              "       18.26428571, 18.272     , 18.23857143, 18.22571429, 18.254     ,\n",
              "       18.27714286, 18.245     , 18.218     , 18.25142857, 18.236     ,\n",
              "       18.21285714, 18.12857143, 18.18      , 18.14285714, 18.15714286,\n",
              "       17.478     , 17.49714286, 17.71285714, 18.06      , 18.12      ,\n",
              "       18.31857143, 18.46857143, 18.456     , 18.40571429, 18.33285714,\n",
              "       18.16      , 18.14      , 18.05714286, 18.08571429, 18.02      ,\n",
              "       18.08      , 17.945     , 18.175     , 18.34714286, 18.412     ,\n",
              "       18.43714286, 18.478     , 18.5125    , 18.6375    , 18.6625    ,\n",
              "       18.40375   , 18.51666667, 18.30428571, 18.365     , 18.37      ,\n",
              "       17.675     , 17.55      , 18.125     , 18.625     , 19.39      ,\n",
              "       19.365     , 19.35666667, 19.46333333, 19.5       , 19.315     ,\n",
              "       19.42666667, 19.56666667, 19.53333333, 19.6       , 19.66666667,\n",
              "       19.7       , 19.63333333, 19.76      , 19.575     , 19.73      ,\n",
              "       19.79      , 19.7225    , 19.625     , 19.85666667, 19.89      ,\n",
              "       19.745     , 19.96333333, 19.84      , 19.82333333, 20.        ,\n",
              "       20.1       , 20.13333333, 20.06666667, 19.65      , 19.445     ,\n",
              "       19.32333333, 19.525     , 19.2225    , 19.4725    , 19.7675    ,\n",
              "       19.815     , 19.92666667, 20.03333333, 20.2       , 20.42666667,\n",
              "       20.5       , 20.39      , 20.35666667, 20.29      , 20.32333333,\n",
              "       20.26      , 20.23      , 20.245     , 20.46333333, 20.53333333,\n",
              "       20.6       , 20.56666667, 20.55      , 20.445     , 20.4725    ,\n",
              "       20.34      , 20.16666667, 20.05      , 20.125     , 19.93      ,\n",
              "       20.22666667, 20.2225    , 20.09333333, 20.76      , 20.7       ,\n",
              "       20.73      , 20.79      , 20.85666667, 20.82333333, 20.815     ,\n",
              "       20.89      , 20.96333333, 21.        , 20.92666667, 21.03333333,\n",
              "       20.945     , 20.84      , 21.1       , 20.63333333, 20.89666667,\n",
              "       21.56333333, 21.89      , 21.63333333, 21.42666667, 21.2       ,\n",
              "       21.13333333, 20.745     , 20.66666667, 20.7225    , 20.625     ,\n",
              "       21.73333333, 22.86      , 23.3475    , 22.99      , 22.26      ,\n",
              "       21.86      , 21.56666667, 21.36      , 21.26      , 21.06666667,\n",
              "       20.99333333, 21.99333333, 23.13      , 23.65666667, 23.22333333,\n",
              "       22.69666667, 22.22666667, 21.96      , 21.7       , 21.46333333,\n",
              "       21.39      , 21.35666667, 21.29      , 20.9725    , 20.9175    ,\n",
              "       20.93      , 21.93      , 23.26333333, 23.84      , 23.26      ,\n",
              "       22.73333333, 22.32666667, 22.06666667, 21.85666667, 21.73      ,\n",
              "       21.66666667, 21.6       , 21.5       , 21.23      , 21.175     ,\n",
              "       21.16666667, 20.365     , 20.4175    , 20.65666667, 21.83333333,\n",
              "       21.9725    , 21.59666667, 20.865     , 21.49      , 22.03      ,\n",
              "       21.82666667, 21.32333333, 20.7675    , 20.82666667, 21.76333333,\n",
              "       21.82333333, 21.15      , 20.2675    , 20.16333333, 20.43      ,\n",
              "       20.525     , 20.175     , 19.865     , 19.2675    , 19.55      ,\n",
              "       19.57142857, 19.56      , 19.67142857, 19.754     , 19.81857143,\n",
              "       19.83285714, 19.8025    , 19.80428571, 19.83      , 19.92142857,\n",
              "       19.93714286, 19.934     , 19.98428571, 19.956     , 19.95285714,\n",
              "       20.16      , 20.25142857, 20.31857143, 20.33285714, 20.37      ,\n",
              "       20.36142857, 20.37571429, 20.43714286, 20.456     , 20.48428571,\n",
              "       20.45285714, 20.434     , 20.46857143, 20.33      , 20.218     ,\n",
              "       20.31      , 20.34714286, 20.35      , 20.26428571, 20.52857143,\n",
              "       20.57142857, 20.51428571, 20.54      , 20.56      , 20.55714286,\n",
              "       20.54285714, 20.5125    , 20.86142857, 20.83285714, 20.93714286,\n",
              "       20.934     , 20.96857143, 20.92142857, 20.95285714, 20.95875   ,\n",
              "       21.01428571, 21.07142857, 21.04      , 21.05714286, 21.11428571,\n",
              "       21.22571429, 21.30428571, 21.35      , 21.42142857, 21.46857143,\n",
              "       21.434     , 21.45285714, 21.456     , 21.53333333, 21.76      ,\n",
              "       21.79      , 21.92666667, 22.        , 22.1       , 22.13333333,\n",
              "       22.2       , 22.254     , 22.21285714, 22.29      , 22.26428571,\n",
              "       22.245     , 22.23857143, 22.218     , 22.22571429, 22.236     ,\n",
              "       22.31857143, 22.35      , 22.39      , 22.34714286, 22.45285714,\n",
              "       22.4175    , 22.456     , 22.5       , 22.57142857, 22.51428571,\n",
              "       22.58      , 22.54285714, 22.6       , 22.64285714, 22.64      ,\n",
              "       22.61428571, 22.7       , 22.79      , 22.82333333, 22.89      ,\n",
              "       22.92666667, 22.945     , 23.        , 23.03333333, 23.1       ,\n",
              "       23.16666667, 23.13333333, 23.2       , 23.18      , 23.17142857,\n",
              "       23.14      , 23.12857143, 23.16      , 23.1375    , 23.29      ,\n",
              "       23.23857143, 23.218     , 23.25142857, 23.33      , 23.31857143,\n",
              "       23.39      , 23.33285714, 23.37571429, 23.35      , 23.30428571,\n",
              "       23.34714286, 23.46333333, 23.5       , 23.54285714, 23.57142857,\n",
              "       23.54      , 23.6       , 23.7       , 23.65714286, 23.65      ,\n",
              "       23.736     , 23.72571429, 23.79      , 23.815     , 23.80428571,\n",
              "       23.83      , 23.86142857, 23.89      , 23.85      , 23.96857143,\n",
              "       24.        , 23.956     , 23.95285714, 23.90571429, 23.978     ,\n",
              "       24.07142857, 24.1       , 24.12857143, 24.14285714, 24.14      ,\n",
              "       24.16      , 24.15      , 24.17142857, 24.2       , 24.13333333,\n",
              "       24.04      , 23.90375   , 23.934     , 24.02857143, 24.01428571,\n",
              "       24.06      , 24.05      , 24.04285714, 24.08571429, 24.02      ,\n",
              "       24.05714286, 24.08      , 23.76857143, 23.68      , 23.456     ,\n",
              "       23.49714286, 23.718     , 23.81      , 23.912     , 23.92142857,\n",
              "       24.0125    , 24.12      , 23.98428571, 24.0625    , 24.11428571,\n",
              "       24.18571429, 24.15714286, 24.025     , 24.236     , 24.2675    ,\n",
              "       24.254     , 24.25142857, 24.29      , 24.31857143, 24.39      ,\n",
              "       24.365     , 24.37571429, 24.15571429, 24.22571429, 24.21285714,\n",
              "       24.272     , 24.36142857, 24.42142857, 24.43714286, 24.5       ,\n",
              "       24.45285714, 24.456     , 24.40571429, 24.434     , 24.37      ,\n",
              "       24.33285714, 23.75142857, 23.67142857, 23.51428571, 23.434     ,\n",
              "       23.254     , 23.21285714, 23.31      , 23.42142857, 23.58571429,\n",
              "       23.62857143, 23.68571429, 23.93714286, 23.93125   , 23.75285714,\n",
              "       23.45285714, 23.40571429, 23.412     , 23.478     , 23.22571429,\n",
              "       23.236     , 23.15      , 23.08571429, 23.06      , 22.93714286,\n",
              "       22.83      , 22.73857143, 22.65714286, 22.67142857, 22.934     ,\n",
              "       23.05      , 23.04285714, 23.04      , 23.075     , 23.07142857,\n",
              "       23.06666667, 23.02857143, 23.14285714, 23.11428571, 23.15714286,\n",
              "       23.08      , 22.92142857, 22.90571429, 22.87571429, 22.83285714,\n",
              "       22.8275    , 22.81857143, 22.772     , 22.76428571, 22.72571429,\n",
              "       22.736     , 22.68571429, 22.66      , 22.65      , 22.77714286,\n",
              "       22.754     , 22.84      , 22.80428571, 22.84714286, 22.85      ,\n",
              "       22.6375    , 22.62857143, 22.62      , 22.68      , 22.81      ,\n",
              "       22.71285714, 22.52857143, 22.675     , 22.6875    , 22.56      ,\n",
              "       22.52      , 22.46333333, 22.43125   , 22.33      , 22.30428571,\n",
              "       22.36142857, 22.412     , 22.42142857, 22.43714286, 22.40571429,\n",
              "       22.63333333, 22.66666667, 22.625     , 22.56666667, 22.53333333,\n",
              "       22.575     , 22.55      , 22.7675    , 22.956     , 23.00285714,\n",
              "       23.00571429, 23.00857143, 23.01142857, 23.01428571, 23.01714286,\n",
              "       23.02      , 23.02285714, 23.02571429, 23.03142857, 23.03428571,\n",
              "       23.03714286, 23.04571429, 23.04857143, 23.05142857, 23.05428571,\n",
              "       23.05714286, 23.06285714, 23.06571429, 23.06857143, 23.07428571,\n",
              "       23.07714286, 23.08285714, 23.08857143, 23.09142857, 23.09428571,\n",
              "       23.09714286, 23.10172727, 23.10345455, 23.10518182, 23.10690909,\n",
              "       23.10863636, 23.11036364, 23.11209091, 23.11381818, 23.11554545,\n",
              "       23.11727273, 23.119     , 23.12072727, 23.12245455, 23.12418182,\n",
              "       23.12590909, 23.12763636, 23.12936364, 23.13109091, 23.13281818,\n",
              "       23.13454545, 23.13627273, 23.138     , 23.13972727, 23.14145455,\n",
              "       23.14318182, 23.14490909, 23.14663636, 23.14836364, 23.15009091,\n",
              "       23.15181818, 23.15354545, 23.15527273, 23.157     , 23.15872727,\n",
              "       23.16045455, 23.16218182, 23.16390909, 23.16563636, 23.16736364,\n",
              "       23.16909091, 23.17081818, 23.17254545, 23.17427273, 23.176     ,\n",
              "       23.17772727, 23.17945455, 23.18118182, 23.18290909, 23.18463636,\n",
              "       23.18636364, 23.18809091, 23.18981818, 23.19154545, 23.19327273,\n",
              "       23.195     , 23.19672727, 23.19845455, 23.20018182, 23.20190909,\n",
              "       23.20363636, 23.20536364, 23.20709091, 23.20881818, 23.21054545,\n",
              "       23.21227273, 23.214     , 23.21572727, 23.21745455, 23.21918182,\n",
              "       23.22090909, 23.22263636, 23.22436364, 23.22609091, 23.22781818,\n",
              "       23.22954545, 23.23127273, 23.233     , 23.23472727, 23.23645455,\n",
              "       23.23818182, 23.23990909, 23.24163636, 23.24336364, 23.24509091,\n",
              "       23.24681818, 23.24854545, 23.25027273, 23.252     , 23.25372727,\n",
              "       23.25545455, 23.25718182, 23.25890909, 23.26063636, 23.26236364,\n",
              "       23.26409091, 23.26581818, 23.26754545, 23.26927273, 23.271     ,\n",
              "       23.27272727, 23.27445455, 23.27618182, 23.27790909, 23.27963636,\n",
              "       23.28136364, 23.28309091, 23.28481818, 23.28654545, 23.28827273,\n",
              "       22.9725    , 22.912     , 22.96857143, 23.272     , 23.23      ,\n",
              "       22.9175    , 22.85666667, 22.73      , 22.96333333, 22.745     ,\n",
              "       22.76      , 22.42666667, 22.525     , 22.32333333, 22.16666667,\n",
              "       21.96333333, 21.63529412, 21.58461538, 21.5375    , 21.575     ,\n",
              "       21.51764706, 21.58823529, 21.60625   , 21.64285714, 21.62777778,\n",
              "       21.67375   , 21.71588235, 22.03333333, 22.35666667])"
            ]
          },
          "execution_count": 49,
          "metadata": {},
          "output_type": "execute_result"
        }
      ]
    },
    {
      "cell_type": "code",
      "metadata": {
        "id": "Ik6hzlgKzsvE",
        "outputId": "c87f7667-1e67-4bc1-814c-12d7ad64b0eb"
      },
      "source": [
        "data[\"T9\"].value_counts()"
      ],
      "execution_count": null,
      "outputs": [
        {
          "data": {
            "text/plain": [
              "20.500000    487\n",
              "18.200000    476\n",
              "20.290000    449\n",
              "19.600000    443\n",
              "18.000000    422\n",
              "            ... \n",
              "23.129364      1\n",
              "23.037143      1\n",
              "17.478000      1\n",
              "23.405714      1\n",
              "22.238571      1\n",
              "Name: T9, Length: 924, dtype: int64"
            ]
          },
          "execution_count": 50,
          "metadata": {},
          "output_type": "execute_result"
        }
      ]
    },
    {
      "cell_type": "code",
      "metadata": {
        "id": "I7KrpKa4zsvF",
        "outputId": "0b25daff-ddc9-4120-81ab-846f8f6af5d8"
      },
      "source": [
        "data[\"RH_9\"].unique()"
      ],
      "execution_count": null,
      "outputs": [
        {
          "data": {
            "text/plain": [
              "array([45.53  , 45.56  , 45.5   , ..., 46.718 , 46.8175, 46.845 ])"
            ]
          },
          "execution_count": 51,
          "metadata": {},
          "output_type": "execute_result"
        }
      ]
    },
    {
      "cell_type": "code",
      "metadata": {
        "id": "oV1oQiiPzsvF",
        "outputId": "3ebacfde-7838-4806-86bb-77308c3a7043"
      },
      "source": [
        "data[\"RH_9\"].value_counts()"
      ],
      "execution_count": null,
      "outputs": [
        {
          "data": {
            "text/plain": [
              "39.200000    165\n",
              "39.790000    159\n",
              "39.700000    148\n",
              "38.500000    136\n",
              "37.700000    127\n",
              "            ... \n",
              "38.734000      1\n",
              "42.514000      1\n",
              "52.163333      1\n",
              "34.666667      1\n",
              "39.600000      1\n",
              "Name: RH_9, Length: 3388, dtype: int64"
            ]
          },
          "execution_count": 52,
          "metadata": {},
          "output_type": "execute_result"
        }
      ]
    },
    {
      "cell_type": "code",
      "metadata": {
        "id": "dYhlp38MzsvF",
        "outputId": "4d84abd6-4032-4646-9cae-58440bc2a9ab"
      },
      "source": [
        "data[\"T_out\"].unique()"
      ],
      "execution_count": null,
      "outputs": [
        {
          "data": {
            "text/plain": [
              "array([ 6.6       ,  6.48333333,  6.36666667, ..., 20.91666667,\n",
              "       21.55      , 22.13333333])"
            ]
          },
          "execution_count": 53,
          "metadata": {},
          "output_type": "execute_result"
        }
      ]
    },
    {
      "cell_type": "code",
      "metadata": {
        "id": "IID6Zi3MzsvG",
        "outputId": "f156201f-d32c-4f70-b370-36cd1f4a9133"
      },
      "source": [
        "data[\"T_out\"].value_counts()"
      ],
      "execution_count": null,
      "outputs": [
        {
          "data": {
            "text/plain": [
              "9.800000     119\n",
              "9.600000     107\n",
              "5.000000     105\n",
              "10.100000    105\n",
              "5.500000      96\n",
              "            ... \n",
              "4.257143       1\n",
              "4.492857       1\n",
              "23.133333      1\n",
              "3.828571       1\n",
              "21.333333      1\n",
              "Name: T_out, Length: 1730, dtype: int64"
            ]
          },
          "execution_count": 54,
          "metadata": {},
          "output_type": "execute_result"
        }
      ]
    },
    {
      "cell_type": "code",
      "metadata": {
        "id": "uxhreLpOzsvG",
        "outputId": "130091f9-f04e-4bcb-fbdc-b3cf7d63c373"
      },
      "source": [
        "data[\"RH_out\"].unique()"
      ],
      "execution_count": null,
      "outputs": [
        {
          "data": {
            "text/plain": [
              "array([ 92.        ,  91.83333333,  91.66666667,  91.5       ,\n",
              "        91.33333333,  91.16666667,  91.        ,  90.5       ,\n",
              "        90.        ,  89.5       ,  89.        ,  88.5       ,\n",
              "        88.        ,  87.83333333,  87.66666667,  87.5       ,\n",
              "        87.33333333,  87.16666667,  87.        ,  88.66666667,\n",
              "        90.33333333,  92.16666667,  92.33333333,  92.5       ,\n",
              "        92.66666667,  92.83333333,  93.        ,  93.66666667,\n",
              "        94.33333333,  95.        ,  94.66666667,  94.        ,\n",
              "        93.33333333,  90.16666667,  89.33333333,  86.83333333,\n",
              "        86.        ,  85.16666667,  84.33333333,  83.5       ,\n",
              "        82.66666667,  81.83333333,  81.        ,  80.66666667,\n",
              "        80.33333333,  80.        ,  79.66666667,  79.33333333,\n",
              "        79.        ,  80.16666667,  78.5       ,  77.66666667,\n",
              "        76.83333333,  76.        ,  77.        ,  78.        ,\n",
              "        82.        ,  80.83333333,  77.33333333,  76.16666667,\n",
              "        75.        ,  76.66666667,  78.33333333,  81.66666667,\n",
              "        83.33333333,  85.        ,  86.66666667,  85.33333333,\n",
              "        84.66666667,  84.        ,  81.33333333,  90.66666667,\n",
              "        89.66666667,  89.16666667,  89.83333333,  88.33333333,\n",
              "        85.66666667,  84.5       ,  82.16666667,  76.33333333,\n",
              "        75.66666667,  74.5       ,  73.33333333,  72.16666667,\n",
              "        71.        ,  70.66666667,  70.33333333,  70.        ,\n",
              "        69.66666667,  69.33333333,  69.        ,  68.        ,\n",
              "        67.        ,  66.        ,  65.        ,  64.        ,\n",
              "        63.        ,  64.33333333,  65.66666667,  68.33333333,\n",
              "        72.        ,  73.        ,  74.        ,  83.        ,\n",
              "        88.83333333,  88.16666667,  86.33333333,  86.5       ,\n",
              "        96.        ,  97.        ,  98.        ,  97.5       ,\n",
              "        96.5       ,  95.5       ,  85.5       ,  84.83333333,\n",
              "        84.16666667,  83.16666667,  82.33333333,  81.5       ,\n",
              "        79.83333333,  77.5       ,  76.5       ,  75.33333333,\n",
              "        72.66666667,  73.66666667,  99.        , 100.        ,\n",
              "        99.83333333,  99.66666667,  99.5       ,  99.33333333,\n",
              "        99.16666667,  97.83333333,  96.66666667,  93.16666667,\n",
              "        79.5       ,  77.16666667,  74.66666667,  78.66666667,\n",
              "        86.16666667,  95.66666667,  95.33333333,  93.83333333,\n",
              "        93.5       ,  96.33333333,  96.83333333,  96.16666667,\n",
              "        95.83333333,  95.16666667,  69.5       ,  77.83333333,\n",
              "        73.5       ,  71.33333333,  69.16666667,  67.66666667,\n",
              "        73.83333333,  82.5       ,  97.33333333,  97.66666667,\n",
              "        97.16666667,  94.5       ,  75.16666667,  74.33333333,\n",
              "        71.83333333,  62.33333333,  61.66666667,  61.        ,\n",
              "        60.33333333,  59.66666667,  59.        ,  59.16666667,\n",
              "        59.33333333,  59.5       ,  59.83333333,  60.        ,\n",
              "        62.16666667,  66.5       ,  68.66666667,  70.83333333,\n",
              "        74.16666667,  78.83333333,  82.83333333,  85.83333333,\n",
              "        81.16666667,  72.33333333,  71.66666667,  68.5       ,\n",
              "        67.5       ,  83.66666667,  80.5       ,  90.83333333,\n",
              "        73.16666667,  65.83333333,  64.66666667,  65.33333333,\n",
              "        66.66666667,  67.33333333,  66.16666667,  62.5       ,\n",
              "        60.66666667,  58.83333333,  57.        ,  57.83333333,\n",
              "        58.66666667,  61.16666667,  62.        ,  75.5       ,\n",
              "        83.83333333,  62.66666667,  57.66666667,  56.        ,\n",
              "        55.16666667,  54.33333333,  53.5       ,  52.66666667,\n",
              "        51.83333333,  51.        ,  52.5       ,  54.        ,\n",
              "        55.5       ,  58.5       ,  63.33333333,  71.16666667,\n",
              "        75.83333333,  78.16666667,  70.5       ,  70.16666667,\n",
              "        69.83333333,  72.5       ,  74.83333333,  98.33333333,\n",
              "        98.66666667,  94.83333333,  94.16666667,  98.16666667,\n",
              "        98.5       ,  98.83333333,  58.        ,  56.66666667,\n",
              "        57.33333333,  55.83333333,  55.66666667,  55.33333333,\n",
              "        55.        ,  63.66666667,  66.33333333,  71.5       ,\n",
              "        72.83333333,  68.16666667,  65.5       ,  64.5       ,\n",
              "        64.16666667,  64.83333333,  63.5       ,  65.16666667,\n",
              "        79.16666667,  66.83333333,  68.83333333,  67.16666667,\n",
              "        62.83333333,  61.33333333,  58.33333333,  56.33333333,\n",
              "        53.66666667,  53.        ,  52.33333333,  51.66666667,\n",
              "        51.5       ,  52.        ,  63.16666667,  60.83333333,\n",
              "        60.5       ,  57.5       ,  56.5       ,  58.16666667,\n",
              "        57.16666667,  60.16666667,  54.16666667,  50.5       ,\n",
              "        48.66666667,  46.83333333,  45.        ,  45.83333333,\n",
              "        46.66666667,  47.5       ,  48.33333333,  49.16666667,\n",
              "        50.        ,  53.33333333,  61.83333333,  50.83333333,\n",
              "        50.66666667,  50.33333333,  50.16666667,  49.66666667,\n",
              "        49.33333333,  49.        ,  48.        ,  51.33333333,\n",
              "        61.5       ,  53.83333333,  53.16666667,  52.83333333,\n",
              "        52.16666667,  51.16666667,  47.66666667,  47.        ,\n",
              "        48.5       ,  49.5       ,  56.16666667,  54.5       ,\n",
              "        47.33333333,  46.16666667,  45.16666667,  45.33333333,\n",
              "        45.5       ,  45.66666667,  46.        ,  54.83333333,\n",
              "        91.04761905,  91.0952381 ,  91.14285714,  91.19047619,\n",
              "        91.23809524,  91.28571429,  91.38095238,  91.42857143,\n",
              "        91.47619048,  91.52380952,  91.57142857,  91.61904762,\n",
              "        91.71428571,  91.76190476,  91.80952381,  91.85714286,\n",
              "        91.9047619 ,  91.95238095,  92.04761905,  92.0952381 ,\n",
              "        92.14285714,  92.19047619,  92.23809524,  92.28571429,\n",
              "        92.38095238,  92.42857143,  92.47619048,  92.52380952,\n",
              "        92.57142857,  92.61904762,  92.71428571,  92.76190476,\n",
              "        92.80952381,  92.85714286,  92.9047619 ,  92.95238095,\n",
              "        63.83333333,  54.66666667,  49.83333333,  67.83333333,\n",
              "        56.83333333,  48.16666667,  48.83333333,  93.91666667,\n",
              "        93.75      ,  93.58333333,  93.41666667,  93.25      ,\n",
              "        93.08333333,  47.16666667,  44.        ,  50.61111111,\n",
              "        51.22222222,  52.44444444,  53.05555556,  54.27777778,\n",
              "        54.88888889,  56.11111111,  56.72222222,  57.94444444,\n",
              "        58.55555556,  59.77777778,  60.38888889,  46.5       ,\n",
              "        43.        ,  41.        ,  39.        ,  37.        ,\n",
              "        37.5       ,  38.        ,  38.5       ,  39.5       ,\n",
              "        40.        ,  35.5       ,  34.        ,  32.5       ,\n",
              "        31.        ,  31.16666667,  31.33333333,  31.5       ,\n",
              "        31.66666667,  31.83333333,  32.        ,  32.66666667,\n",
              "        33.33333333,  34.66666667,  35.33333333,  36.        ,\n",
              "        37.83333333,  39.66666667,  41.5       ,  43.33333333,\n",
              "        46.33333333,  42.66666667,  42.        ,  41.33333333,\n",
              "        40.66666667,  39.33333333,  38.66666667,  37.33333333,\n",
              "        36.66666667,  36.16666667,  36.33333333,  36.5       ,\n",
              "        36.83333333,  38.33333333,  42.33333333,  43.66666667,\n",
              "        75.08333333,  75.25      ,  75.41666667,  75.58333333,\n",
              "        75.75      ,  75.91666667,  76.91666667,  74.75      ,\n",
              "        72.58333333,  70.41666667,  68.25      ,  66.08333333,\n",
              "        73.91666667,  73.08333333,  72.25      ,  71.41666667,\n",
              "        44.33333333,  43.5       ,  41.83333333,  41.66666667,\n",
              "        79.11111111,  79.22222222,  79.44444444,  79.55555556,\n",
              "        79.77777778,  79.88888889,  80.11111111,  80.22222222,\n",
              "        80.44444444,  80.55555556,  80.77777778,  80.88888889,\n",
              "        74.08333333,  74.25      ,  74.41666667,  74.58333333,\n",
              "        74.91666667,  44.66666667,  43.16666667,  43.83333333,\n",
              "        40.83333333,  42.5       ,  44.16666667,  37.75      ,\n",
              "        37.25      ,  36.75      ,  36.25      ,  35.75      ,\n",
              "        35.25      ,  35.        ,  34.5       ,  33.5       ,\n",
              "        33.        ,  37.16666667,  41.16666667,  40.33333333,\n",
              "        38.83333333,  38.16666667,  35.83333333,  35.66666667,\n",
              "        35.16666667,  34.83333333,  34.33333333,  34.16666667,\n",
              "        40.5       ,  30.66666667,  30.        ,  29.33333333,\n",
              "        28.66666667,  28.        ,  28.16666667,  28.33333333,\n",
              "        28.5       ,  28.83333333,  29.        ,  29.66666667,\n",
              "        30.33333333,  30.83333333,  30.5       ,  30.16666667,\n",
              "        37.66666667,  39.83333333,  39.16666667,  27.5       ,\n",
              "        27.        ,  26.5       ,  26.        ,  25.5       ,\n",
              "        25.        ,  25.33333333,  25.66666667,  26.33333333,\n",
              "        26.66666667,  26.83333333,  26.16666667,  33.83333333,\n",
              "        33.66666667,  33.16666667,  32.33333333,  29.83333333,\n",
              "        25.16666667,  24.        ,  24.5       ,  27.83333333,\n",
              "        29.5       ,  42.83333333,  42.16666667,  44.5       ,\n",
              "        47.83333333,  44.83333333,  61.25      ,  61.75      ,\n",
              "        62.25      ,  62.75      ,  63.25      ,  63.75      ,\n",
              "        64.25      ,  64.75      ,  65.25      ,  65.75      ,\n",
              "        66.25      ,  66.75      ,  67.25      ,  67.75      ,\n",
              "        68.75      ,  69.25      ,  69.75      ,  91.75      ,\n",
              "        89.58333333,  87.41666667,  85.25      ,  83.08333333,\n",
              "        99.91666667,  99.75      ,  99.58333333,  99.41666667,\n",
              "        99.25      ,  99.08333333])"
            ]
          },
          "execution_count": 55,
          "metadata": {},
          "output_type": "execute_result"
        }
      ]
    },
    {
      "cell_type": "code",
      "metadata": {
        "id": "RVShkIxRzsvH",
        "outputId": "07e63500-4953-46b9-8e3c-36d51191ec9e"
      },
      "source": [
        "data[\"RH_out\"].value_counts()"
      ],
      "execution_count": null,
      "outputs": [
        {
          "data": {
            "text/plain": [
              "95.000000    470\n",
              "92.000000    342\n",
              "88.000000    341\n",
              "91.000000    332\n",
              "93.000000    318\n",
              "            ... \n",
              "59.777778      1\n",
              "80.444444      1\n",
              "92.571429      1\n",
              "91.750000      1\n",
              "93.583333      1\n",
              "Name: RH_out, Length: 566, dtype: int64"
            ]
          },
          "execution_count": 56,
          "metadata": {},
          "output_type": "execute_result"
        }
      ]
    },
    {
      "cell_type": "code",
      "metadata": {
        "id": "utjN6WpgzsvH",
        "outputId": "d34500de-59d9-4ff8-d7d8-74f2d7d6d103"
      },
      "source": [
        "data[\"Press_mm_hg\"].unique()"
      ],
      "execution_count": null,
      "outputs": [
        {
          "data": {
            "text/plain": [
              "array([733.5  , 733.6  , 733.7  , ..., 757.175, 757.225, 757.275])"
            ]
          },
          "execution_count": 57,
          "metadata": {},
          "output_type": "execute_result"
        }
      ]
    },
    {
      "cell_type": "code",
      "metadata": {
        "id": "WRHKUy2jzsvH",
        "outputId": "0685a43f-5e17-40c6-ab8b-279c463b82e7"
      },
      "source": [
        "data[\"Press_mm_hg\"].value_counts()"
      ],
      "execution_count": null,
      "outputs": [
        {
          "data": {
            "text/plain": [
              "757.300000    142\n",
              "756.200000    110\n",
              "764.500000     98\n",
              "756.600000     97\n",
              "755.800000     95\n",
              "             ... \n",
              "743.216667      1\n",
              "740.783333      1\n",
              "731.866667      1\n",
              "733.833333      1\n",
              "735.083333      1\n",
              "Name: Press_mm_hg, Length: 2189, dtype: int64"
            ]
          },
          "execution_count": 58,
          "metadata": {},
          "output_type": "execute_result"
        }
      ]
    },
    {
      "cell_type": "code",
      "metadata": {
        "id": "f7B-maHYzsvH",
        "outputId": "0078c82f-a4f7-4fb4-949b-5b0624495231"
      },
      "source": [
        "data[\"Windspeed\"].unique()"
      ],
      "execution_count": null,
      "outputs": [
        {
          "data": {
            "text/plain": [
              "array([ 7.        ,  6.66666667,  6.33333333,  6.        ,  5.66666667,\n",
              "        5.33333333,  5.        ,  5.16666667,  5.5       ,  5.83333333,\n",
              "        6.16666667,  6.5       ,  6.83333333,  4.83333333,  4.66666667,\n",
              "        4.5       ,  4.33333333,  4.16666667,  4.        ,  7.16666667,\n",
              "        7.33333333,  7.5       ,  7.66666667,  7.83333333,  8.        ,\n",
              "        3.83333333,  3.66666667,  3.5       ,  3.33333333,  3.16666667,\n",
              "        3.        ,  8.33333333,  9.        ,  8.83333333,  8.66666667,\n",
              "        8.5       ,  8.16666667,  9.33333333,  9.66666667, 10.        ,\n",
              "        9.16666667,  9.5       ,  9.83333333, 10.16666667, 10.33333333,\n",
              "       10.5       , 10.66666667, 10.83333333, 11.        ,  2.5       ,\n",
              "        2.        ,  2.16666667,  2.33333333,  2.66666667,  2.83333333,\n",
              "        1.66666667,  1.33333333,  1.        ,  1.83333333,  1.5       ,\n",
              "        1.16666667,  0.83333333,  0.66666667,  0.5       ,  0.33333333,\n",
              "        0.16666667,  0.        ,  1.94444444,  1.88888889,  1.77777778,\n",
              "        1.72222222,  1.61111111,  1.55555556,  1.44444444,  1.38888889,\n",
              "        1.27777778,  1.22222222,  1.11111111,  1.05555556, 11.16666667,\n",
              "       11.33333333, 11.5       , 11.66666667, 11.83333333, 12.        ,\n",
              "       12.33333333, 12.66666667, 13.        , 12.83333333, 12.5       ,\n",
              "       12.16666667, 14.        , 13.5       ,  7.85714286,  7.71428571,\n",
              "        7.57142857,  7.42857143,  7.28571429,  7.14285714,  6.85714286,\n",
              "        6.71428571,  6.57142857,  6.42857143,  6.28571429,  6.14285714,\n",
              "        5.85714286,  5.71428571,  5.57142857,  5.42857143,  5.28571429,\n",
              "        5.14285714,  4.85714286,  4.71428571,  4.57142857,  4.42857143,\n",
              "        4.28571429,  4.14285714,  3.85714286,  3.71428571,  3.57142857,\n",
              "        3.42857143,  3.28571429,  3.14285714,  2.85714286,  2.71428571,\n",
              "        2.57142857,  2.42857143,  2.28571429,  2.14285714,  8.94444444,\n",
              "        8.88888889,  8.77777778,  8.72222222,  8.61111111,  8.55555556,\n",
              "        8.44444444,  8.38888889,  8.27777778,  8.22222222,  8.11111111,\n",
              "        8.05555556,  3.91666667,  3.75      ,  3.58333333,  3.41666667,\n",
              "        3.25      ,  3.08333333,  3.05555556,  3.11111111,  3.22222222,\n",
              "        3.27777778,  3.38888889,  3.44444444,  3.55555556,  3.61111111,\n",
              "        3.72222222,  3.77777778,  3.88888889,  3.94444444,  5.08333333,\n",
              "        5.25      ,  5.41666667,  5.58333333,  5.75      ,  5.91666667,\n",
              "        2.08333333,  2.25      ,  2.41666667,  2.58333333,  2.75      ,\n",
              "        2.91666667,  4.94444444,  4.88888889,  4.77777778,  4.72222222,\n",
              "        4.61111111,  4.55555556,  4.44444444,  4.38888889,  4.27777778,\n",
              "        4.22222222,  4.11111111,  4.05555556,  1.91666667,  1.75      ,\n",
              "        1.58333333,  1.41666667,  1.25      ,  1.08333333])"
            ]
          },
          "execution_count": 59,
          "metadata": {},
          "output_type": "execute_result"
        }
      ]
    },
    {
      "cell_type": "code",
      "metadata": {
        "id": "xy0INUlDzsvI",
        "outputId": "511a2df7-9379-4770-e4bd-a838173731c2"
      },
      "source": [
        "data[\"Windspeed\"].value_counts()"
      ],
      "execution_count": null,
      "outputs": [
        {
          "data": {
            "text/plain": [
              "1.000000    2133\n",
              "2.000000    2007\n",
              "3.000000    1707\n",
              "4.000000    1594\n",
              "5.000000    1084\n",
              "            ... \n",
              "5.714286       1\n",
              "8.222222       1\n",
              "4.888889       1\n",
              "1.111111       1\n",
              "5.285714       1\n",
              "Name: Windspeed, Length: 189, dtype: int64"
            ]
          },
          "execution_count": 60,
          "metadata": {},
          "output_type": "execute_result"
        }
      ]
    },
    {
      "cell_type": "code",
      "metadata": {
        "id": "-vQHT2ewzsvI",
        "outputId": "e56c68a9-dad9-4d03-99fb-a3186978a557"
      },
      "source": [
        "data[\"Visibility\"].unique()"
      ],
      "execution_count": null,
      "outputs": [
        {
          "data": {
            "text/plain": [
              "array([63.        , 59.16666667, 55.33333333, 51.5       , 47.66666667,\n",
              "       43.83333333, 40.        , 37.        , 34.        , 31.        ,\n",
              "       28.        , 25.        , 22.        , 38.16666667, 36.33333333,\n",
              "       34.5       , 32.66666667, 30.83333333, 29.        , 38.        ,\n",
              "       36.        , 32.        , 30.        , 37.83333333, 35.66666667,\n",
              "       33.5       , 31.33333333, 29.16666667, 27.        , 26.        ,\n",
              "       24.        , 23.        , 21.        , 21.5       , 22.5       ,\n",
              "       23.5       , 23.66666667, 23.33333333, 22.66666667, 22.33333333,\n",
              "       22.16666667, 22.83333333, 25.83333333, 28.66666667, 31.5       ,\n",
              "       34.33333333, 37.16666667, 36.66666667, 33.33333333, 26.66666667,\n",
              "       20.        , 24.5       , 27.5       , 28.33333333, 27.66666667,\n",
              "       27.33333333, 27.16666667, 27.83333333, 28.16666667, 28.5       ,\n",
              "       28.83333333, 25.33333333, 21.33333333, 32.5       , 35.        ,\n",
              "       35.83333333, 37.5       , 38.33333333, 39.16666667, 42.33333333,\n",
              "       47.16666667, 52.        , 49.        , 46.        , 43.        ,\n",
              "       38.66666667, 43.33333333, 48.        , 52.66666667, 57.33333333,\n",
              "       62.        , 55.5       , 42.5       , 29.5       , 24.33333333,\n",
              "       24.66666667, 26.33333333, 41.        , 54.33333333, 61.        ,\n",
              "       55.66666667, 50.33333333, 45.        , 39.66666667, 36.83333333,\n",
              "       33.66666667, 30.5       , 24.16666667, 54.66666667, 48.33333333,\n",
              "       42.        , 29.33333333, 29.66666667, 49.66666667, 56.33333333,\n",
              "       63.16666667, 63.33333333, 63.5       , 63.66666667, 63.83333333,\n",
              "       64.        , 57.16666667, 43.5       , 29.83333333, 33.        ,\n",
              "       39.        , 20.5       , 41.5       , 48.66666667, 55.83333333,\n",
              "       25.66666667, 44.16666667, 52.5       , 56.66666667, 60.83333333,\n",
              "       65.        , 18.33333333, 14.        , 15.5       , 17.        ,\n",
              "       18.5       , 50.        , 57.5       , 58.        , 51.        ,\n",
              "       44.        , 25.5       , 30.66666667, 35.33333333, 37.66666667,\n",
              "       26.5       , 23.83333333, 26.16666667, 21.66666667, 20.66666667,\n",
              "       20.33333333, 24.83333333, 34.66666667, 49.33333333, 64.16666667,\n",
              "       64.33333333, 64.5       , 64.66666667, 64.83333333, 62.66666667,\n",
              "       62.33333333, 61.83333333, 61.66666667, 61.5       , 61.33333333,\n",
              "       61.16666667, 60.66666667, 60.33333333, 60.        , 58.16666667,\n",
              "       54.5       , 50.83333333, 51.66666667, 52.33333333, 53.        ,\n",
              "       53.66666667, 55.        , 57.        , 57.66666667, 58.33333333,\n",
              "       59.        , 59.66666667, 60.5       , 59.5       , 58.5       ,\n",
              "       58.66666667, 58.83333333, 59.33333333, 56.83333333, 53.33333333,\n",
              "       52.16666667, 50.5       , 49.5       , 48.5       , 50.66666667,\n",
              "       56.        , 60.16666667, 53.5       , 46.33333333, 43.66666667,\n",
              "       43.16666667, 45.33333333, 47.5       , 51.83333333, 54.        ,\n",
              "       55.16666667, 20.83333333, 20.16666667, 57.83333333, 62.83333333,\n",
              "       62.5       , 62.16666667, 21.16666667, 21.83333333, 23.16666667,\n",
              "       47.33333333, 44.66666667, 45.16666667, 44.33333333, 40.16666667,\n",
              "       47.        , 16.33333333, 12.16666667,  8.        ,  7.33333333,\n",
              "        6.66666667,  6.        ,  5.33333333,  4.66666667,  4.        ,\n",
              "        3.66666667,  3.33333333,  3.        ,  2.66666667,  2.33333333,\n",
              "        2.        ,  2.16666667,  2.5       ,  2.83333333,  4.33333333,\n",
              "        5.66666667,  7.        ,  8.33333333,  9.66666667, 11.        ,\n",
              "       10.66666667, 10.33333333, 10.        ,  9.33333333,  9.        ,\n",
              "       19.        , 40.33333333, 41.66666667, 19.66666667, 15.        ,\n",
              "       53.16666667, 56.5       , 52.83333333, 46.66666667, 56.16666667,\n",
              "       26.83333333, 45.66666667, 33.83333333, 33.16666667, 37.33333333,\n",
              "       34.83333333, 40.66666667, 46.5       , 44.5       , 31.66666667,\n",
              "       35.5       , 39.5       , 41.33333333, 42.66666667, 39.33333333,\n",
              "       30.33333333, 32.33333333, 45.5       , 40.5       , 54.16666667,\n",
              "       51.33333333, 42.83333333, 49.83333333, 40.83333333, 36.5       ,\n",
              "       32.16666667, 34.16666667, 38.5       , 51.16666667, 31.83333333,\n",
              "       25.16666667, 46.16666667, 38.83333333, 16.        , 16.5       ,\n",
              "       17.5       , 18.        , 54.83333333, 50.16666667, 47.83333333,\n",
              "       35.16666667, 46.83333333, 42.16666667, 14.66666667, 10.83333333,\n",
              "       10.5       , 10.16666667, 11.16666667, 12.33333333, 13.5       ,\n",
              "       15.83333333, 17.16666667, 17.33333333, 17.66666667, 17.83333333,\n",
              "       14.83333333, 12.66666667,  6.16666667,  6.5       , 11.5       ,\n",
              "       41.16666667, 41.83333333, 39.83333333, 32.83333333, 48.16666667,\n",
              "       59.83333333, 49.16666667, 19.33333333, 11.33333333, 11.66666667,\n",
              "       11.83333333, 12.        , 15.33333333, 18.66666667, 13.        ,\n",
              "       13.66666667, 14.33333333, 15.66666667, 36.16666667, 14.16666667,\n",
              "        7.66666667,  7.83333333,  8.66666667,  9.5       , 48.83333333,\n",
              "        7.5       ,  3.16666667,  1.        ,  1.16666667,  1.33333333,\n",
              "        1.5       ,  1.66666667,  1.83333333,  4.5       ,  8.5       ,\n",
              "       53.83333333, 13.33333333, 61.08333333, 61.25      , 61.41666667,\n",
              "       61.58333333, 61.75      , 61.91666667,  9.83333333, 16.66666667,\n",
              "       14.5       ,  5.5       ,  5.        ,  3.5       ,  3.83333333,\n",
              "       66.        ,  6.83333333, 39.08333333, 37.25      , 35.41666667,\n",
              "       33.58333333, 31.75      , 29.91666667, 38.91666667, 36.75      ,\n",
              "       34.58333333, 32.41666667, 30.25      , 28.08333333, 19.16666667,\n",
              "       29.30555556, 29.61111111, 30.22222222, 30.52777778, 31.13888889,\n",
              "       31.44444444, 32.05555556, 32.36111111, 32.97222222, 33.27777778,\n",
              "       33.88888889, 34.19444444, 34.80555556, 35.11111111, 35.72222222,\n",
              "       36.02777778, 36.63888889, 36.94444444, 37.55555556, 37.86111111,\n",
              "       38.47222222, 38.77777778, 39.38888889, 39.69444444, 30.16666667,\n",
              "        9.66666667,  3.58333333,  8.75      , 13.91666667, 19.08333333,\n",
              "       24.25      , 29.41666667, 45.83333333])"
            ]
          },
          "execution_count": 61,
          "metadata": {},
          "output_type": "execute_result"
        }
      ]
    },
    {
      "cell_type": "code",
      "metadata": {
        "id": "1xhyvlmtzsvI",
        "outputId": "33af1520-ee37-42b4-b920-40f87488ac3d"
      },
      "source": [
        "data[\"Visibility\"].value_counts()"
      ],
      "execution_count": null,
      "outputs": [
        {
          "data": {
            "text/plain": [
              "40.000000    7224\n",
              "29.000000     449\n",
              "36.333333     257\n",
              "23.000000     247\n",
              "28.000000     245\n",
              "             ... \n",
              "33.277778       1\n",
              "35.722222       1\n",
              "61.916667       1\n",
              "2.500000        1\n",
              "32.361111       1\n",
              "Name: Visibility, Length: 413, dtype: int64"
            ]
          },
          "execution_count": 62,
          "metadata": {},
          "output_type": "execute_result"
        }
      ]
    },
    {
      "cell_type": "code",
      "metadata": {
        "id": "cyxA_Wl-zsvJ",
        "outputId": "026ee975-5951-43e7-de2a-ea3ec1cd16fa"
      },
      "source": [
        "data[\"Tdewpoint\"].unique()"
      ],
      "execution_count": null,
      "outputs": [
        {
          "data": {
            "text/plain": [
              "array([ 5.3       ,  5.2       ,  5.1       , ...,  9.925     ,\n",
              "       10.24166667, 11.51666667])"
            ]
          },
          "execution_count": 63,
          "metadata": {},
          "output_type": "execute_result"
        }
      ]
    },
    {
      "cell_type": "code",
      "metadata": {
        "id": "JZ263iWFzsvJ",
        "outputId": "6c7fca5f-2a00-47db-dfa6-3adb4444b6e2"
      },
      "source": [
        "data[\"Tdewpoint\"].value_counts()"
      ],
      "execution_count": null,
      "outputs": [
        {
          "data": {
            "text/plain": [
              "0.000000     123\n",
              "1.400000     110\n",
              "2.100000     108\n",
              "2.900000      98\n",
              "2.000000      95\n",
              "            ... \n",
              "3.321429       1\n",
              "11.116667      1\n",
              "2.330952       1\n",
              "1.608333       1\n",
              "5.677778       1\n",
              "Name: Tdewpoint, Length: 1409, dtype: int64"
            ]
          },
          "execution_count": 64,
          "metadata": {},
          "output_type": "execute_result"
        }
      ]
    },
    {
      "cell_type": "markdown",
      "metadata": {
        "id": "hpehdgZrzsvJ"
      },
      "source": [
        "# Creating a new column name in a list"
      ]
    },
    {
      "cell_type": "code",
      "metadata": {
        "id": "nNKBf0yozsvJ"
      },
      "source": [
        "new_name = [\"Appliances\", \"temp_in_kitchen\", \"RH_in_kitchen\", \"temp_in_living_room\", \"RH_in_living_room\", \"temp_in_laundry_room\", \"RH_in_laundry_room\", \"temp_in_office_room\", \"RH_in_office_room\", \"temp_in_bathroom\", \"RH_in_bathroom\", \"temp_outside_building_northside\", \"RH_outside_building_northside\", \"temp_in_ironing_room\", \"RH_in_ironing_room\", \"temp_in_teenager_room2\", \"RH_in_teenager_room2\", \"temp_in_parents_room\", \"RH_in_parents_room2\", \"temp_weather_station\", \"pressure_waether_station\", \"RH_weather_station\", \"windspeed_weather_station\", \"visibility_weather_station\", \"Tdewpoint_weather_station\", \"random_variable1\", \"random_variable2\"]"
      ],
      "execution_count": 1,
      "outputs": []
    },
    {
      "cell_type": "markdown",
      "metadata": {
        "id": "haXC8jrzzsvJ"
      },
      "source": [
        "# Normalizing the dataset and dropping out the unwanted columns"
      ]
    },
    {
      "cell_type": "code",
      "metadata": {
        "id": "Uh_5U6WxzsvJ",
        "outputId": "368aa997-eaa3-4242-aa8d-52e27ffd68f3"
      },
      "source": [
        "scaler = MinMaxScaler()\n",
        "new_data = pd.DataFrame(scaler.fit_transform(data.drop([\"date\", \"lights\"], axis = 1)), columns = new_name)\n",
        "new_data.head()"
      ],
      "execution_count": null,
      "outputs": [
        {
          "data": {
            "text/html": [
              "<div>\n",
              "<style scoped>\n",
              "    .dataframe tbody tr th:only-of-type {\n",
              "        vertical-align: middle;\n",
              "    }\n",
              "\n",
              "    .dataframe tbody tr th {\n",
              "        vertical-align: top;\n",
              "    }\n",
              "\n",
              "    .dataframe thead th {\n",
              "        text-align: right;\n",
              "    }\n",
              "</style>\n",
              "<table border=\"1\" class=\"dataframe\">\n",
              "  <thead>\n",
              "    <tr style=\"text-align: right;\">\n",
              "      <th></th>\n",
              "      <th>Appliances</th>\n",
              "      <th>temp_in_kitchen</th>\n",
              "      <th>RH_in_kitchen</th>\n",
              "      <th>temp_in_living_room</th>\n",
              "      <th>RH_in_living_room</th>\n",
              "      <th>temp_in_laundry_room</th>\n",
              "      <th>RH_in_laundry_room</th>\n",
              "      <th>temp_in_office_room</th>\n",
              "      <th>RH_in_office_room</th>\n",
              "      <th>temp_in_bathroom</th>\n",
              "      <th>...</th>\n",
              "      <th>temp_in_parents_room</th>\n",
              "      <th>RH_in_parents_room2</th>\n",
              "      <th>temp_weather_station</th>\n",
              "      <th>pressure_waether_station</th>\n",
              "      <th>RH_weather_station</th>\n",
              "      <th>windspeed_weather_station</th>\n",
              "      <th>visibility_weather_station</th>\n",
              "      <th>Tdewpoint_weather_station</th>\n",
              "      <th>random_variable1</th>\n",
              "      <th>random_variable2</th>\n",
              "    </tr>\n",
              "  </thead>\n",
              "  <tbody>\n",
              "    <tr>\n",
              "      <th>0</th>\n",
              "      <td>0.046729</td>\n",
              "      <td>0.32735</td>\n",
              "      <td>0.566187</td>\n",
              "      <td>0.225345</td>\n",
              "      <td>0.684038</td>\n",
              "      <td>0.215188</td>\n",
              "      <td>0.746066</td>\n",
              "      <td>0.351351</td>\n",
              "      <td>0.764262</td>\n",
              "      <td>0.175506</td>\n",
              "      <td>...</td>\n",
              "      <td>0.223032</td>\n",
              "      <td>0.677290</td>\n",
              "      <td>0.372990</td>\n",
              "      <td>0.097674</td>\n",
              "      <td>0.894737</td>\n",
              "      <td>0.500000</td>\n",
              "      <td>0.953846</td>\n",
              "      <td>0.538462</td>\n",
              "      <td>0.265449</td>\n",
              "      <td>0.265449</td>\n",
              "    </tr>\n",
              "    <tr>\n",
              "      <th>1</th>\n",
              "      <td>0.046729</td>\n",
              "      <td>0.32735</td>\n",
              "      <td>0.541326</td>\n",
              "      <td>0.225345</td>\n",
              "      <td>0.682140</td>\n",
              "      <td>0.215188</td>\n",
              "      <td>0.748871</td>\n",
              "      <td>0.351351</td>\n",
              "      <td>0.782437</td>\n",
              "      <td>0.175506</td>\n",
              "      <td>...</td>\n",
              "      <td>0.226500</td>\n",
              "      <td>0.678532</td>\n",
              "      <td>0.369239</td>\n",
              "      <td>0.100000</td>\n",
              "      <td>0.894737</td>\n",
              "      <td>0.476190</td>\n",
              "      <td>0.894872</td>\n",
              "      <td>0.533937</td>\n",
              "      <td>0.372083</td>\n",
              "      <td>0.372083</td>\n",
              "    </tr>\n",
              "    <tr>\n",
              "      <th>2</th>\n",
              "      <td>0.037383</td>\n",
              "      <td>0.32735</td>\n",
              "      <td>0.530502</td>\n",
              "      <td>0.225345</td>\n",
              "      <td>0.679445</td>\n",
              "      <td>0.215188</td>\n",
              "      <td>0.755569</td>\n",
              "      <td>0.344745</td>\n",
              "      <td>0.778062</td>\n",
              "      <td>0.175506</td>\n",
              "      <td>...</td>\n",
              "      <td>0.219563</td>\n",
              "      <td>0.676049</td>\n",
              "      <td>0.365488</td>\n",
              "      <td>0.102326</td>\n",
              "      <td>0.894737</td>\n",
              "      <td>0.452381</td>\n",
              "      <td>0.835897</td>\n",
              "      <td>0.529412</td>\n",
              "      <td>0.572848</td>\n",
              "      <td>0.572848</td>\n",
              "    </tr>\n",
              "    <tr>\n",
              "      <th>3</th>\n",
              "      <td>0.037383</td>\n",
              "      <td>0.32735</td>\n",
              "      <td>0.524080</td>\n",
              "      <td>0.225345</td>\n",
              "      <td>0.678414</td>\n",
              "      <td>0.215188</td>\n",
              "      <td>0.758685</td>\n",
              "      <td>0.341441</td>\n",
              "      <td>0.770949</td>\n",
              "      <td>0.175506</td>\n",
              "      <td>...</td>\n",
              "      <td>0.219563</td>\n",
              "      <td>0.671909</td>\n",
              "      <td>0.361736</td>\n",
              "      <td>0.104651</td>\n",
              "      <td>0.894737</td>\n",
              "      <td>0.428571</td>\n",
              "      <td>0.776923</td>\n",
              "      <td>0.524887</td>\n",
              "      <td>0.908261</td>\n",
              "      <td>0.908261</td>\n",
              "    </tr>\n",
              "    <tr>\n",
              "      <th>4</th>\n",
              "      <td>0.046729</td>\n",
              "      <td>0.32735</td>\n",
              "      <td>0.531419</td>\n",
              "      <td>0.225345</td>\n",
              "      <td>0.676727</td>\n",
              "      <td>0.215188</td>\n",
              "      <td>0.758685</td>\n",
              "      <td>0.341441</td>\n",
              "      <td>0.762697</td>\n",
              "      <td>0.178691</td>\n",
              "      <td>...</td>\n",
              "      <td>0.219563</td>\n",
              "      <td>0.671909</td>\n",
              "      <td>0.357985</td>\n",
              "      <td>0.106977</td>\n",
              "      <td>0.894737</td>\n",
              "      <td>0.404762</td>\n",
              "      <td>0.717949</td>\n",
              "      <td>0.520362</td>\n",
              "      <td>0.201611</td>\n",
              "      <td>0.201611</td>\n",
              "    </tr>\n",
              "  </tbody>\n",
              "</table>\n",
              "<p>5 rows × 27 columns</p>\n",
              "</div>"
            ],
            "text/plain": [
              "   Appliances  temp_in_kitchen  RH_in_kitchen  temp_in_living_room  \\\n",
              "0    0.046729          0.32735       0.566187             0.225345   \n",
              "1    0.046729          0.32735       0.541326             0.225345   \n",
              "2    0.037383          0.32735       0.530502             0.225345   \n",
              "3    0.037383          0.32735       0.524080             0.225345   \n",
              "4    0.046729          0.32735       0.531419             0.225345   \n",
              "\n",
              "   RH_in_living_room  temp_in_laundry_room  RH_in_laundry_room  \\\n",
              "0           0.684038              0.215188            0.746066   \n",
              "1           0.682140              0.215188            0.748871   \n",
              "2           0.679445              0.215188            0.755569   \n",
              "3           0.678414              0.215188            0.758685   \n",
              "4           0.676727              0.215188            0.758685   \n",
              "\n",
              "   temp_in_office_room  RH_in_office_room  temp_in_bathroom  ...  \\\n",
              "0             0.351351           0.764262          0.175506  ...   \n",
              "1             0.351351           0.782437          0.175506  ...   \n",
              "2             0.344745           0.778062          0.175506  ...   \n",
              "3             0.341441           0.770949          0.175506  ...   \n",
              "4             0.341441           0.762697          0.178691  ...   \n",
              "\n",
              "   temp_in_parents_room  RH_in_parents_room2  temp_weather_station  \\\n",
              "0              0.223032             0.677290              0.372990   \n",
              "1              0.226500             0.678532              0.369239   \n",
              "2              0.219563             0.676049              0.365488   \n",
              "3              0.219563             0.671909              0.361736   \n",
              "4              0.219563             0.671909              0.357985   \n",
              "\n",
              "   pressure_waether_station  RH_weather_station  windspeed_weather_station  \\\n",
              "0                  0.097674            0.894737                   0.500000   \n",
              "1                  0.100000            0.894737                   0.476190   \n",
              "2                  0.102326            0.894737                   0.452381   \n",
              "3                  0.104651            0.894737                   0.428571   \n",
              "4                  0.106977            0.894737                   0.404762   \n",
              "\n",
              "   visibility_weather_station  Tdewpoint_weather_station  random_variable1  \\\n",
              "0                    0.953846                   0.538462          0.265449   \n",
              "1                    0.894872                   0.533937          0.372083   \n",
              "2                    0.835897                   0.529412          0.572848   \n",
              "3                    0.776923                   0.524887          0.908261   \n",
              "4                    0.717949                   0.520362          0.201611   \n",
              "\n",
              "   random_variable2  \n",
              "0          0.265449  \n",
              "1          0.372083  \n",
              "2          0.572848  \n",
              "3          0.908261  \n",
              "4          0.201611  \n",
              "\n",
              "[5 rows x 27 columns]"
            ]
          },
          "execution_count": 66,
          "metadata": {},
          "output_type": "execute_result"
        }
      ]
    },
    {
      "cell_type": "code",
      "metadata": {
        "scrolled": true,
        "id": "hlcUtTQmzsvK",
        "outputId": "f361e9f4-8734-4810-fcd8-61c23f949600"
      },
      "source": [
        "new_data.dtypes.value_counts()"
      ],
      "execution_count": null,
      "outputs": [
        {
          "data": {
            "text/plain": [
              "float64    27\n",
              "dtype: int64"
            ]
          },
          "execution_count": 67,
          "metadata": {},
          "output_type": "execute_result"
        }
      ]
    },
    {
      "cell_type": "markdown",
      "metadata": {
        "id": "oCWCmGiDzsvK"
      },
      "source": [
        "# Setting the Descriptor Dataset"
      ]
    },
    {
      "cell_type": "code",
      "metadata": {
        "id": "SwaiB0wrzsvK",
        "outputId": "1a1b7128-8b61-4377-c9aa-d4b2bcd3f269"
      },
      "source": [
        "X = new_data.drop([\"Appliances\"], axis = 1)\n",
        "X"
      ],
      "execution_count": null,
      "outputs": [
        {
          "data": {
            "text/html": [
              "<div>\n",
              "<style scoped>\n",
              "    .dataframe tbody tr th:only-of-type {\n",
              "        vertical-align: middle;\n",
              "    }\n",
              "\n",
              "    .dataframe tbody tr th {\n",
              "        vertical-align: top;\n",
              "    }\n",
              "\n",
              "    .dataframe thead th {\n",
              "        text-align: right;\n",
              "    }\n",
              "</style>\n",
              "<table border=\"1\" class=\"dataframe\">\n",
              "  <thead>\n",
              "    <tr style=\"text-align: right;\">\n",
              "      <th></th>\n",
              "      <th>temp_in_kitchen</th>\n",
              "      <th>RH_in_kitchen</th>\n",
              "      <th>temp_in_living_room</th>\n",
              "      <th>RH_in_living_room</th>\n",
              "      <th>temp_in_laundry_room</th>\n",
              "      <th>RH_in_laundry_room</th>\n",
              "      <th>temp_in_office_room</th>\n",
              "      <th>RH_in_office_room</th>\n",
              "      <th>temp_in_bathroom</th>\n",
              "      <th>RH_in_bathroom</th>\n",
              "      <th>...</th>\n",
              "      <th>temp_in_parents_room</th>\n",
              "      <th>RH_in_parents_room2</th>\n",
              "      <th>temp_weather_station</th>\n",
              "      <th>pressure_waether_station</th>\n",
              "      <th>RH_weather_station</th>\n",
              "      <th>windspeed_weather_station</th>\n",
              "      <th>visibility_weather_station</th>\n",
              "      <th>Tdewpoint_weather_station</th>\n",
              "      <th>random_variable1</th>\n",
              "      <th>random_variable2</th>\n",
              "    </tr>\n",
              "  </thead>\n",
              "  <tbody>\n",
              "    <tr>\n",
              "      <th>0</th>\n",
              "      <td>0.327350</td>\n",
              "      <td>0.566187</td>\n",
              "      <td>0.225345</td>\n",
              "      <td>0.684038</td>\n",
              "      <td>0.215188</td>\n",
              "      <td>0.746066</td>\n",
              "      <td>0.351351</td>\n",
              "      <td>0.764262</td>\n",
              "      <td>0.175506</td>\n",
              "      <td>0.381691</td>\n",
              "      <td>...</td>\n",
              "      <td>0.223032</td>\n",
              "      <td>0.677290</td>\n",
              "      <td>0.372990</td>\n",
              "      <td>0.097674</td>\n",
              "      <td>0.894737</td>\n",
              "      <td>0.500000</td>\n",
              "      <td>0.953846</td>\n",
              "      <td>0.538462</td>\n",
              "      <td>0.265449</td>\n",
              "      <td>0.265449</td>\n",
              "    </tr>\n",
              "    <tr>\n",
              "      <th>1</th>\n",
              "      <td>0.327350</td>\n",
              "      <td>0.541326</td>\n",
              "      <td>0.225345</td>\n",
              "      <td>0.682140</td>\n",
              "      <td>0.215188</td>\n",
              "      <td>0.748871</td>\n",
              "      <td>0.351351</td>\n",
              "      <td>0.782437</td>\n",
              "      <td>0.175506</td>\n",
              "      <td>0.381691</td>\n",
              "      <td>...</td>\n",
              "      <td>0.226500</td>\n",
              "      <td>0.678532</td>\n",
              "      <td>0.369239</td>\n",
              "      <td>0.100000</td>\n",
              "      <td>0.894737</td>\n",
              "      <td>0.476190</td>\n",
              "      <td>0.894872</td>\n",
              "      <td>0.533937</td>\n",
              "      <td>0.372083</td>\n",
              "      <td>0.372083</td>\n",
              "    </tr>\n",
              "    <tr>\n",
              "      <th>2</th>\n",
              "      <td>0.327350</td>\n",
              "      <td>0.530502</td>\n",
              "      <td>0.225345</td>\n",
              "      <td>0.679445</td>\n",
              "      <td>0.215188</td>\n",
              "      <td>0.755569</td>\n",
              "      <td>0.344745</td>\n",
              "      <td>0.778062</td>\n",
              "      <td>0.175506</td>\n",
              "      <td>0.380037</td>\n",
              "      <td>...</td>\n",
              "      <td>0.219563</td>\n",
              "      <td>0.676049</td>\n",
              "      <td>0.365488</td>\n",
              "      <td>0.102326</td>\n",
              "      <td>0.894737</td>\n",
              "      <td>0.452381</td>\n",
              "      <td>0.835897</td>\n",
              "      <td>0.529412</td>\n",
              "      <td>0.572848</td>\n",
              "      <td>0.572848</td>\n",
              "    </tr>\n",
              "    <tr>\n",
              "      <th>3</th>\n",
              "      <td>0.327350</td>\n",
              "      <td>0.524080</td>\n",
              "      <td>0.225345</td>\n",
              "      <td>0.678414</td>\n",
              "      <td>0.215188</td>\n",
              "      <td>0.758685</td>\n",
              "      <td>0.341441</td>\n",
              "      <td>0.770949</td>\n",
              "      <td>0.175506</td>\n",
              "      <td>0.380037</td>\n",
              "      <td>...</td>\n",
              "      <td>0.219563</td>\n",
              "      <td>0.671909</td>\n",
              "      <td>0.361736</td>\n",
              "      <td>0.104651</td>\n",
              "      <td>0.894737</td>\n",
              "      <td>0.428571</td>\n",
              "      <td>0.776923</td>\n",
              "      <td>0.524887</td>\n",
              "      <td>0.908261</td>\n",
              "      <td>0.908261</td>\n",
              "    </tr>\n",
              "    <tr>\n",
              "      <th>4</th>\n",
              "      <td>0.327350</td>\n",
              "      <td>0.531419</td>\n",
              "      <td>0.225345</td>\n",
              "      <td>0.676727</td>\n",
              "      <td>0.215188</td>\n",
              "      <td>0.758685</td>\n",
              "      <td>0.341441</td>\n",
              "      <td>0.762697</td>\n",
              "      <td>0.178691</td>\n",
              "      <td>0.380037</td>\n",
              "      <td>...</td>\n",
              "      <td>0.219563</td>\n",
              "      <td>0.671909</td>\n",
              "      <td>0.357985</td>\n",
              "      <td>0.106977</td>\n",
              "      <td>0.894737</td>\n",
              "      <td>0.404762</td>\n",
              "      <td>0.717949</td>\n",
              "      <td>0.520362</td>\n",
              "      <td>0.201611</td>\n",
              "      <td>0.201611</td>\n",
              "    </tr>\n",
              "    <tr>\n",
              "      <th>...</th>\n",
              "      <td>...</td>\n",
              "      <td>...</td>\n",
              "      <td>...</td>\n",
              "      <td>...</td>\n",
              "      <td>...</td>\n",
              "      <td>...</td>\n",
              "      <td>...</td>\n",
              "      <td>...</td>\n",
              "      <td>...</td>\n",
              "      <td>...</td>\n",
              "      <td>...</td>\n",
              "      <td>...</td>\n",
              "      <td>...</td>\n",
              "      <td>...</td>\n",
              "      <td>...</td>\n",
              "      <td>...</td>\n",
              "      <td>...</td>\n",
              "      <td>...</td>\n",
              "      <td>...</td>\n",
              "      <td>...</td>\n",
              "      <td>...</td>\n",
              "    </tr>\n",
              "    <tr>\n",
              "      <th>19730</th>\n",
              "      <td>0.926786</td>\n",
              "      <td>0.537657</td>\n",
              "      <td>0.711655</td>\n",
              "      <td>0.606309</td>\n",
              "      <td>0.830841</td>\n",
              "      <td>0.579374</td>\n",
              "      <td>0.864865</td>\n",
              "      <td>0.765258</td>\n",
              "      <td>0.752031</td>\n",
              "      <td>0.339590</td>\n",
              "      <td>...</td>\n",
              "      <td>0.864724</td>\n",
              "      <td>0.729443</td>\n",
              "      <td>0.891747</td>\n",
              "      <td>0.602326</td>\n",
              "      <td>0.416667</td>\n",
              "      <td>0.238095</td>\n",
              "      <td>0.348718</td>\n",
              "      <td>0.901961</td>\n",
              "      <td>0.861981</td>\n",
              "      <td>0.861981</td>\n",
              "    </tr>\n",
              "    <tr>\n",
              "      <th>19731</th>\n",
              "      <td>0.919747</td>\n",
              "      <td>0.536006</td>\n",
              "      <td>0.701769</td>\n",
              "      <td>0.607836</td>\n",
              "      <td>0.825302</td>\n",
              "      <td>0.582178</td>\n",
              "      <td>0.864865</td>\n",
              "      <td>0.765258</td>\n",
              "      <td>0.754897</td>\n",
              "      <td>0.338487</td>\n",
              "      <td>...</td>\n",
              "      <td>0.864724</td>\n",
              "      <td>0.729443</td>\n",
              "      <td>0.887460</td>\n",
              "      <td>0.602326</td>\n",
              "      <td>0.421053</td>\n",
              "      <td>0.250000</td>\n",
              "      <td>0.361538</td>\n",
              "      <td>0.900452</td>\n",
              "      <td>0.985726</td>\n",
              "      <td>0.985726</td>\n",
              "    </tr>\n",
              "    <tr>\n",
              "      <th>19732</th>\n",
              "      <td>0.919747</td>\n",
              "      <td>0.538666</td>\n",
              "      <td>0.692651</td>\n",
              "      <td>0.627198</td>\n",
              "      <td>0.818378</td>\n",
              "      <td>0.603988</td>\n",
              "      <td>0.864865</td>\n",
              "      <td>0.771233</td>\n",
              "      <td>0.754897</td>\n",
              "      <td>0.337585</td>\n",
              "      <td>...</td>\n",
              "      <td>0.864724</td>\n",
              "      <td>0.729443</td>\n",
              "      <td>0.883173</td>\n",
              "      <td>0.602326</td>\n",
              "      <td>0.425439</td>\n",
              "      <td>0.261905</td>\n",
              "      <td>0.374359</td>\n",
              "      <td>0.898944</td>\n",
              "      <td>0.583979</td>\n",
              "      <td>0.583979</td>\n",
              "    </tr>\n",
              "    <tr>\n",
              "      <th>19733</th>\n",
              "      <td>0.919747</td>\n",
              "      <td>0.549491</td>\n",
              "      <td>0.677054</td>\n",
              "      <td>0.634717</td>\n",
              "      <td>0.805085</td>\n",
              "      <td>0.585294</td>\n",
              "      <td>0.864865</td>\n",
              "      <td>0.773794</td>\n",
              "      <td>0.752031</td>\n",
              "      <td>0.336583</td>\n",
              "      <td>...</td>\n",
              "      <td>0.864724</td>\n",
              "      <td>0.730581</td>\n",
              "      <td>0.878885</td>\n",
              "      <td>0.602326</td>\n",
              "      <td>0.429825</td>\n",
              "      <td>0.273810</td>\n",
              "      <td>0.387179</td>\n",
              "      <td>0.897436</td>\n",
              "      <td>0.126371</td>\n",
              "      <td>0.126371</td>\n",
              "    </tr>\n",
              "    <tr>\n",
              "      <th>19734</th>\n",
              "      <td>0.919747</td>\n",
              "      <td>0.538758</td>\n",
              "      <td>0.666171</td>\n",
              "      <td>0.632902</td>\n",
              "      <td>0.799546</td>\n",
              "      <td>0.579062</td>\n",
              "      <td>0.864865</td>\n",
              "      <td>0.781192</td>\n",
              "      <td>0.752031</td>\n",
              "      <td>0.336583</td>\n",
              "      <td>...</td>\n",
              "      <td>0.864724</td>\n",
              "      <td>0.731719</td>\n",
              "      <td>0.874598</td>\n",
              "      <td>0.602326</td>\n",
              "      <td>0.434211</td>\n",
              "      <td>0.285714</td>\n",
              "      <td>0.400000</td>\n",
              "      <td>0.895928</td>\n",
              "      <td>0.682391</td>\n",
              "      <td>0.682391</td>\n",
              "    </tr>\n",
              "  </tbody>\n",
              "</table>\n",
              "<p>19735 rows × 26 columns</p>\n",
              "</div>"
            ],
            "text/plain": [
              "       temp_in_kitchen  RH_in_kitchen  temp_in_living_room  RH_in_living_room  \\\n",
              "0             0.327350       0.566187             0.225345           0.684038   \n",
              "1             0.327350       0.541326             0.225345           0.682140   \n",
              "2             0.327350       0.530502             0.225345           0.679445   \n",
              "3             0.327350       0.524080             0.225345           0.678414   \n",
              "4             0.327350       0.531419             0.225345           0.676727   \n",
              "...                ...            ...                  ...                ...   \n",
              "19730         0.926786       0.537657             0.711655           0.606309   \n",
              "19731         0.919747       0.536006             0.701769           0.607836   \n",
              "19732         0.919747       0.538666             0.692651           0.627198   \n",
              "19733         0.919747       0.549491             0.677054           0.634717   \n",
              "19734         0.919747       0.538758             0.666171           0.632902   \n",
              "\n",
              "       temp_in_laundry_room  RH_in_laundry_room  temp_in_office_room  \\\n",
              "0                  0.215188            0.746066             0.351351   \n",
              "1                  0.215188            0.748871             0.351351   \n",
              "2                  0.215188            0.755569             0.344745   \n",
              "3                  0.215188            0.758685             0.341441   \n",
              "4                  0.215188            0.758685             0.341441   \n",
              "...                     ...                 ...                  ...   \n",
              "19730              0.830841            0.579374             0.864865   \n",
              "19731              0.825302            0.582178             0.864865   \n",
              "19732              0.818378            0.603988             0.864865   \n",
              "19733              0.805085            0.585294             0.864865   \n",
              "19734              0.799546            0.579062             0.864865   \n",
              "\n",
              "       RH_in_office_room  temp_in_bathroom  RH_in_bathroom  ...  \\\n",
              "0               0.764262          0.175506        0.381691  ...   \n",
              "1               0.782437          0.175506        0.381691  ...   \n",
              "2               0.778062          0.175506        0.380037  ...   \n",
              "3               0.770949          0.175506        0.380037  ...   \n",
              "4               0.762697          0.178691        0.380037  ...   \n",
              "...                  ...               ...             ...  ...   \n",
              "19730           0.765258          0.752031        0.339590  ...   \n",
              "19731           0.765258          0.754897        0.338487  ...   \n",
              "19732           0.771233          0.754897        0.337585  ...   \n",
              "19733           0.773794          0.752031        0.336583  ...   \n",
              "19734           0.781192          0.752031        0.336583  ...   \n",
              "\n",
              "       temp_in_parents_room  RH_in_parents_room2  temp_weather_station  \\\n",
              "0                  0.223032             0.677290              0.372990   \n",
              "1                  0.226500             0.678532              0.369239   \n",
              "2                  0.219563             0.676049              0.365488   \n",
              "3                  0.219563             0.671909              0.361736   \n",
              "4                  0.219563             0.671909              0.357985   \n",
              "...                     ...                  ...                   ...   \n",
              "19730              0.864724             0.729443              0.891747   \n",
              "19731              0.864724             0.729443              0.887460   \n",
              "19732              0.864724             0.729443              0.883173   \n",
              "19733              0.864724             0.730581              0.878885   \n",
              "19734              0.864724             0.731719              0.874598   \n",
              "\n",
              "       pressure_waether_station  RH_weather_station  \\\n",
              "0                      0.097674            0.894737   \n",
              "1                      0.100000            0.894737   \n",
              "2                      0.102326            0.894737   \n",
              "3                      0.104651            0.894737   \n",
              "4                      0.106977            0.894737   \n",
              "...                         ...                 ...   \n",
              "19730                  0.602326            0.416667   \n",
              "19731                  0.602326            0.421053   \n",
              "19732                  0.602326            0.425439   \n",
              "19733                  0.602326            0.429825   \n",
              "19734                  0.602326            0.434211   \n",
              "\n",
              "       windspeed_weather_station  visibility_weather_station  \\\n",
              "0                       0.500000                    0.953846   \n",
              "1                       0.476190                    0.894872   \n",
              "2                       0.452381                    0.835897   \n",
              "3                       0.428571                    0.776923   \n",
              "4                       0.404762                    0.717949   \n",
              "...                          ...                         ...   \n",
              "19730                   0.238095                    0.348718   \n",
              "19731                   0.250000                    0.361538   \n",
              "19732                   0.261905                    0.374359   \n",
              "19733                   0.273810                    0.387179   \n",
              "19734                   0.285714                    0.400000   \n",
              "\n",
              "       Tdewpoint_weather_station  random_variable1  random_variable2  \n",
              "0                       0.538462          0.265449          0.265449  \n",
              "1                       0.533937          0.372083          0.372083  \n",
              "2                       0.529412          0.572848          0.572848  \n",
              "3                       0.524887          0.908261          0.908261  \n",
              "4                       0.520362          0.201611          0.201611  \n",
              "...                          ...               ...               ...  \n",
              "19730                   0.901961          0.861981          0.861981  \n",
              "19731                   0.900452          0.985726          0.985726  \n",
              "19732                   0.898944          0.583979          0.583979  \n",
              "19733                   0.897436          0.126371          0.126371  \n",
              "19734                   0.895928          0.682391          0.682391  \n",
              "\n",
              "[19735 rows x 26 columns]"
            ]
          },
          "execution_count": 68,
          "metadata": {},
          "output_type": "execute_result"
        }
      ]
    },
    {
      "cell_type": "code",
      "metadata": {
        "id": "p9sZcTqszsvK",
        "outputId": "696a92c8-34e9-4e4b-e37e-646cf48d8091"
      },
      "source": [
        "print(new_data.shape)\n",
        "print(X.shape)"
      ],
      "execution_count": null,
      "outputs": [
        {
          "name": "stdout",
          "output_type": "stream",
          "text": [
            "(19735, 27)\n",
            "(19735, 26)\n"
          ]
        }
      ]
    },
    {
      "cell_type": "code",
      "metadata": {
        "id": "eueL4Hj3zsvK",
        "outputId": "34bdba3d-9d42-4f0b-aa6a-f4ae3d25ab80"
      },
      "source": [
        "for col in new_data.columns :\n",
        "    if col not in X.columns :\n",
        "        print(col)\n",
        "    else :\n",
        "        pass"
      ],
      "execution_count": null,
      "outputs": [
        {
          "name": "stdout",
          "output_type": "stream",
          "text": [
            "Appliances\n"
          ]
        }
      ]
    },
    {
      "cell_type": "markdown",
      "metadata": {
        "id": "OEkMD7PZzsvL"
      },
      "source": [
        "# Setting The Target Variable"
      ]
    },
    {
      "cell_type": "code",
      "metadata": {
        "id": "Lp8r6leCzsvL",
        "outputId": "551949ff-e188-4412-84b3-ec7c2acdb954"
      },
      "source": [
        "y = np.array(new_data[\"Appliances\"])\n",
        "y.shape"
      ],
      "execution_count": null,
      "outputs": [
        {
          "data": {
            "text/plain": [
              "(19735,)"
            ]
          },
          "execution_count": 71,
          "metadata": {},
          "output_type": "execute_result"
        }
      ]
    },
    {
      "cell_type": "markdown",
      "metadata": {
        "id": "uUl303SNzsvL"
      },
      "source": [
        "# Splitting The Dataset into 'Train Test Split'"
      ]
    },
    {
      "cell_type": "code",
      "metadata": {
        "id": "ABV35Lx9zsvL"
      },
      "source": [
        "x_train, x_test, y_train, y_test = train_test_split(X, y, test_size = 0.3, random_state = 42)"
      ],
      "execution_count": null,
      "outputs": []
    },
    {
      "cell_type": "markdown",
      "metadata": {
        "id": "ZURkxWzWzsvL"
      },
      "source": [
        "# Checking The shape of the Train and Test sets"
      ]
    },
    {
      "cell_type": "code",
      "metadata": {
        "id": "vLJLCqyyzsvL",
        "outputId": "82497503-429c-45bf-caad-3e535fa68955"
      },
      "source": [
        "print(f\"x_train:{x_train.shape}\\ny_train{y_train.shape}\\nx_test:{x_test.shape}\\ny_test{y_test.shape}\")"
      ],
      "execution_count": null,
      "outputs": [
        {
          "name": "stdout",
          "output_type": "stream",
          "text": [
            "x_train:(13814, 26)\n",
            "y_train(13814,)\n",
            "x_test:(5921, 26)\n",
            "y_test(5921,)\n"
          ]
        }
      ]
    },
    {
      "cell_type": "code",
      "metadata": {
        "id": "uXu5NqFszsvL"
      },
      "source": [
        "linear_model = LinearRegression()"
      ],
      "execution_count": null,
      "outputs": []
    },
    {
      "cell_type": "code",
      "metadata": {
        "id": "yZVpY06TzsvM",
        "outputId": "87b74f2c-85c1-45e6-8de9-4b623a526b52"
      },
      "source": [
        "linear_model.fit(x_train, y_train)"
      ],
      "execution_count": null,
      "outputs": [
        {
          "data": {
            "text/plain": [
              "LinearRegression()"
            ]
          },
          "execution_count": 75,
          "metadata": {},
          "output_type": "execute_result"
        }
      ]
    },
    {
      "cell_type": "code",
      "metadata": {
        "id": "cyPA5A2YzsvM"
      },
      "source": [
        "linear_predict = linear_model.predict(x_test)"
      ],
      "execution_count": null,
      "outputs": []
    },
    {
      "cell_type": "markdown",
      "metadata": {
        "id": "_hHIOHyrzsvM"
      },
      "source": [
        "## Question 1"
      ]
    },
    {
      "cell_type": "code",
      "metadata": {
        "id": "9-V5tbGczsvM",
        "outputId": "14e88e64-35dc-4725-95e0-0debd4831508"
      },
      "source": [
        "print(\"The Answer is Guassian prior\")"
      ],
      "execution_count": null,
      "outputs": [
        {
          "name": "stdout",
          "output_type": "stream",
          "text": [
            "The Answer is Guassian prior\n"
          ]
        }
      ]
    },
    {
      "cell_type": "markdown",
      "metadata": {
        "id": "ajrZ0d9tzsvM"
      },
      "source": [
        "## Question 2"
      ]
    },
    {
      "cell_type": "code",
      "metadata": {
        "id": "ST6CTJbnzsvM",
        "outputId": "ae0231e3-f1d1-465d-bfc8-2241bd8c938e"
      },
      "source": [
        "print(\"Cross Validation is guaranteed to prevent overfitting\")"
      ],
      "execution_count": null,
      "outputs": [
        {
          "name": "stdout",
          "output_type": "stream",
          "text": [
            "Cross Validation is guaranteed to prevent overfitting\n"
          ]
        }
      ]
    },
    {
      "cell_type": "markdown",
      "metadata": {
        "id": "sDPqiWUozsvM"
      },
      "source": [
        "## Question 3"
      ]
    },
    {
      "cell_type": "code",
      "metadata": {
        "id": "aCFAxYGRzsvN",
        "outputId": "6d2ec60d-8b4b-41f7-e27e-1be62ab086f1"
      },
      "source": [
        "print(\"Ridge Regression oftens sets several of the weights to zero\")"
      ],
      "execution_count": null,
      "outputs": [
        {
          "name": "stdout",
          "output_type": "stream",
          "text": [
            "Ridge Regression oftens sets several of the weights to zero\n"
          ]
        }
      ]
    },
    {
      "cell_type": "markdown",
      "metadata": {
        "id": "86K_9MnlzsvN"
      },
      "source": [
        "## Question 4"
      ]
    },
    {
      "cell_type": "code",
      "metadata": {
        "id": "cV91fywXzsvN",
        "outputId": "e72a9611-aa2e-456f-cf7b-60ffdcb751a4"
      },
      "source": [
        "print(\"In the different terms of the bias-variance tradeoff, which of the following is substantially more harmful to the test error than the training error?\")\n",
        "print(\"\\nVariance\")"
      ],
      "execution_count": null,
      "outputs": [
        {
          "name": "stdout",
          "output_type": "stream",
          "text": [
            "In the different terms of the bias-variance tradeoff, which of the following is substantially more harmful to the test error than the training error?\n",
            "\n",
            "Variance\n"
          ]
        }
      ]
    },
    {
      "cell_type": "markdown",
      "metadata": {
        "id": "qqThkvAGzsvN"
      },
      "source": [
        "## Question 5"
      ]
    },
    {
      "cell_type": "code",
      "metadata": {
        "id": "6Ii206e4zsvO",
        "outputId": "de995141-e49e-4733-9328-347f97a7bd50"
      },
      "source": [
        "print(\"What can you use to find the best fit line for data in Linear Regression ?\")\n",
        "print(\"\\nNone of The Above\")"
      ],
      "execution_count": null,
      "outputs": [
        {
          "name": "stdout",
          "output_type": "stream",
          "text": [
            "What can you use to find the best fit line for data in Linear Regression ?\n",
            "\n",
            "None of The Above\n"
          ]
        }
      ]
    },
    {
      "cell_type": "markdown",
      "metadata": {
        "id": "rGmE7_q4zsvO"
      },
      "source": [
        "## Question 6"
      ]
    },
    {
      "cell_type": "code",
      "metadata": {
        "id": "h1zLRrFVzsvO",
        "outputId": "9e8cf31e-337d-4e31-8dac-e03165ac1e5a"
      },
      "source": [
        "print(\"Which of the following sentence is true about outliers in Linear Regression:\")\n",
        "print(\"\\nA and B above\")"
      ],
      "execution_count": null,
      "outputs": [
        {
          "name": "stdout",
          "output_type": "stream",
          "text": [
            "Which of the following sentence is true about outliers in Linear Regression:\n",
            "\n",
            "A and B above\n"
          ]
        }
      ]
    },
    {
      "cell_type": "markdown",
      "metadata": {
        "id": "BdLTf3INzsvO"
      },
      "source": [
        "## Question 7"
      ]
    },
    {
      "cell_type": "code",
      "metadata": {
        "id": "9IkCYXmmzsvO",
        "outputId": "4be85cdb-d893-4aa5-cf76-25f77a3ac474"
      },
      "source": [
        "print(\"How many coefficients do you need to estimate a simple linear regression model (One independent variable) ?\")\n",
        "print(\"\\n1\")"
      ],
      "execution_count": null,
      "outputs": [
        {
          "name": "stdout",
          "output_type": "stream",
          "text": [
            "How many coefficients do you need to estimate a simple linear regression model (One independent variable) ?\n",
            "\n",
            "1\n"
          ]
        }
      ]
    },
    {
      "cell_type": "markdown",
      "metadata": {
        "id": "vIjCuuzgzsvP"
      },
      "source": [
        "## Question 8"
      ]
    },
    {
      "cell_type": "code",
      "metadata": {
        "id": "tmKshLiXzsvP",
        "outputId": "29e0e65c-8e54-476f-c975-d26d0c095cb8"
      },
      "source": [
        "print(\"Adding more basis functions in a linear model: \")\n",
        "print(\"\\nDecrease the Model Bias\")"
      ],
      "execution_count": null,
      "outputs": [
        {
          "name": "stdout",
          "output_type": "stream",
          "text": [
            "Adding more basis functions in a linear model: \n",
            "\n",
            "Decrease the Model Bias\n"
          ]
        }
      ]
    },
    {
      "cell_type": "markdown",
      "metadata": {
        "id": "k3bYqFOjzsvP"
      },
      "source": [
        "## Question 9"
      ]
    },
    {
      "cell_type": "code",
      "metadata": {
        "id": "_d1AYyhszsvP",
        "outputId": "3162aa55-3bd1-41c5-8b36-209a12d916d7"
      },
      "source": [
        "print(\"A best fit line relating X and Y has a R-Squared value of 0.75. How do I interpret this information ?\")\n",
        "print(\"\\nX and Y are 75% related\")"
      ],
      "execution_count": null,
      "outputs": [
        {
          "name": "stdout",
          "output_type": "stream",
          "text": [
            "A best fit line relating X and Y has a R-Squared value of 0.75. How do I interpret this information ?\n",
            "\n",
            "X and Y are 75% related\n"
          ]
        }
      ]
    },
    {
      "cell_type": "markdown",
      "metadata": {
        "id": "S_X3U_M2zsvP"
      },
      "source": [
        "## Question 10"
      ]
    },
    {
      "cell_type": "code",
      "metadata": {
        "id": "Ksv6GQcXzsvP",
        "outputId": "9b12c666-d257-4d33-abfc-d67e90630a9a"
      },
      "source": [
        "print(\"The Lasso can be interpreted as least-squares linear regression where: \")\n",
        "print(\"\\nWeights are regularized with the L1 norm\")"
      ],
      "execution_count": null,
      "outputs": [
        {
          "name": "stdout",
          "output_type": "stream",
          "text": [
            "The Lasso can be interpreted as least-squares linear regression where: \n",
            "\n",
            "Weights are regularized with the L1 norm\n"
          ]
        }
      ]
    },
    {
      "cell_type": "markdown",
      "metadata": {
        "id": "nUgMWzaGzsvQ"
      },
      "source": [
        "## Question 11"
      ]
    },
    {
      "cell_type": "code",
      "metadata": {
        "id": "Vt040NOBzsvQ",
        "outputId": "90c6f3be-5082-400a-cd05-2f9820eecb54"
      },
      "source": [
        "print(\"Which of these is not an assumption of Linear Regression ?\")\n",
        "print(\"\\nMultivariate Normality\")"
      ],
      "execution_count": null,
      "outputs": [
        {
          "name": "stdout",
          "output_type": "stream",
          "text": [
            "Which of these is not an assumption of Linear Regression ?\n",
            "\n",
            "Multivariate Normality\n"
          ]
        }
      ]
    },
    {
      "cell_type": "markdown",
      "metadata": {
        "id": "CfUzAljNzsvQ"
      },
      "source": [
        "## Question 12 : From the dataset, fit a linear model on the relationship between the temperature in the living room in Celsius (x = T2) and the temperature outside the building (y = T6). What is the R^2 value in two D.P?"
      ]
    },
    {
      "cell_type": "code",
      "metadata": {
        "id": "LvYfsXd3zsvQ",
        "outputId": "6bbabdf2-bebe-4746-882e-bfdcee83321d"
      },
      "source": [
        "qi_x  = np.array(x_train[\"temp_in_living_room\"]).reshape(-1, 1)\n",
        "qi_x.ndim"
      ],
      "execution_count": null,
      "outputs": [
        {
          "data": {
            "text/plain": [
              "2"
            ]
          },
          "execution_count": 88,
          "metadata": {},
          "output_type": "execute_result"
        }
      ]
    },
    {
      "cell_type": "code",
      "metadata": {
        "id": "K8GZxxflzsvQ",
        "outputId": "b7803cb1-05e3-4d4c-e6e8-09ba05337ab6"
      },
      "source": [
        "qi_y = np.array(x_train[\"temp_outside_building_northside\"])\n",
        "qi_y.ndim"
      ],
      "execution_count": null,
      "outputs": [
        {
          "data": {
            "text/plain": [
              "1"
            ]
          },
          "execution_count": 89,
          "metadata": {},
          "output_type": "execute_result"
        }
      ]
    },
    {
      "cell_type": "code",
      "metadata": {
        "id": "aAN2-Q8nzsvQ"
      },
      "source": [
        "qi_linear_model = LinearRegression()"
      ],
      "execution_count": null,
      "outputs": []
    },
    {
      "cell_type": "code",
      "metadata": {
        "id": "8uhojMagzsvR"
      },
      "source": [
        "qi_model = qi_linear_model.fit(qi_x, qi_y)"
      ],
      "execution_count": null,
      "outputs": []
    },
    {
      "cell_type": "code",
      "metadata": {
        "id": "ZXyDWzl6zsvR"
      },
      "source": [
        "qi_predict = qi_linear_model.predict(np.array(x_test[\"temp_in_living_room\"]).reshape(-1, 1))"
      ],
      "execution_count": null,
      "outputs": []
    },
    {
      "cell_type": "code",
      "metadata": {
        "id": "P4Q3z3v5zsvR"
      },
      "source": [
        "qi_r2 = r2_score(qi_predict, np.array(x_test[\"temp_outside_building_northside\"]))\n",
        "round(qi_r2, 2)\n"
      ],
      "execution_count": null,
      "outputs": []
    },
    {
      "cell_type": "markdown",
      "metadata": {
        "id": "o4E6I0qpzsvR"
      },
      "source": [
        "## Question 13 :What is the Mean Absolute Error (in two decimal places)?"
      ]
    },
    {
      "cell_type": "code",
      "metadata": {
        "id": "ziYesAhIzsvS",
        "outputId": "00b82310-e4be-483b-e720-17be5c4e2210"
      },
      "source": [
        "qi_mae = mean_absolute_error(np.array(x_test[\"temp_outside_building_northside\"]), qi_predict)\n",
        "round(qi_mae, 2)"
      ],
      "execution_count": null,
      "outputs": [
        {
          "data": {
            "text/plain": [
              "0.08"
            ]
          },
          "execution_count": 94,
          "metadata": {},
          "output_type": "execute_result"
        }
      ]
    },
    {
      "cell_type": "markdown",
      "metadata": {
        "id": "lzdRuxoAzsvS"
      },
      "source": [
        "## Question 14 : What is the Residual Sum of Squares (in two decimal places)?"
      ]
    },
    {
      "cell_type": "code",
      "metadata": {
        "id": "b6_ijRUmzsvS",
        "outputId": "b5a83fed-2a09-4483-f589-bf60c8844bfb"
      },
      "source": [
        "qi_rss = np.sum(np.square(np.array(x_test[\"temp_outside_building_northside\"]) - qi_predict))\n",
        "round(qi_rss, 2)"
      ],
      "execution_count": null,
      "outputs": [
        {
          "data": {
            "text/plain": [
              "66.12"
            ]
          },
          "execution_count": 95,
          "metadata": {},
          "output_type": "execute_result"
        }
      ]
    },
    {
      "cell_type": "markdown",
      "metadata": {
        "id": "b2Tq-bzbzsvS"
      },
      "source": [
        "## Question 15 : What is the Root Mean Squared Error (in three decimal places)?"
      ]
    },
    {
      "cell_type": "code",
      "metadata": {
        "id": "qo7j1wi-zsvT",
        "outputId": "26b28881-afb6-488f-b456-fbe76ffb7a57"
      },
      "source": [
        "qi_rmse = np.sqrt(mean_squared_error(np.array(x_test[\"temp_outside_building_northside\"]), qi_predict))\n",
        "round(qi_rmse, 3) "
      ],
      "execution_count": null,
      "outputs": [
        {
          "data": {
            "text/plain": [
              "0.106"
            ]
          },
          "execution_count": 96,
          "metadata": {},
          "output_type": "execute_result"
        }
      ]
    },
    {
      "cell_type": "markdown",
      "metadata": {
        "id": "NdfHbhyMzsvT"
      },
      "source": [
        "## Question 16 : What is the Coefficient of Determination (in two decimal places)?"
      ]
    },
    {
      "cell_type": "code",
      "metadata": {
        "id": "EO6h9gubzsvT",
        "outputId": "53bbe027-1ec7-42d1-8a04-b0d1e181c24d"
      },
      "source": [
        "# Coefficient of Determination is the same as r2_score\n",
        "qi_cod = r2_score(qi_predict, np.array(x_test[\"temp_outside_building_northside\"]))\n",
        "round(qi_cod, 2)"
      ],
      "execution_count": null,
      "outputs": [
        {
          "data": {
            "text/plain": [
              "0.44"
            ]
          },
          "execution_count": 97,
          "metadata": {},
          "output_type": "execute_result"
        }
      ]
    },
    {
      "cell_type": "markdown",
      "metadata": {
        "id": "8fZXIQeyzsvT"
      },
      "source": [
        "## Question 17 : Obtain the feature weights from your linear model above. Which features have the lowest and highest weights respectively?\n",
        "\n",
        "\n",
        "\n",
        "\n",
        "\n"
      ]
    },
    {
      "cell_type": "code",
      "metadata": {
        "id": "81if5_LGzsvT"
      },
      "source": [
        "#comparing the effects of Regularisation\n",
        "\n",
        "def get_weights_df(model, feat, col_name) :\n",
        "    #this function returns the weight of every feature\n",
        "    weights = pd.Series(model.coef_, feat.columns).sort_values()\n",
        "    weights_df = pd.DataFrame(weights).reset_index()\n",
        "    weights_df.columns = [\"Features\", col_name]\n",
        "    weights_df[col_name].round(3)\n",
        "    \n",
        "    return weights_df"
      ],
      "execution_count": null,
      "outputs": []
    },
    {
      "cell_type": "code",
      "metadata": {
        "id": "TpuDd-j9zsvT",
        "outputId": "56a3e356-4aeb-4cf0-8db6-c5f0c87b85cb"
      },
      "source": [
        "len(linear_model.coef_)"
      ],
      "execution_count": null,
      "outputs": [
        {
          "data": {
            "text/plain": [
              "26"
            ]
          },
          "execution_count": 99,
          "metadata": {},
          "output_type": "execute_result"
        }
      ]
    },
    {
      "cell_type": "code",
      "metadata": {
        "id": "YM9LCb5tzsvU",
        "outputId": "6f22cfbe-32f2-465d-dc34-8bc18e7de754"
      },
      "source": [
        "linear_model_weights = get_weights_df(linear_model, x_train, 'Linear_Model_Weight')\n",
        "linear_model_weights.nsmallest(1, \"Linear_Model_Weight\")"
      ],
      "execution_count": null,
      "outputs": [
        {
          "data": {
            "text/html": [
              "<div>\n",
              "<style scoped>\n",
              "    .dataframe tbody tr th:only-of-type {\n",
              "        vertical-align: middle;\n",
              "    }\n",
              "\n",
              "    .dataframe tbody tr th {\n",
              "        vertical-align: top;\n",
              "    }\n",
              "\n",
              "    .dataframe thead th {\n",
              "        text-align: right;\n",
              "    }\n",
              "</style>\n",
              "<table border=\"1\" class=\"dataframe\">\n",
              "  <thead>\n",
              "    <tr style=\"text-align: right;\">\n",
              "      <th></th>\n",
              "      <th>Features</th>\n",
              "      <th>Linear_Model_Weight</th>\n",
              "    </tr>\n",
              "  </thead>\n",
              "  <tbody>\n",
              "    <tr>\n",
              "      <th>0</th>\n",
              "      <td>RH_in_living_room</td>\n",
              "      <td>-0.456698</td>\n",
              "    </tr>\n",
              "  </tbody>\n",
              "</table>\n",
              "</div>"
            ],
            "text/plain": [
              "            Features  Linear_Model_Weight\n",
              "0  RH_in_living_room            -0.456698"
            ]
          },
          "execution_count": 100,
          "metadata": {},
          "output_type": "execute_result"
        }
      ]
    },
    {
      "cell_type": "code",
      "metadata": {
        "id": "8jlBiwMmzsvU",
        "outputId": "b48d9b0e-5c5e-432e-e5c5-ff6294dd587c"
      },
      "source": [
        "linear_model_weights.nlargest(1, \"Linear_Model_Weight\")"
      ],
      "execution_count": null,
      "outputs": [
        {
          "data": {
            "text/html": [
              "<div>\n",
              "<style scoped>\n",
              "    .dataframe tbody tr th:only-of-type {\n",
              "        vertical-align: middle;\n",
              "    }\n",
              "\n",
              "    .dataframe tbody tr th {\n",
              "        vertical-align: top;\n",
              "    }\n",
              "\n",
              "    .dataframe thead th {\n",
              "        text-align: right;\n",
              "    }\n",
              "</style>\n",
              "<table border=\"1\" class=\"dataframe\">\n",
              "  <thead>\n",
              "    <tr style=\"text-align: right;\">\n",
              "      <th></th>\n",
              "      <th>Features</th>\n",
              "      <th>Linear_Model_Weight</th>\n",
              "    </tr>\n",
              "  </thead>\n",
              "  <tbody>\n",
              "    <tr>\n",
              "      <th>25</th>\n",
              "      <td>RH_in_kitchen</td>\n",
              "      <td>0.553547</td>\n",
              "    </tr>\n",
              "  </tbody>\n",
              "</table>\n",
              "</div>"
            ],
            "text/plain": [
              "         Features  Linear_Model_Weight\n",
              "25  RH_in_kitchen             0.553547"
            ]
          },
          "execution_count": 101,
          "metadata": {},
          "output_type": "execute_result"
        }
      ]
    },
    {
      "cell_type": "markdown",
      "metadata": {
        "id": "U0IirWzczsvU"
      },
      "source": [
        "## Question 18 : Train a ridge regression model with an alpha value of 0.4. Is there any change to the root mean squared error (RMSE) when evaluated on the test set?"
      ]
    },
    {
      "cell_type": "code",
      "metadata": {
        "id": "uMo0l2THzsvU"
      },
      "source": [
        "ridge_model = Ridge(alpha=0.4)"
      ],
      "execution_count": null,
      "outputs": []
    },
    {
      "cell_type": "code",
      "metadata": {
        "id": "7cpfrBaIzsvU",
        "outputId": "6d07b6d1-a1c8-4c8a-e8f6-4e5d76c48c72"
      },
      "source": [
        "ridge_model.fit(qi_x, qi_y)"
      ],
      "execution_count": null,
      "outputs": [
        {
          "data": {
            "text/plain": [
              "Ridge(alpha=0.4)"
            ]
          },
          "execution_count": 103,
          "metadata": {},
          "output_type": "execute_result"
        }
      ]
    },
    {
      "cell_type": "code",
      "metadata": {
        "id": "GZQ1lBpOzsvV"
      },
      "source": [
        "qi_ridge_predict = ridge_model.predict(np.array(x_test[\"temp_in_living_room\"]).reshape(-1, 1))"
      ],
      "execution_count": null,
      "outputs": []
    },
    {
      "cell_type": "code",
      "metadata": {
        "id": "ILpx7Q10zsvV",
        "outputId": "74d3d333-313d-48d0-97a0-e47aae7c0430"
      },
      "source": [
        "qi_ridge_rmse = np.sqrt(mean_squared_error(np.array(x_test[\"temp_outside_building_northside\"]), qi_ridge_predict))\n",
        "round(qi_ridge_rmse, 3) "
      ],
      "execution_count": null,
      "outputs": [
        {
          "data": {
            "text/plain": [
              "0.106"
            ]
          },
          "execution_count": 105,
          "metadata": {},
          "output_type": "execute_result"
        }
      ]
    },
    {
      "cell_type": "code",
      "metadata": {
        "id": "nyzGtcJnzsvV"
      },
      "source": [
        "assert round(qi_rmse, 3) == round(qi_ridge_rmse, 3)"
      ],
      "execution_count": null,
      "outputs": []
    },
    {
      "cell_type": "markdown",
      "metadata": {
        "id": "-k4TJNm_zsvV"
      },
      "source": [
        "## Question 19 : Train a lasso regression model with an alpha value of 0.001 and obtain the new feature weights with it. How many of the features have non-zero feature weights?\n",
        "\n",
        "\n",
        "\n",
        "\n",
        "\n"
      ]
    },
    {
      "cell_type": "code",
      "metadata": {
        "id": "-QN5aCIuzsvV"
      },
      "source": [
        "lasso_model = Lasso(alpha = 0.001)"
      ],
      "execution_count": null,
      "outputs": []
    },
    {
      "cell_type": "code",
      "metadata": {
        "id": "KfTcxeAGzsvV",
        "outputId": "951995fe-6c9c-4c6c-998d-20f54261dd95"
      },
      "source": [
        "lasso_model.fit(x_train, y_train)"
      ],
      "execution_count": null,
      "outputs": [
        {
          "data": {
            "text/plain": [
              "Lasso(alpha=0.001)"
            ]
          },
          "execution_count": 108,
          "metadata": {},
          "output_type": "execute_result"
        }
      ]
    },
    {
      "cell_type": "code",
      "metadata": {
        "id": "p1OsYhzzzsvV",
        "outputId": "de410e12-5e43-476a-901e-8991d168db5e"
      },
      "source": [
        "lasso_model_weights = get_weights_df(lasso_model, x_train, \"Lasso_Model_Weight\")\n",
        "lasso_model_weights"
      ],
      "execution_count": null,
      "outputs": [
        {
          "data": {
            "text/html": [
              "<div>\n",
              "<style scoped>\n",
              "    .dataframe tbody tr th:only-of-type {\n",
              "        vertical-align: middle;\n",
              "    }\n",
              "\n",
              "    .dataframe tbody tr th {\n",
              "        vertical-align: top;\n",
              "    }\n",
              "\n",
              "    .dataframe thead th {\n",
              "        text-align: right;\n",
              "    }\n",
              "</style>\n",
              "<table border=\"1\" class=\"dataframe\">\n",
              "  <thead>\n",
              "    <tr style=\"text-align: right;\">\n",
              "      <th></th>\n",
              "      <th>Features</th>\n",
              "      <th>Lasso_Model_Weight</th>\n",
              "    </tr>\n",
              "  </thead>\n",
              "  <tbody>\n",
              "    <tr>\n",
              "      <th>0</th>\n",
              "      <td>RH_weather_station</td>\n",
              "      <td>-0.049557</td>\n",
              "    </tr>\n",
              "    <tr>\n",
              "      <th>1</th>\n",
              "      <td>RH_in_teenager_room2</td>\n",
              "      <td>-0.000110</td>\n",
              "    </tr>\n",
              "    <tr>\n",
              "      <th>2</th>\n",
              "      <td>temp_in_kitchen</td>\n",
              "      <td>0.000000</td>\n",
              "    </tr>\n",
              "    <tr>\n",
              "      <th>3</th>\n",
              "      <td>Tdewpoint_weather_station</td>\n",
              "      <td>0.000000</td>\n",
              "    </tr>\n",
              "    <tr>\n",
              "      <th>4</th>\n",
              "      <td>visibility_weather_station</td>\n",
              "      <td>0.000000</td>\n",
              "    </tr>\n",
              "    <tr>\n",
              "      <th>5</th>\n",
              "      <td>pressure_waether_station</td>\n",
              "      <td>-0.000000</td>\n",
              "    </tr>\n",
              "    <tr>\n",
              "      <th>6</th>\n",
              "      <td>temp_weather_station</td>\n",
              "      <td>0.000000</td>\n",
              "    </tr>\n",
              "    <tr>\n",
              "      <th>7</th>\n",
              "      <td>RH_in_parents_room2</td>\n",
              "      <td>-0.000000</td>\n",
              "    </tr>\n",
              "    <tr>\n",
              "      <th>8</th>\n",
              "      <td>temp_in_parents_room</td>\n",
              "      <td>-0.000000</td>\n",
              "    </tr>\n",
              "    <tr>\n",
              "      <th>9</th>\n",
              "      <td>temp_in_teenager_room2</td>\n",
              "      <td>0.000000</td>\n",
              "    </tr>\n",
              "    <tr>\n",
              "      <th>10</th>\n",
              "      <td>RH_in_ironing_room</td>\n",
              "      <td>-0.000000</td>\n",
              "    </tr>\n",
              "    <tr>\n",
              "      <th>11</th>\n",
              "      <td>random_variable1</td>\n",
              "      <td>-0.000000</td>\n",
              "    </tr>\n",
              "    <tr>\n",
              "      <th>12</th>\n",
              "      <td>temp_in_ironing_room</td>\n",
              "      <td>-0.000000</td>\n",
              "    </tr>\n",
              "    <tr>\n",
              "      <th>13</th>\n",
              "      <td>temp_outside_building_northside</td>\n",
              "      <td>0.000000</td>\n",
              "    </tr>\n",
              "    <tr>\n",
              "      <th>14</th>\n",
              "      <td>RH_in_bathroom</td>\n",
              "      <td>0.000000</td>\n",
              "    </tr>\n",
              "    <tr>\n",
              "      <th>15</th>\n",
              "      <td>temp_in_bathroom</td>\n",
              "      <td>-0.000000</td>\n",
              "    </tr>\n",
              "    <tr>\n",
              "      <th>16</th>\n",
              "      <td>RH_in_office_room</td>\n",
              "      <td>0.000000</td>\n",
              "    </tr>\n",
              "    <tr>\n",
              "      <th>17</th>\n",
              "      <td>temp_in_office_room</td>\n",
              "      <td>-0.000000</td>\n",
              "    </tr>\n",
              "    <tr>\n",
              "      <th>18</th>\n",
              "      <td>RH_in_laundry_room</td>\n",
              "      <td>0.000000</td>\n",
              "    </tr>\n",
              "    <tr>\n",
              "      <th>19</th>\n",
              "      <td>temp_in_laundry_room</td>\n",
              "      <td>0.000000</td>\n",
              "    </tr>\n",
              "    <tr>\n",
              "      <th>20</th>\n",
              "      <td>RH_in_living_room</td>\n",
              "      <td>-0.000000</td>\n",
              "    </tr>\n",
              "    <tr>\n",
              "      <th>21</th>\n",
              "      <td>temp_in_living_room</td>\n",
              "      <td>0.000000</td>\n",
              "    </tr>\n",
              "    <tr>\n",
              "      <th>22</th>\n",
              "      <td>RH_outside_building_northside</td>\n",
              "      <td>-0.000000</td>\n",
              "    </tr>\n",
              "    <tr>\n",
              "      <th>23</th>\n",
              "      <td>random_variable2</td>\n",
              "      <td>-0.000000</td>\n",
              "    </tr>\n",
              "    <tr>\n",
              "      <th>24</th>\n",
              "      <td>windspeed_weather_station</td>\n",
              "      <td>0.002912</td>\n",
              "    </tr>\n",
              "    <tr>\n",
              "      <th>25</th>\n",
              "      <td>RH_in_kitchen</td>\n",
              "      <td>0.017880</td>\n",
              "    </tr>\n",
              "  </tbody>\n",
              "</table>\n",
              "</div>"
            ],
            "text/plain": [
              "                           Features  Lasso_Model_Weight\n",
              "0                RH_weather_station           -0.049557\n",
              "1              RH_in_teenager_room2           -0.000110\n",
              "2                   temp_in_kitchen            0.000000\n",
              "3         Tdewpoint_weather_station            0.000000\n",
              "4        visibility_weather_station            0.000000\n",
              "5          pressure_waether_station           -0.000000\n",
              "6              temp_weather_station            0.000000\n",
              "7               RH_in_parents_room2           -0.000000\n",
              "8              temp_in_parents_room           -0.000000\n",
              "9            temp_in_teenager_room2            0.000000\n",
              "10               RH_in_ironing_room           -0.000000\n",
              "11                 random_variable1           -0.000000\n",
              "12             temp_in_ironing_room           -0.000000\n",
              "13  temp_outside_building_northside            0.000000\n",
              "14                   RH_in_bathroom            0.000000\n",
              "15                 temp_in_bathroom           -0.000000\n",
              "16                RH_in_office_room            0.000000\n",
              "17              temp_in_office_room           -0.000000\n",
              "18               RH_in_laundry_room            0.000000\n",
              "19             temp_in_laundry_room            0.000000\n",
              "20                RH_in_living_room           -0.000000\n",
              "21              temp_in_living_room            0.000000\n",
              "22    RH_outside_building_northside           -0.000000\n",
              "23                 random_variable2           -0.000000\n",
              "24        windspeed_weather_station            0.002912\n",
              "25                    RH_in_kitchen            0.017880"
            ]
          },
          "execution_count": 109,
          "metadata": {},
          "output_type": "execute_result"
        }
      ]
    },
    {
      "cell_type": "code",
      "metadata": {
        "id": "-KXSBJFRzsvW"
      },
      "source": [
        "def count_non_zero_values(items) :\n",
        "    counter = len([item for item in items if item != 0])\n",
        "    return counter"
      ],
      "execution_count": null,
      "outputs": []
    },
    {
      "cell_type": "code",
      "metadata": {
        "id": "bRFSTRQazsvW",
        "outputId": "c6a09efc-de10-4a4d-d71f-6e03c6146a5a"
      },
      "source": [
        "print(f'The number of features that have non_zero feature weights is {count_non_zero_values(lasso_model_weights[\"Lasso_Model_Weight\"])}')"
      ],
      "execution_count": null,
      "outputs": [
        {
          "name": "stdout",
          "output_type": "stream",
          "text": [
            "The number of features that have non_zero feature weights is 4\n"
          ]
        }
      ]
    },
    {
      "cell_type": "markdown",
      "metadata": {
        "id": "8XLqW3UXzsvW"
      },
      "source": [
        "## Question 20 : What is the new RMSE with the Lasso Regression (in 3 decimal places)?\n",
        "\n"
      ]
    },
    {
      "cell_type": "code",
      "metadata": {
        "id": "Wx1x57IKzsvW",
        "outputId": "c4c130f3-17f7-4df4-d985-ca7d19e61a5b"
      },
      "source": [
        "lasso_model.fit(qi_x, qi_y)"
      ],
      "execution_count": null,
      "outputs": [
        {
          "data": {
            "text/plain": [
              "Lasso(alpha=0.001)"
            ]
          },
          "execution_count": 112,
          "metadata": {},
          "output_type": "execute_result"
        }
      ]
    },
    {
      "cell_type": "code",
      "metadata": {
        "id": "D31RAB0JzsvW"
      },
      "source": [
        "lasso_predict = lasso_model.predict(np.array(x_test[\"temp_in_living_room\"]).reshape(-1, 1))"
      ],
      "execution_count": null,
      "outputs": []
    },
    {
      "cell_type": "code",
      "metadata": {
        "id": "mm75JS3jzsvW",
        "outputId": "ca1b8947-7241-4969-aac7-e3e48705d2de"
      },
      "source": [
        "qi_lasso_rmse = np.sqrt(mean_squared_error(np.array(x_test[\"temp_outside_building_northside\"]), lasso_predict))\n",
        "round(qi_lasso_rmse, 3) "
      ],
      "execution_count": null,
      "outputs": [
        {
          "data": {
            "text/plain": [
              "0.106"
            ]
          },
          "execution_count": 114,
          "metadata": {},
          "output_type": "execute_result"
        }
      ]
    },
    {
      "cell_type": "code",
      "metadata": {
        "id": "fH8ZH1EuzsvX"
      },
      "source": [
        ""
      ],
      "execution_count": null,
      "outputs": []
    }
  ]
}