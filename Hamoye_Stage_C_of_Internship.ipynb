{
  "nbformat": 4,
  "nbformat_minor": 0,
  "metadata": {
    "colab": {
      "name": "Hamoye_Stage_C_of_Internship.ipynb",
      "provenance": [],
      "collapsed_sections": [],
      "include_colab_link": true
    },
    "kernelspec": {
      "name": "python3",
      "display_name": "Python 3"
    }
  },
  "cells": [
    {
      "cell_type": "markdown",
      "metadata": {
        "id": "view-in-github",
        "colab_type": "text"
      },
      "source": [
        "<a href=\"https://colab.research.google.com/github/Akshat-kumar-jain/Hamoye_Internship/blob/main/Hamoye_Stage_C_of_Internship.ipynb\" target=\"_parent\"><img src=\"https://colab.research.google.com/assets/colab-badge.svg\" alt=\"Open In Colab\"/></a>"
      ]
    },
    {
      "cell_type": "markdown",
      "metadata": {
        "id": "4IbLtsPDza0N"
      },
      "source": [
        "# By Akshat Kumar Jain (iakshatkumarjain@gmail.com)"
      ]
    },
    {
      "cell_type": "markdown",
      "metadata": {
        "id": "BYxtEXZWQMDz"
      },
      "source": [
        "# **Preparing the Data for the Quiz**"
      ]
    },
    {
      "cell_type": "markdown",
      "metadata": {
        "id": "ZKj_nawszkXK"
      },
      "source": [
        "Stability of the Grid System\n",
        "Electrical grids require a balance between electricity supply and demand in order to be stable. Conventional systems achieve this balance through demand-driven electricity production. For future grids with a high share of inflexible (i.e., renewable) energy source, the concept of demand response is a promising solution. This implies changes in electricity consumption in relation to electricity price changes. In this work, we’ll build a binary classification model to predict if a grid is stable or unstable using the UCI Electrical Grid Stability Simulated dataset.\n",
        "\n",
        "Dataset: https://archive.ics.uci.edu/ml/datasets/Electrical+Grid+Stability+Simulated+Data+\n",
        "\n",
        "It has 12 primary predictive features and two dependent variables.\n",
        "\n",
        "**Predictive features:**\n",
        "\n",
        "'tau1' to 'tau4': the reaction time of each network participant, a real value within the range 0.5 to 10 ('tau1' corresponds to the supplier node, 'tau2' to 'tau4' to the consumer nodes);\n",
        "\n",
        "'p1' to 'p4': nominal power produced (positive) or consumed (negative) by each network participant, a real value within the range -2.0 to -0.5 for consumers ('p2' to 'p4'). As the total power consumed equals the total power generated, p1 (supplier node) = - (p2 + p3 + p4);\n",
        "\n",
        "'g1' to 'g4': price elasticity coefficient for each network participant, a real value within the range 0.05 to 1.00 ('g1' corresponds to the supplier node, 'g2' to 'g4' to the consumer nodes; 'g' stands for 'gamma');\n",
        "\n",
        "**Dependent variables:**\n",
        "\n",
        "'stab': the maximum real part of the characteristic differential equation root (if positive, the system is linearly unstable; if negative, linearly stable);\n",
        "'stabf': a categorical (binary) label ('stable' or 'unstable').\n",
        "\n",
        "Because of the direct relationship between 'stab' and 'stabf' ('stabf' = 'stable' if 'stab' <= 0, 'unstable' otherwise), 'stab' should be dropped and 'stabf' will remain as the sole dependent variable (binary classification).\n",
        "\n",
        "\n",
        "Split the data into an 80-20 train-test split with a random state of “1”. Use the standard scaler to transform the train set (x_train, y_train) and the test set (x_test). Use scikit learn to train a random forest and extra trees classifier. And use xgboost and lightgbm to train an extreme boosting model and a light gradient boosting model. Use random_state = 1 for training all models and evaluate on the test set.\n",
        "\n",
        "\n",
        "Also, to improve the Extra Trees Classifier, you will use the following parameters (number of estimators, minimum number of samples, minimum number of samples for leaf node and the number of features to consider when looking for the best split) for the hyperparameter grid needed to run a Randomized Cross Validation Search (RandomizedSearchCV).\n",
        "\n",
        "\n",
        "n_estimators = [50, 100, 300, 500, 1000]\n",
        "\n",
        "min_samples_split = [2, 3, 5, 7, 9]\n",
        "\n",
        "min_samples_leaf = [1, 2, 4, 6, 8]\n",
        "\n",
        "max_features = ['auto', 'sqrt', 'log2', None]\n",
        "\n",
        "hyperparameter_grid = {'n_estimators': n_estimators,\n",
        "\n",
        "'min_samples_leaf': min_samples_leaf,\n",
        "\n",
        "'min_samples_split': min_samples_split,\n",
        "\n",
        "'max_features': max_features}"
      ]
    },
    {
      "cell_type": "code",
      "metadata": {
        "id": "7N2fKKvALJ5b"
      },
      "source": [
        "#importing the necessary libraries\n",
        "import pandas as pd\n",
        "import numpy as np\n",
        "import matplotlib.pyplot as plt\n",
        "import seaborn as sns\n",
        "%matplotlib inline"
      ],
      "execution_count": null,
      "outputs": []
    },
    {
      "cell_type": "code",
      "metadata": {
        "id": "Tzdq5mbbLQFF"
      },
      "source": [
        "# Copying the url and loading (reading) as dataframe\n",
        "\n",
        "url = 'https://raw.githubusercontent.com/moreira-presh/HAMOYE-INTERNSHIP-2020/master/Data_for_UCI_named.csv'\n",
        "df = pd.read_csv(url)"
      ],
      "execution_count": null,
      "outputs": []
    },
    {
      "cell_type": "code",
      "metadata": {
        "id": "rp3KQ1a-LXbP",
        "colab": {
          "base_uri": "https://localhost:8080/",
          "height": 206
        },
        "outputId": "97412fc8-4225-4122-c041-a51ecbf4ce94"
      },
      "source": [
        "# checking the head of the data\n",
        "df.head()"
      ],
      "execution_count": null,
      "outputs": [
        {
          "output_type": "execute_result",
          "data": {
            "text/html": [
              "<div>\n",
              "<style scoped>\n",
              "    .dataframe tbody tr th:only-of-type {\n",
              "        vertical-align: middle;\n",
              "    }\n",
              "\n",
              "    .dataframe tbody tr th {\n",
              "        vertical-align: top;\n",
              "    }\n",
              "\n",
              "    .dataframe thead th {\n",
              "        text-align: right;\n",
              "    }\n",
              "</style>\n",
              "<table border=\"1\" class=\"dataframe\">\n",
              "  <thead>\n",
              "    <tr style=\"text-align: right;\">\n",
              "      <th></th>\n",
              "      <th>tau1</th>\n",
              "      <th>tau2</th>\n",
              "      <th>tau3</th>\n",
              "      <th>tau4</th>\n",
              "      <th>p1</th>\n",
              "      <th>p2</th>\n",
              "      <th>p3</th>\n",
              "      <th>p4</th>\n",
              "      <th>g1</th>\n",
              "      <th>g2</th>\n",
              "      <th>g3</th>\n",
              "      <th>g4</th>\n",
              "      <th>stab</th>\n",
              "      <th>stabf</th>\n",
              "    </tr>\n",
              "  </thead>\n",
              "  <tbody>\n",
              "    <tr>\n",
              "      <th>0</th>\n",
              "      <td>2.959060</td>\n",
              "      <td>3.079885</td>\n",
              "      <td>8.381025</td>\n",
              "      <td>9.780754</td>\n",
              "      <td>3.763085</td>\n",
              "      <td>-0.782604</td>\n",
              "      <td>-1.257395</td>\n",
              "      <td>-1.723086</td>\n",
              "      <td>0.650456</td>\n",
              "      <td>0.859578</td>\n",
              "      <td>0.887445</td>\n",
              "      <td>0.958034</td>\n",
              "      <td>0.055347</td>\n",
              "      <td>unstable</td>\n",
              "    </tr>\n",
              "    <tr>\n",
              "      <th>1</th>\n",
              "      <td>9.304097</td>\n",
              "      <td>4.902524</td>\n",
              "      <td>3.047541</td>\n",
              "      <td>1.369357</td>\n",
              "      <td>5.067812</td>\n",
              "      <td>-1.940058</td>\n",
              "      <td>-1.872742</td>\n",
              "      <td>-1.255012</td>\n",
              "      <td>0.413441</td>\n",
              "      <td>0.862414</td>\n",
              "      <td>0.562139</td>\n",
              "      <td>0.781760</td>\n",
              "      <td>-0.005957</td>\n",
              "      <td>stable</td>\n",
              "    </tr>\n",
              "    <tr>\n",
              "      <th>2</th>\n",
              "      <td>8.971707</td>\n",
              "      <td>8.848428</td>\n",
              "      <td>3.046479</td>\n",
              "      <td>1.214518</td>\n",
              "      <td>3.405158</td>\n",
              "      <td>-1.207456</td>\n",
              "      <td>-1.277210</td>\n",
              "      <td>-0.920492</td>\n",
              "      <td>0.163041</td>\n",
              "      <td>0.766689</td>\n",
              "      <td>0.839444</td>\n",
              "      <td>0.109853</td>\n",
              "      <td>0.003471</td>\n",
              "      <td>unstable</td>\n",
              "    </tr>\n",
              "    <tr>\n",
              "      <th>3</th>\n",
              "      <td>0.716415</td>\n",
              "      <td>7.669600</td>\n",
              "      <td>4.486641</td>\n",
              "      <td>2.340563</td>\n",
              "      <td>3.963791</td>\n",
              "      <td>-1.027473</td>\n",
              "      <td>-1.938944</td>\n",
              "      <td>-0.997374</td>\n",
              "      <td>0.446209</td>\n",
              "      <td>0.976744</td>\n",
              "      <td>0.929381</td>\n",
              "      <td>0.362718</td>\n",
              "      <td>0.028871</td>\n",
              "      <td>unstable</td>\n",
              "    </tr>\n",
              "    <tr>\n",
              "      <th>4</th>\n",
              "      <td>3.134112</td>\n",
              "      <td>7.608772</td>\n",
              "      <td>4.943759</td>\n",
              "      <td>9.857573</td>\n",
              "      <td>3.525811</td>\n",
              "      <td>-1.125531</td>\n",
              "      <td>-1.845975</td>\n",
              "      <td>-0.554305</td>\n",
              "      <td>0.797110</td>\n",
              "      <td>0.455450</td>\n",
              "      <td>0.656947</td>\n",
              "      <td>0.820923</td>\n",
              "      <td>0.049860</td>\n",
              "      <td>unstable</td>\n",
              "    </tr>\n",
              "  </tbody>\n",
              "</table>\n",
              "</div>"
            ],
            "text/plain": [
              "       tau1      tau2      tau3  ...        g4      stab     stabf\n",
              "0  2.959060  3.079885  8.381025  ...  0.958034  0.055347  unstable\n",
              "1  9.304097  4.902524  3.047541  ...  0.781760 -0.005957    stable\n",
              "2  8.971707  8.848428  3.046479  ...  0.109853  0.003471  unstable\n",
              "3  0.716415  7.669600  4.486641  ...  0.362718  0.028871  unstable\n",
              "4  3.134112  7.608772  4.943759  ...  0.820923  0.049860  unstable\n",
              "\n",
              "[5 rows x 14 columns]"
            ]
          },
          "metadata": {
            "tags": []
          },
          "execution_count": 62
        }
      ]
    },
    {
      "cell_type": "code",
      "metadata": {
        "id": "n4R3NYmHLb_x",
        "colab": {
          "base_uri": "https://localhost:8080/",
          "height": 290
        },
        "outputId": "918e1c94-0b55-4970-ec5e-6f61a44c0b96"
      },
      "source": [
        "# checking for missing values\n",
        "df.isna().sum()"
      ],
      "execution_count": null,
      "outputs": [
        {
          "output_type": "execute_result",
          "data": {
            "text/plain": [
              "tau1     0\n",
              "tau2     0\n",
              "tau3     0\n",
              "tau4     0\n",
              "p1       0\n",
              "p2       0\n",
              "p3       0\n",
              "p4       0\n",
              "g1       0\n",
              "g2       0\n",
              "g3       0\n",
              "g4       0\n",
              "stab     0\n",
              "stabf    0\n",
              "dtype: int64"
            ]
          },
          "metadata": {
            "tags": []
          },
          "execution_count": 63
        }
      ]
    },
    {
      "cell_type": "code",
      "metadata": {
        "id": "npKJhCfwMWh1"
      },
      "source": [
        "# from the Instructions, we are told to drop the 'stab' columns\n",
        "df = df.drop(columns = 'stab')"
      ],
      "execution_count": null,
      "outputs": []
    },
    {
      "cell_type": "code",
      "metadata": {
        "id": "cCVxveBlMmD-"
      },
      "source": [
        "# Splitting the data into the Predictors(Features) and Labels(Response)\n",
        "\n",
        "X = df.drop(['stabf'],axis = 1)\n",
        "y = df['stabf']"
      ],
      "execution_count": null,
      "outputs": []
    },
    {
      "cell_type": "code",
      "metadata": {
        "id": "K-uXJuqpNRdt",
        "colab": {
          "base_uri": "https://localhost:8080/",
          "height": 72
        },
        "outputId": "9b9104bb-6a04-4a28-e413-e85c911e8ad6"
      },
      "source": [
        "df.stabf.value_counts() # before the split was carried out"
      ],
      "execution_count": null,
      "outputs": [
        {
          "output_type": "execute_result",
          "data": {
            "text/plain": [
              "unstable    6380\n",
              "stable      3620\n",
              "Name: stabf, dtype: int64"
            ]
          },
          "metadata": {
            "tags": []
          },
          "execution_count": 66
        }
      ]
    },
    {
      "cell_type": "code",
      "metadata": {
        "id": "n-SsqmNfNYt2"
      },
      "source": [
        "# Assigning/Splitting the data into testing and training sets\n",
        "\n",
        "from sklearn.model_selection import train_test_split\n",
        "X_train, X_test, y_train, y_test = train_test_split( X, y, test_size=0.2, random_state=1)"
      ],
      "execution_count": null,
      "outputs": []
    },
    {
      "cell_type": "code",
      "metadata": {
        "id": "kdAc26kPNsL3",
        "colab": {
          "base_uri": "https://localhost:8080/",
          "height": 72
        },
        "outputId": "a654dac5-2a4f-4378-9129-d0cacbf6200f"
      },
      "source": [
        "y_train.value_counts() # after split "
      ],
      "execution_count": null,
      "outputs": [
        {
          "output_type": "execute_result",
          "data": {
            "text/plain": [
              "unstable    5092\n",
              "stable      2908\n",
              "Name: stabf, dtype: int64"
            ]
          },
          "metadata": {
            "tags": []
          },
          "execution_count": 68
        }
      ]
    },
    {
      "cell_type": "code",
      "metadata": {
        "id": "5lSeij6CN0Y-",
        "colab": {
          "base_uri": "https://localhost:8080/",
          "height": 72
        },
        "outputId": "27999c81-5fed-4c19-aa0e-740afd04d223"
      },
      "source": [
        "y_test.value_counts() # after split"
      ],
      "execution_count": null,
      "outputs": [
        {
          "output_type": "execute_result",
          "data": {
            "text/plain": [
              "unstable    1288\n",
              "stable       712\n",
              "Name: stabf, dtype: int64"
            ]
          },
          "metadata": {
            "tags": []
          },
          "execution_count": 69
        }
      ]
    },
    {
      "cell_type": "code",
      "metadata": {
        "id": "S8bMcOWjN3qX",
        "colab": {
          "base_uri": "https://localhost:8080/",
          "height": 143
        },
        "outputId": "f89be1a6-0d95-428c-ee80-08f8954dc77f"
      },
      "source": [
        "X_train.head(3) # checking the Xtrain dataframe before transformation is done to it"
      ],
      "execution_count": null,
      "outputs": [
        {
          "output_type": "execute_result",
          "data": {
            "text/html": [
              "<div>\n",
              "<style scoped>\n",
              "    .dataframe tbody tr th:only-of-type {\n",
              "        vertical-align: middle;\n",
              "    }\n",
              "\n",
              "    .dataframe tbody tr th {\n",
              "        vertical-align: top;\n",
              "    }\n",
              "\n",
              "    .dataframe thead th {\n",
              "        text-align: right;\n",
              "    }\n",
              "</style>\n",
              "<table border=\"1\" class=\"dataframe\">\n",
              "  <thead>\n",
              "    <tr style=\"text-align: right;\">\n",
              "      <th></th>\n",
              "      <th>tau1</th>\n",
              "      <th>tau2</th>\n",
              "      <th>tau3</th>\n",
              "      <th>tau4</th>\n",
              "      <th>p1</th>\n",
              "      <th>p2</th>\n",
              "      <th>p3</th>\n",
              "      <th>p4</th>\n",
              "      <th>g1</th>\n",
              "      <th>g2</th>\n",
              "      <th>g3</th>\n",
              "      <th>g4</th>\n",
              "    </tr>\n",
              "  </thead>\n",
              "  <tbody>\n",
              "    <tr>\n",
              "      <th>2694</th>\n",
              "      <td>6.255995</td>\n",
              "      <td>2.542401</td>\n",
              "      <td>7.024714</td>\n",
              "      <td>9.476518</td>\n",
              "      <td>3.529888</td>\n",
              "      <td>-1.224881</td>\n",
              "      <td>-0.688228</td>\n",
              "      <td>-1.616780</td>\n",
              "      <td>0.568221</td>\n",
              "      <td>0.618403</td>\n",
              "      <td>0.685739</td>\n",
              "      <td>0.660088</td>\n",
              "    </tr>\n",
              "    <tr>\n",
              "      <th>5140</th>\n",
              "      <td>5.070581</td>\n",
              "      <td>5.490253</td>\n",
              "      <td>8.075688</td>\n",
              "      <td>0.761075</td>\n",
              "      <td>4.220888</td>\n",
              "      <td>-1.280596</td>\n",
              "      <td>-1.902185</td>\n",
              "      <td>-1.038107</td>\n",
              "      <td>0.443515</td>\n",
              "      <td>0.097244</td>\n",
              "      <td>0.916955</td>\n",
              "      <td>0.129254</td>\n",
              "    </tr>\n",
              "    <tr>\n",
              "      <th>2568</th>\n",
              "      <td>1.220072</td>\n",
              "      <td>8.804028</td>\n",
              "      <td>3.874283</td>\n",
              "      <td>8.433949</td>\n",
              "      <td>3.614027</td>\n",
              "      <td>-1.039236</td>\n",
              "      <td>-0.953566</td>\n",
              "      <td>-1.621224</td>\n",
              "      <td>0.908353</td>\n",
              "      <td>0.923594</td>\n",
              "      <td>0.238881</td>\n",
              "      <td>0.660156</td>\n",
              "    </tr>\n",
              "  </tbody>\n",
              "</table>\n",
              "</div>"
            ],
            "text/plain": [
              "          tau1      tau2      tau3  ...        g2        g3        g4\n",
              "2694  6.255995  2.542401  7.024714  ...  0.618403  0.685739  0.660088\n",
              "5140  5.070581  5.490253  8.075688  ...  0.097244  0.916955  0.129254\n",
              "2568  1.220072  8.804028  3.874283  ...  0.923594  0.238881  0.660156\n",
              "\n",
              "[3 rows x 12 columns]"
            ]
          },
          "metadata": {
            "tags": []
          },
          "execution_count": 70
        }
      ]
    },
    {
      "cell_type": "code",
      "metadata": {
        "id": "jQha5Yy2OEvT",
        "colab": {
          "base_uri": "https://localhost:8080/",
          "height": 143
        },
        "outputId": "461c882d-1bba-460e-e074-a9d14accbb14"
      },
      "source": [
        "X_test.head(3) # checking the Xtest dataframe before transformation is done to it"
      ],
      "execution_count": null,
      "outputs": [
        {
          "output_type": "execute_result",
          "data": {
            "text/html": [
              "<div>\n",
              "<style scoped>\n",
              "    .dataframe tbody tr th:only-of-type {\n",
              "        vertical-align: middle;\n",
              "    }\n",
              "\n",
              "    .dataframe tbody tr th {\n",
              "        vertical-align: top;\n",
              "    }\n",
              "\n",
              "    .dataframe thead th {\n",
              "        text-align: right;\n",
              "    }\n",
              "</style>\n",
              "<table border=\"1\" class=\"dataframe\">\n",
              "  <thead>\n",
              "    <tr style=\"text-align: right;\">\n",
              "      <th></th>\n",
              "      <th>tau1</th>\n",
              "      <th>tau2</th>\n",
              "      <th>tau3</th>\n",
              "      <th>tau4</th>\n",
              "      <th>p1</th>\n",
              "      <th>p2</th>\n",
              "      <th>p3</th>\n",
              "      <th>p4</th>\n",
              "      <th>g1</th>\n",
              "      <th>g2</th>\n",
              "      <th>g3</th>\n",
              "      <th>g4</th>\n",
              "    </tr>\n",
              "  </thead>\n",
              "  <tbody>\n",
              "    <tr>\n",
              "      <th>9953</th>\n",
              "      <td>6.877876</td>\n",
              "      <td>4.113820</td>\n",
              "      <td>9.356768</td>\n",
              "      <td>8.299753</td>\n",
              "      <td>4.056779</td>\n",
              "      <td>-1.897470</td>\n",
              "      <td>-1.590581</td>\n",
              "      <td>-0.568728</td>\n",
              "      <td>0.276567</td>\n",
              "      <td>0.845536</td>\n",
              "      <td>0.112440</td>\n",
              "      <td>0.822562</td>\n",
              "    </tr>\n",
              "    <tr>\n",
              "      <th>3850</th>\n",
              "      <td>5.802841</td>\n",
              "      <td>6.271371</td>\n",
              "      <td>4.731540</td>\n",
              "      <td>3.819867</td>\n",
              "      <td>3.579569</td>\n",
              "      <td>-1.709480</td>\n",
              "      <td>-1.067511</td>\n",
              "      <td>-0.802579</td>\n",
              "      <td>0.077527</td>\n",
              "      <td>0.416478</td>\n",
              "      <td>0.912846</td>\n",
              "      <td>0.861306</td>\n",
              "    </tr>\n",
              "    <tr>\n",
              "      <th>4962</th>\n",
              "      <td>2.286998</td>\n",
              "      <td>4.385142</td>\n",
              "      <td>2.830232</td>\n",
              "      <td>5.293880</td>\n",
              "      <td>3.035814</td>\n",
              "      <td>-1.202764</td>\n",
              "      <td>-0.902011</td>\n",
              "      <td>-0.931039</td>\n",
              "      <td>0.924216</td>\n",
              "      <td>0.130186</td>\n",
              "      <td>0.703887</td>\n",
              "      <td>0.063811</td>\n",
              "    </tr>\n",
              "  </tbody>\n",
              "</table>\n",
              "</div>"
            ],
            "text/plain": [
              "          tau1      tau2      tau3  ...        g2        g3        g4\n",
              "9953  6.877876  4.113820  9.356768  ...  0.845536  0.112440  0.822562\n",
              "3850  5.802841  6.271371  4.731540  ...  0.416478  0.912846  0.861306\n",
              "4962  2.286998  4.385142  2.830232  ...  0.130186  0.703887  0.063811\n",
              "\n",
              "[3 rows x 12 columns]"
            ]
          },
          "metadata": {
            "tags": []
          },
          "execution_count": 71
        }
      ]
    },
    {
      "cell_type": "code",
      "metadata": {
        "id": "dnCwgLyXOJN1"
      },
      "source": [
        "# As instructed we are told to carry out Standard Scaling.\n",
        "# Here we use the Standard Scaler transformation technique\n",
        "\n",
        "from sklearn.preprocessing import StandardScaler\n",
        "scaler = StandardScaler()"
      ],
      "execution_count": null,
      "outputs": []
    },
    {
      "cell_type": "code",
      "metadata": {
        "id": "FurogiKLO6kT"
      },
      "source": [
        "# Transforming the X_train (feature)data\n",
        "\n",
        "transformed_X_train = scaler.fit_transform(X_train)\n",
        "transformed_X_train = pd.DataFrame(transformed_X_train, columns = X_train.columns)"
      ],
      "execution_count": null,
      "outputs": []
    },
    {
      "cell_type": "code",
      "metadata": {
        "id": "sHoTJMR2PK55",
        "colab": {
          "base_uri": "https://localhost:8080/",
          "height": 206
        },
        "outputId": "311481cc-5d35-4bfe-af81-e82d10b0f207"
      },
      "source": [
        "transformed_X_train.head() # after applying transformation on the data"
      ],
      "execution_count": null,
      "outputs": [
        {
          "output_type": "execute_result",
          "data": {
            "text/html": [
              "<div>\n",
              "<style scoped>\n",
              "    .dataframe tbody tr th:only-of-type {\n",
              "        vertical-align: middle;\n",
              "    }\n",
              "\n",
              "    .dataframe tbody tr th {\n",
              "        vertical-align: top;\n",
              "    }\n",
              "\n",
              "    .dataframe thead th {\n",
              "        text-align: right;\n",
              "    }\n",
              "</style>\n",
              "<table border=\"1\" class=\"dataframe\">\n",
              "  <thead>\n",
              "    <tr style=\"text-align: right;\">\n",
              "      <th></th>\n",
              "      <th>tau1</th>\n",
              "      <th>tau2</th>\n",
              "      <th>tau3</th>\n",
              "      <th>tau4</th>\n",
              "      <th>p1</th>\n",
              "      <th>p2</th>\n",
              "      <th>p3</th>\n",
              "      <th>p4</th>\n",
              "      <th>g1</th>\n",
              "      <th>g2</th>\n",
              "      <th>g3</th>\n",
              "      <th>g4</th>\n",
              "    </tr>\n",
              "  </thead>\n",
              "  <tbody>\n",
              "    <tr>\n",
              "      <th>0</th>\n",
              "      <td>0.367327</td>\n",
              "      <td>-0.986042</td>\n",
              "      <td>0.650447</td>\n",
              "      <td>1.547527</td>\n",
              "      <td>-0.291490</td>\n",
              "      <td>0.061535</td>\n",
              "      <td>1.293862</td>\n",
              "      <td>-0.845074</td>\n",
              "      <td>0.160918</td>\n",
              "      <td>0.339859</td>\n",
              "      <td>0.585568</td>\n",
              "      <td>0.492239</td>\n",
              "    </tr>\n",
              "    <tr>\n",
              "      <th>1</th>\n",
              "      <td>-0.064659</td>\n",
              "      <td>0.089437</td>\n",
              "      <td>1.035079</td>\n",
              "      <td>-1.641494</td>\n",
              "      <td>0.619865</td>\n",
              "      <td>-0.067235</td>\n",
              "      <td>-1.502925</td>\n",
              "      <td>0.486613</td>\n",
              "      <td>-0.293143</td>\n",
              "      <td>-1.558488</td>\n",
              "      <td>1.429649</td>\n",
              "      <td>-1.443521</td>\n",
              "    </tr>\n",
              "    <tr>\n",
              "      <th>2</th>\n",
              "      <td>-1.467850</td>\n",
              "      <td>1.298418</td>\n",
              "      <td>-0.502536</td>\n",
              "      <td>1.166046</td>\n",
              "      <td>-0.180521</td>\n",
              "      <td>0.490603</td>\n",
              "      <td>0.682560</td>\n",
              "      <td>-0.855302</td>\n",
              "      <td>1.399350</td>\n",
              "      <td>1.451534</td>\n",
              "      <td>-1.045743</td>\n",
              "      <td>0.492489</td>\n",
              "    </tr>\n",
              "    <tr>\n",
              "      <th>3</th>\n",
              "      <td>0.820081</td>\n",
              "      <td>0.529920</td>\n",
              "      <td>1.299657</td>\n",
              "      <td>-1.141975</td>\n",
              "      <td>-0.812854</td>\n",
              "      <td>-0.763632</td>\n",
              "      <td>1.521579</td>\n",
              "      <td>0.658780</td>\n",
              "      <td>-0.958319</td>\n",
              "      <td>1.361958</td>\n",
              "      <td>1.604140</td>\n",
              "      <td>0.275303</td>\n",
              "    </tr>\n",
              "    <tr>\n",
              "      <th>4</th>\n",
              "      <td>0.665424</td>\n",
              "      <td>-1.425627</td>\n",
              "      <td>0.312300</td>\n",
              "      <td>0.919137</td>\n",
              "      <td>-1.614296</td>\n",
              "      <td>0.760315</td>\n",
              "      <td>1.422019</td>\n",
              "      <td>0.639243</td>\n",
              "      <td>1.676895</td>\n",
              "      <td>0.695660</td>\n",
              "      <td>1.137504</td>\n",
              "      <td>-1.312575</td>\n",
              "    </tr>\n",
              "  </tbody>\n",
              "</table>\n",
              "</div>"
            ],
            "text/plain": [
              "       tau1      tau2      tau3  ...        g2        g3        g4\n",
              "0  0.367327 -0.986042  0.650447  ...  0.339859  0.585568  0.492239\n",
              "1 -0.064659  0.089437  1.035079  ... -1.558488  1.429649 -1.443521\n",
              "2 -1.467850  1.298418 -0.502536  ...  1.451534 -1.045743  0.492489\n",
              "3  0.820081  0.529920  1.299657  ...  1.361958  1.604140  0.275303\n",
              "4  0.665424 -1.425627  0.312300  ...  0.695660  1.137504 -1.312575\n",
              "\n",
              "[5 rows x 12 columns]"
            ]
          },
          "metadata": {
            "tags": []
          },
          "execution_count": 74
        }
      ]
    },
    {
      "cell_type": "code",
      "metadata": {
        "id": "PDZVSanePPLw"
      },
      "source": [
        "# Transforming the X_test (feature)data\n",
        "transformed_X_test = scaler.transform(X_test)\n",
        "transformed_X_test = pd.DataFrame(transformed_X_test, columns = X_test.columns)\n"
      ],
      "execution_count": null,
      "outputs": []
    },
    {
      "cell_type": "code",
      "metadata": {
        "id": "fjYcKd3OPfzD",
        "colab": {
          "base_uri": "https://localhost:8080/",
          "height": 206
        },
        "outputId": "294237ef-68a7-49e8-a543-dd4d19578f65"
      },
      "source": [
        "transformed_X_test.head() # after applying transformation on the data"
      ],
      "execution_count": null,
      "outputs": [
        {
          "output_type": "execute_result",
          "data": {
            "text/html": [
              "<div>\n",
              "<style scoped>\n",
              "    .dataframe tbody tr th:only-of-type {\n",
              "        vertical-align: middle;\n",
              "    }\n",
              "\n",
              "    .dataframe tbody tr th {\n",
              "        vertical-align: top;\n",
              "    }\n",
              "\n",
              "    .dataframe thead th {\n",
              "        text-align: right;\n",
              "    }\n",
              "</style>\n",
              "<table border=\"1\" class=\"dataframe\">\n",
              "  <thead>\n",
              "    <tr style=\"text-align: right;\">\n",
              "      <th></th>\n",
              "      <th>tau1</th>\n",
              "      <th>tau2</th>\n",
              "      <th>tau3</th>\n",
              "      <th>tau4</th>\n",
              "      <th>p1</th>\n",
              "      <th>p2</th>\n",
              "      <th>p3</th>\n",
              "      <th>p4</th>\n",
              "      <th>g1</th>\n",
              "      <th>g2</th>\n",
              "      <th>g3</th>\n",
              "      <th>g4</th>\n",
              "    </tr>\n",
              "  </thead>\n",
              "  <tbody>\n",
              "    <tr>\n",
              "      <th>0</th>\n",
              "      <td>0.593951</td>\n",
              "      <td>-0.412733</td>\n",
              "      <td>1.503924</td>\n",
              "      <td>1.116943</td>\n",
              "      <td>0.403423</td>\n",
              "      <td>-1.492971</td>\n",
              "      <td>-0.785033</td>\n",
              "      <td>1.566781</td>\n",
              "      <td>-0.901007</td>\n",
              "      <td>1.167203</td>\n",
              "      <td>-1.507330</td>\n",
              "      <td>1.084726</td>\n",
              "    </tr>\n",
              "    <tr>\n",
              "      <th>1</th>\n",
              "      <td>0.202190</td>\n",
              "      <td>0.374416</td>\n",
              "      <td>-0.188800</td>\n",
              "      <td>-0.522268</td>\n",
              "      <td>-0.225967</td>\n",
              "      <td>-1.058483</td>\n",
              "      <td>0.420047</td>\n",
              "      <td>1.028627</td>\n",
              "      <td>-1.625721</td>\n",
              "      <td>-0.395660</td>\n",
              "      <td>1.414651</td>\n",
              "      <td>1.226011</td>\n",
              "    </tr>\n",
              "    <tr>\n",
              "      <th>2</th>\n",
              "      <td>-1.079044</td>\n",
              "      <td>-0.313745</td>\n",
              "      <td>-0.884634</td>\n",
              "      <td>0.017080</td>\n",
              "      <td>-0.943122</td>\n",
              "      <td>0.112653</td>\n",
              "      <td>0.801335</td>\n",
              "      <td>0.733004</td>\n",
              "      <td>1.457108</td>\n",
              "      <td>-1.438495</td>\n",
              "      <td>0.651821</td>\n",
              "      <td>-1.682168</td>\n",
              "    </tr>\n",
              "    <tr>\n",
              "      <th>3</th>\n",
              "      <td>-0.083120</td>\n",
              "      <td>-1.107327</td>\n",
              "      <td>0.372805</td>\n",
              "      <td>-1.708152</td>\n",
              "      <td>0.753990</td>\n",
              "      <td>-1.637972</td>\n",
              "      <td>0.403805</td>\n",
              "      <td>-0.088036</td>\n",
              "      <td>0.083322</td>\n",
              "      <td>-1.672322</td>\n",
              "      <td>-0.357714</td>\n",
              "      <td>1.055865</td>\n",
              "    </tr>\n",
              "    <tr>\n",
              "      <th>4</th>\n",
              "      <td>0.873921</td>\n",
              "      <td>1.438466</td>\n",
              "      <td>0.086662</td>\n",
              "      <td>1.715037</td>\n",
              "      <td>-0.153880</td>\n",
              "      <td>-0.007015</td>\n",
              "      <td>-0.197053</td>\n",
              "      <td>0.472315</td>\n",
              "      <td>0.136549</td>\n",
              "      <td>-1.469731</td>\n",
              "      <td>0.956396</td>\n",
              "      <td>-0.819727</td>\n",
              "    </tr>\n",
              "  </tbody>\n",
              "</table>\n",
              "</div>"
            ],
            "text/plain": [
              "       tau1      tau2      tau3  ...        g2        g3        g4\n",
              "0  0.593951 -0.412733  1.503924  ...  1.167203 -1.507330  1.084726\n",
              "1  0.202190  0.374416 -0.188800  ... -0.395660  1.414651  1.226011\n",
              "2 -1.079044 -0.313745 -0.884634  ... -1.438495  0.651821 -1.682168\n",
              "3 -0.083120 -1.107327  0.372805  ... -1.672322 -0.357714  1.055865\n",
              "4  0.873921  1.438466  0.086662  ... -1.469731  0.956396 -0.819727\n",
              "\n",
              "[5 rows x 12 columns]"
            ]
          },
          "metadata": {
            "tags": []
          },
          "execution_count": 76
        }
      ]
    },
    {
      "cell_type": "markdown",
      "metadata": {
        "id": "_9qzuaGBPs6j"
      },
      "source": [
        "# **Now the Data is ready for the Quiz**"
      ]
    },
    {
      "cell_type": "markdown",
      "metadata": {
        "id": "-boKohsFTYR5"
      },
      "source": [
        ""
      ]
    },
    {
      "cell_type": "markdown",
      "metadata": {
        "id": "u9XC-KK7RTQm"
      },
      "source": [
        "# **Question 1**\n",
        "\n",
        "## What is the F1 Score of the Classifier?"
      ]
    },
    {
      "cell_type": "code",
      "metadata": {
        "id": "mtcFPy1nRgNu",
        "colab": {
          "base_uri": "https://localhost:8080/",
          "height": 35
        },
        "outputId": "c55e8ee3-7aca-428e-fc55-0e131f984263"
      },
      "source": [
        "# Given total instances (n) = 2000\n",
        "# F1 is given as 2 * (Precision*Recall)/(Precision + Recall)\n",
        "# From the confusion matrix we have;\n",
        "\n",
        "Precision = (355/ ( 355+1480)) \n",
        "Recall =  (355 /(355+45)) \n",
        "F1_Score = 2 * (Precision*Recall)/(Precision + Recall)\n",
        "print(round(F1_Score,4))"
      ],
      "execution_count": null,
      "outputs": [
        {
          "output_type": "stream",
          "text": [
            "0.3177\n"
          ],
          "name": "stdout"
        }
      ]
    },
    {
      "cell_type": "markdown",
      "metadata": {
        "id": "nnkj0jCXVxcz"
      },
      "source": [
        "## **Question 2**\n",
        "\n",
        "## What method can we use to best fit a data in Logistic Regression?\n",
        "\n",
        "\n",
        "**Answer:** Maximum Likelihood # Just as Least Square Error is to Linear Regression, Maximum Likelihood is to Logistic Regression"
      ]
    },
    {
      "cell_type": "markdown",
      "metadata": {
        "id": "C58y45ScB7Zg"
      },
      "source": [
        "# **Question 3**\n",
        "\n",
        "## Why do we use weak learners in Boosting?\n",
        "\n",
        "**Answer:** To Prevent Overfitting"
      ]
    },
    {
      "cell_type": "markdown",
      "metadata": {
        "id": "vb1nG7g7B2iH"
      },
      "source": [
        "## **Question 4**\n",
        "\n",
        "\n",
        "## Which Confusion matrix represents the model that satisfies the requirement?\n"
      ]
    },
    {
      "cell_type": "markdown",
      "metadata": {
        "id": "eDRfSdh2LbmR"
      },
      "source": [
        " We have from the information that A False positive result is five times more expensive than A False negative.\n",
        "\n",
        "#### ***Conditions given were;***\n",
        "#### Must have a recall rate of at least 80%\n",
        "#### Must have a false postive rate of 10% or less\n",
        "#### Must minimize buisness cost.\n",
        "\n",
        "## **Answer:** TN = 98%, FP = 2%, FN = 18%, TP = 82%"
      ]
    },
    {
      "cell_type": "code",
      "metadata": {
        "id": "DyHO7fA3DQ7L"
      },
      "source": [
        "# remember that Recall is given as TP / TP+FN\n",
        "\n",
        "# for condtion 1, TN = 98%, FP = 2%, FN = 18%, TP = 82%\n",
        "#Recall = TP/TP+FN = 82/82+18 = 0.82 which is above 80%....\n",
        "\n",
        "# Condition 2, The FP here is 2% which meets this condition.....\n",
        "\n",
        "# Condition 3, to confirm if it minimizes business cost, we were told FP is 5*FN\n",
        "# FP*5 = 2*5 = 10% which gives the smallest compared to the other options.\n"
      ],
      "execution_count": null,
      "outputs": []
    },
    {
      "cell_type": "markdown",
      "metadata": {
        "id": "mVIjgTa7Mh9R"
      },
      "source": [
        "# **Question 5**\n",
        "\n",
        "**Answer:** Boosting\n"
      ]
    },
    {
      "cell_type": "markdown",
      "metadata": {
        "id": "0Ms1-z6oNwSE"
      },
      "source": [
        "# **Question 6**\n",
        "\n",
        "## Which of the following is not an Ensemble model?\n",
        "\n",
        "**Answer:** Decision Tree      \n",
        "In case of decision tree, we build a single tree and no ensembling is required."
      ]
    },
    {
      "cell_type": "markdown",
      "metadata": {
        "id": "9nKEaYeqPe0k"
      },
      "source": [
        "# **Question 7**\n",
        "\n",
        "## Metric to evaluate classifier ( Whether Fraudulent or not)\n",
        "\n",
        "**Answer:** Recall"
      ]
    },
    {
      "cell_type": "markdown",
      "metadata": {
        "id": "9lO8FOThQKxS"
      },
      "source": [
        "# **Question 8**\n",
        "\n",
        "## The ROC curve above was generated from a classification algorithm. What can we say about this classifier?\n",
        "\n",
        "**Answer:** The model has no discrimination capacity to differentiate between the positive and the negative class"
      ]
    },
    {
      "cell_type": "markdown",
      "metadata": {
        "id": "ZiSnaGYCQuuy"
      },
      "source": [
        "# **Question 9**\n",
        "\n",
        "## Based on the matrix, which number was predicted with the least accuracy?\n",
        "\n",
        "**Answer:** 8"
      ]
    },
    {
      "cell_type": "markdown",
      "metadata": {
        "id": "WPtrl3Z0Quen"
      },
      "source": [
        "# **Question 10**\n",
        "\n",
        "##  The resulting model has 90% accuracy, but extremely poor recall. What steps can be used to improve the model's performance? (SELECT TWO OPTIONS)\n",
        "\n",
        "**Answer:**\n",
        "\n",
        "Over-sample instances from the negative (no cancer) class\n",
        "\n",
        "Generate synthetic samples/data using SMOTE\n"
      ]
    },
    {
      "cell_type": "markdown",
      "metadata": {
        "id": "xKSD4rmSQuOc"
      },
      "source": [
        "# **Question 11**\n",
        "\n",
        "## You are developing a machine learning classification algorithm that categorizes handwritten digits 0-9 into the numbers they represent. How should you pre-process the label data\n",
        "\n",
        "**Answer:** One-hot encoding"
      ]
    },
    {
      "cell_type": "markdown",
      "metadata": {
        "id": "2bMu2lg2Qt_E"
      },
      "source": [
        "# **Question 12**\n",
        "\n",
        "## What is the entropy of the target variable if its actual values are given as:\n",
        "\n",
        "## [1,0,1,1,0,1,0]\n",
        "\n",
        "\n",
        "**Answer:** **- 3/7 log(3/7) - 4/7 log(4/7)**\n",
        "\n",
        "### given we have a total number of 7 observations (3 Zeros and 4 Ones)\n",
        "### Entropy is given as -E p(x)*log p(x) \n",
        "### inputing that formula gives us  = - 3/7 log(3/7) - 4/7 log(4/7)"
      ]
    },
    {
      "cell_type": "markdown",
      "metadata": {
        "id": "nA4kUnuPUSt4"
      },
      "source": [
        "# **Question 13**\n",
        "\n",
        "## Which of this is not a good metric for evaluating classification algorithms for data with imbalanced class problems?\n",
        "\n",
        "**Answer:** **Accuracy**\n",
        "\n",
        "#### A high accuracy doesn't mean the model has a high predicting power,as a result it is important not to soley depend on the accuracy metric because it doesnt provide enough info about the model."
      ]
    },
    {
      "cell_type": "markdown",
      "metadata": {
        "id": "jrbcxQ3vQt2D"
      },
      "source": [
        "\n",
        "# **Question 14**\n",
        "\n",
        "### What is the accuracy on the test set using the random forest classifier? In 4 decimal places.\n",
        "\n",
        "\n",
        "**Answer:** 0.9295\n"
      ]
    },
    {
      "cell_type": "code",
      "metadata": {
        "id": "6koO5jB-Vr-g",
        "colab": {
          "base_uri": "https://localhost:8080/",
          "height": 162
        },
        "outputId": "87383071-70ac-4835-c34d-6910691d1a99"
      },
      "source": [
        "from sklearn.ensemble import RandomForestClassifier  # importing our classifier and fitting in the the training data\n",
        "Random_C = RandomForestClassifier(random_state=1)\n",
        "Random_C.fit(transformed_X_train,y_train)\n"
      ],
      "execution_count": null,
      "outputs": [
        {
          "output_type": "execute_result",
          "data": {
            "text/plain": [
              "RandomForestClassifier(bootstrap=True, ccp_alpha=0.0, class_weight=None,\n",
              "                       criterion='gini', max_depth=None, max_features='auto',\n",
              "                       max_leaf_nodes=None, max_samples=None,\n",
              "                       min_impurity_decrease=0.0, min_impurity_split=None,\n",
              "                       min_samples_leaf=1, min_samples_split=2,\n",
              "                       min_weight_fraction_leaf=0.0, n_estimators=100,\n",
              "                       n_jobs=None, oob_score=False, random_state=1, verbose=0,\n",
              "                       warm_start=False)"
            ]
          },
          "metadata": {
            "tags": []
          },
          "execution_count": 79
        }
      ]
    },
    {
      "cell_type": "code",
      "metadata": {
        "id": "1qD2ShkKWPEN"
      },
      "source": [
        "predict = Random_C.predict(transformed_X_test)"
      ],
      "execution_count": null,
      "outputs": []
    },
    {
      "cell_type": "code",
      "metadata": {
        "id": "dJzCDEePWXgn",
        "colab": {
          "base_uri": "https://localhost:8080/",
          "height": 90
        },
        "outputId": "c9ec94e1-3fab-4a98-f9ff-a46aba492506"
      },
      "source": [
        "from sklearn.metrics import recall_score, accuracy_score, precision_score, f1_score, confusion_matrix\n",
        "\n",
        "print(\"Accuracy score {}\".format(round(accuracy_score(y_test, predict), 4)))\n",
        "print(\"Precision score for label stable %.3f\" % (precision_score(y_test, predict, pos_label='stable')))\n",
        "print(\"Recall score for label stable {}\".format(round(recall_score(y_test, predict, pos_label='stable'), 4)))\n",
        "print(\"F1 score %.3f\" % (f1_score(y_test, predict, pos_label='stable')))"
      ],
      "execution_count": null,
      "outputs": [
        {
          "output_type": "stream",
          "text": [
            "Accuracy score 0.929\n",
            "Precision score for label stable 0.919\n",
            "Recall score for label stable 0.8778\n",
            "F1 score 0.898\n"
          ],
          "name": "stdout"
        }
      ]
    },
    {
      "cell_type": "markdown",
      "metadata": {
        "id": "jsrN8_JYQtsm"
      },
      "source": [
        "# **Question 15**\n",
        "\n",
        "## What is the accuracy on the test set using the xgboost classifier? In 4 decimal places.\n",
        "\n",
        "**Answer:** 0.9195\n",
        "\n"
      ]
    },
    {
      "cell_type": "code",
      "metadata": {
        "id": "bumo8H6tXPJ5"
      },
      "source": [
        "#xgboost\n",
        "from xgboost import XGBClassifier\n",
        "extreme = XGBClassifier(random_state =1)\n",
        "extreme.fit(transformed_X_train, y_train)\n",
        "extreme_pred = extreme.predict(transformed_X_test)"
      ],
      "execution_count": null,
      "outputs": []
    },
    {
      "cell_type": "code",
      "metadata": {
        "id": "tyk0Md8YXQ5r",
        "colab": {
          "base_uri": "https://localhost:8080/",
          "height": 181
        },
        "outputId": "8e9832a5-885d-45c1-dc54-b13bcc70c873"
      },
      "source": [
        "#classification report\n",
        "from sklearn.metrics import classification_report\n",
        "\n",
        "print(classification_report(y_test, extreme_pred))"
      ],
      "execution_count": null,
      "outputs": [
        {
          "output_type": "stream",
          "text": [
            "              precision    recall  f1-score   support\n",
            "\n",
            "      stable       0.92      0.85      0.88       712\n",
            "    unstable       0.92      0.96      0.94      1288\n",
            "\n",
            "    accuracy                           0.92      2000\n",
            "   macro avg       0.92      0.90      0.91      2000\n",
            "weighted avg       0.92      0.92      0.92      2000\n",
            "\n"
          ],
          "name": "stdout"
        }
      ]
    },
    {
      "cell_type": "code",
      "metadata": {
        "id": "vrTxSSJHXnDH",
        "colab": {
          "base_uri": "https://localhost:8080/",
          "height": 35
        },
        "outputId": "06bc62c5-1b9a-46e4-9e5b-58cef683eac5"
      },
      "source": [
        "round(accuracy_score(y_test,extreme_pred),4) # Giving our accuracy using Xgboost classifier in 4DP"
      ],
      "execution_count": null,
      "outputs": [
        {
          "output_type": "execute_result",
          "data": {
            "text/plain": [
              "0.9195"
            ]
          },
          "metadata": {
            "tags": []
          },
          "execution_count": 84
        }
      ]
    },
    {
      "cell_type": "markdown",
      "metadata": {
        "id": "ocf8mgM6QtjT"
      },
      "source": [
        "# **Question 16**\n",
        "\n",
        "## What is the accuracy on the test set using the LGBM classifier? In 4 decimalplaces.\n",
        "\n",
        "**Answer:** 0.9375\n"
      ]
    },
    {
      "cell_type": "code",
      "metadata": {
        "id": "zayyMu3hXeo9"
      },
      "source": [
        "import lightgbm as lgbm"
      ],
      "execution_count": null,
      "outputs": []
    },
    {
      "cell_type": "code",
      "metadata": {
        "id": "ZoTCNV3FWXW2"
      },
      "source": [
        "lgbm = lgbm.LGBMClassifier(random_state=1)\n",
        "lgbm.fit(transformed_X_train,y_train)\n",
        "lgbm_predict  = lgbm.predict(transformed_X_test)"
      ],
      "execution_count": null,
      "outputs": []
    },
    {
      "cell_type": "code",
      "metadata": {
        "id": "ICwu8opqWO5h",
        "colab": {
          "base_uri": "https://localhost:8080/",
          "height": 35
        },
        "outputId": "cc7b48f9-e31f-4ab6-a12c-3244f10c1dca"
      },
      "source": [
        "round(accuracy_score(y_test, lgbm_predict),4) # giving our value of accuracy in 4DP"
      ],
      "execution_count": null,
      "outputs": [
        {
          "output_type": "execute_result",
          "data": {
            "text/plain": [
              "0.9375"
            ]
          },
          "metadata": {
            "tags": []
          },
          "execution_count": 87
        }
      ]
    },
    {
      "cell_type": "markdown",
      "metadata": {
        "id": "JoYcX798Qtax"
      },
      "source": [
        "# **Question 17**\n",
        "\n",
        "## Using the ExtraTreesClassifier as your estimator with cv=5, n_iter=10, scoring = 'accuracy', n_jobs = -1, verbose = 1 and random_state = 1. What are the best hyperparameters from the randomized search CV?\n",
        "\n",
        "\n",
        "**Answer:** N_estimators = 1000 , min_samples_split = 2 , min_samples_leaf = 8, max_features = None\n"
      ]
    },
    {
      "cell_type": "code",
      "metadata": {
        "id": "57MpIIFdZQF2"
      },
      "source": [
        "from sklearn.ensemble import ExtraTreesClassifier\n",
        "\n",
        "Tree_CLass = ExtraTreesClassifier (random_state = 1)   # recall random state of 1 was used throughout the quiz"
      ],
      "execution_count": null,
      "outputs": []
    },
    {
      "cell_type": "code",
      "metadata": {
        "id": "iZka4dqfY09S"
      },
      "source": [
        "n_estimators = [50, 100, 300, 500, 1000]    # Given we are to use this parameters to answer the question\n",
        "\n",
        "min_samples_split = [2, 3, 5, 7, 9]\n",
        "\n",
        "min_samples_leaf = [1, 2, 4, 6, 8]\n",
        "\n",
        "max_features = ['auto', 'sqrt', 'log2', None] \n",
        "\n",
        "hyperparameter_grid = {'n_estimators': n_estimators,\n",
        "\n",
        "                       'min_samples_leaf': min_samples_leaf,\n",
        "\n",
        "                       'min_samples_split': min_samples_split,\n",
        "\n",
        "                       'max_features': max_features}"
      ],
      "execution_count": null,
      "outputs": []
    },
    {
      "cell_type": "code",
      "metadata": {
        "id": "w4t4Qh1uZQl4"
      },
      "source": [
        "from sklearn.model_selection import RandomizedSearchCV     # importing RandomizedSearchCV as instructed for the quiz"
      ],
      "execution_count": null,
      "outputs": []
    },
    {
      "cell_type": "code",
      "metadata": {
        "id": "zmIVlq_8gRcd"
      },
      "source": [
        "# According to the parameters given to instantiate\n",
        "\n",
        "Rand_search = RandomizedSearchCV(estimator = Tree_CLass, param_distributions= hyperparameter_grid, random_state=1,cv = 5, n_iter=10,scoring='accuracy',n_jobs=1, verbose=1)"
      ],
      "execution_count": null,
      "outputs": []
    },
    {
      "cell_type": "code",
      "metadata": {
        "id": "ixVS_ZF2ZQa8",
        "colab": {
          "base_uri": "https://localhost:8080/",
          "height": 72
        },
        "outputId": "cac1ce3e-aca3-4501-e8a2-3e9ced7bc485"
      },
      "source": [
        "search = Rand_search.fit(transformed_X_train,y_train)     # fitting in the parameters into the training data\n"
      ],
      "execution_count": null,
      "outputs": [
        {
          "output_type": "stream",
          "text": [
            "Fitting 5 folds for each of 10 candidates, totalling 50 fits\n"
          ],
          "name": "stdout"
        },
        {
          "output_type": "stream",
          "text": [
            "[Parallel(n_jobs=1)]: Using backend SequentialBackend with 1 concurrent workers.\n",
            "[Parallel(n_jobs=1)]: Done  50 out of  50 | elapsed:  1.9min finished\n"
          ],
          "name": "stderr"
        }
      ]
    },
    {
      "cell_type": "code",
      "metadata": {
        "id": "72X_UaDZaTxP",
        "colab": {
          "base_uri": "https://localhost:8080/",
          "height": 90
        },
        "outputId": "8720482d-435d-4e29-ee61-535ae3824438"
      },
      "source": [
        "#checking for the best parameter for the model\n",
        "search.best_params_"
      ],
      "execution_count": null,
      "outputs": [
        {
          "output_type": "execute_result",
          "data": {
            "text/plain": [
              "{'max_features': None,\n",
              " 'min_samples_leaf': 8,\n",
              " 'min_samples_split': 2,\n",
              " 'n_estimators': 1000}"
            ]
          },
          "metadata": {
            "tags": []
          },
          "execution_count": 93
        }
      ]
    },
    {
      "cell_type": "markdown",
      "metadata": {
        "id": "7_nNP51iQtTZ"
      },
      "source": [
        "# **Question 18**\n",
        "\n",
        "## Train a new ExtraTreesClassifier Model with the new Hyperparameters from the RandomizedSearchCV (with random_state = 1). Is the accuracy of the new optimal model higher or lower than the initial ExtraTreesClassifier model with no hyperparameter tuning?\n",
        "\n",
        "\n",
        " **Answer:** Lower\n",
        "\n"
      ]
    },
    {
      "cell_type": "code",
      "metadata": {
        "id": "p1H6Qq4PdTbQ"
      },
      "source": [
        "#experimenting with this generated parameter to test the model's performance\n",
        "best_Tree_Class = ExtraTreesClassifier(n_estimators=1000, min_samples_split=2, \n",
        "                                 min_samples_leaf=8, max_features=None)\n",
        "best_Tree_Class.fit(transformed_X_train, y_train)\n",
        "best_Tree_Class = best_Tree_Class.predict(transformed_X_test)"
      ],
      "execution_count": null,
      "outputs": []
    },
    {
      "cell_type": "code",
      "metadata": {
        "id": "ltt_2FZMdgjg",
        "colab": {
          "base_uri": "https://localhost:8080/",
          "height": 235
        },
        "outputId": "338ee758-95e9-4ca6-a2fc-1b89740541e9"
      },
      "source": [
        "print(classification_report(y_test,best_Tree_Class, digits=4)) #  adding digits = 4 is to get my answer in 4dp.\n",
        "print('\\n')\n",
        "print(\"Accuracy score {}\".format(accuracy_score(y_test, best_Tree_Class)))"
      ],
      "execution_count": null,
      "outputs": [
        {
          "output_type": "stream",
          "text": [
            "              precision    recall  f1-score   support\n",
            "\n",
            "      stable     0.9202    0.8750    0.8970       712\n",
            "    unstable     0.9327    0.9581    0.9452      1288\n",
            "\n",
            "    accuracy                         0.9285      2000\n",
            "   macro avg     0.9265    0.9165    0.9211      2000\n",
            "weighted avg     0.9283    0.9285    0.9281      2000\n",
            "\n",
            "\n",
            "\n",
            "Accuracy score 0.9285\n"
          ],
          "name": "stdout"
        }
      ]
    },
    {
      "cell_type": "code",
      "metadata": {
        "id": "jfPXQjmRdgT1",
        "colab": {
          "base_uri": "https://localhost:8080/",
          "height": 181
        },
        "outputId": "ece00297-fc3d-4972-f8ba-5b783541c174"
      },
      "source": [
        "# COMPARING THIS RESULT WITH THE ORIGINAL EXTRA-TREE CLASSIFER WITHOUT TUNING\n",
        "\n",
        "Tree_CLass.fit(transformed_X_train,y_train)\n",
        "Tree_predict = Tree_CLass.predict(transformed_X_test)\n",
        "\n",
        "print(classification_report(y_test,Tree_predict))   # We can see here that the accuracy of the previous (New Optimal Model) is Lower than that without Hyperparameter Tuning\n",
        "\n"
      ],
      "execution_count": null,
      "outputs": [
        {
          "output_type": "stream",
          "text": [
            "              precision    recall  f1-score   support\n",
            "\n",
            "      stable       0.94      0.85      0.89       712\n",
            "    unstable       0.92      0.97      0.95      1288\n",
            "\n",
            "    accuracy                           0.93      2000\n",
            "   macro avg       0.93      0.91      0.92      2000\n",
            "weighted avg       0.93      0.93      0.93      2000\n",
            "\n"
          ],
          "name": "stdout"
        }
      ]
    },
    {
      "cell_type": "markdown",
      "metadata": {
        "id": "RikhDAXXQtMY"
      },
      "source": [
        "# **Question 19**\n",
        "\n",
        "## What other hyperparameter optimization methods can you try apart from Random Search?\n",
        "\n",
        "\n",
        "**Answer:** All of the above\n",
        "\n",
        "#### Bayesian Optimization as well as Grid Search are some of the hyperparameter optimization methods available."
      ]
    },
    {
      "cell_type": "markdown",
      "metadata": {
        "id": "uGivHK21QtFG"
      },
      "source": [
        "# **Question 20**\n",
        "\n",
        "\n",
        "## Find the feature importance using the optimal ExtraTreesClassifier model. Which features are the most and least important respectively?\n",
        "\n",
        "\n",
        "**Answer:**  tau2, p1\n"
      ]
    },
    {
      "cell_type": "code",
      "metadata": {
        "id": "9nK8TVKhdgEY",
        "colab": {
          "base_uri": "https://localhost:8080/",
          "height": 72
        },
        "outputId": "e2f37b3a-8644-49d6-de20-8b2146003f69"
      },
      "source": [
        "\n",
        "feature_importance = search.best_estimator_.feature_importances_\n",
        "print ('Feature Importance :\\n', feature_importance)  # using this code we are able to generate the feature importance  using the \"best_estimator_\""
      ],
      "execution_count": null,
      "outputs": [
        {
          "output_type": "stream",
          "text": [
            "Feature Importance :\n",
            " [0.13723975 0.1405075  0.13468029 0.13541676 0.00368342 0.00533686\n",
            " 0.00542927 0.00496249 0.10256244 0.10757765 0.11306268 0.10954089]\n"
          ],
          "name": "stdout"
        }
      ]
    },
    {
      "cell_type": "code",
      "metadata": {
        "id": "Py9rCnygdfoI",
        "colab": {
          "base_uri": "https://localhost:8080/",
          "height": 235
        },
        "outputId": "23ecd0b1-00c3-4fe4-ca56-0c8d4b88de4c"
      },
      "source": [
        "sorted (zip(feature_importance,X), reverse = True)  # the zip function helps us to map the values to their corresponding column names (Features)\n"
      ],
      "execution_count": null,
      "outputs": [
        {
          "output_type": "execute_result",
          "data": {
            "text/plain": [
              "[(0.14050750384993677, 'tau2'),\n",
              " (0.13723974766109256, 'tau1'),\n",
              " (0.1354167630909727, 'tau4'),\n",
              " (0.13468028520386593, 'tau3'),\n",
              " (0.11306267999167334, 'g3'),\n",
              " (0.10954089174337298, 'g4'),\n",
              " (0.10757764577478764, 'g2'),\n",
              " (0.10256244080927947, 'g1'),\n",
              " (0.005429268421191957, 'p3'),\n",
              " (0.005336864710946151, 'p2'),\n",
              " (0.004962486591192238, 'p4'),\n",
              " (0.003683422151688322, 'p1')]"
            ]
          },
          "metadata": {
            "tags": []
          },
          "execution_count": 98
        }
      ]
    },
    {
      "cell_type": "markdown",
      "metadata": {
        "id": "ekv82LN7Qslp"
      },
      "source": [
        "We can see here that the most important feature is  \"tau2\"  while that of the least important feature is \"p1\""
      ]
    },
    {
      "cell_type": "markdown",
      "metadata": {
        "id": "yxHkljZOontK"
      },
      "source": [
        "# **THANk YOU !!! **"
      ]
    },
    {
      "cell_type": "code",
      "metadata": {
        "id": "4gFG67U7pJvm"
      },
      "source": [
        ""
      ],
      "execution_count": null,
      "outputs": []
    }
  ]
}